{
 "cells": [
  {
   "cell_type": "markdown",
   "id": "4fc4e4c8",
   "metadata": {},
   "source": [
    "## Task 1"
   ]
  },
  {
   "cell_type": "code",
   "execution_count": 1,
   "id": "e6f1ebfc",
   "metadata": {},
   "outputs": [],
   "source": [
    "import pandas as pd\n",
    "import numpy as np\n",
    "import matplotlib.pyplot as plt\n",
    "import seaborn as sns\n",
    "from scipy import stats\n"
   ]
  },
  {
   "cell_type": "code",
   "execution_count": 2,
   "id": "0808f272",
   "metadata": {},
   "outputs": [
    {
     "data": {
      "text/html": [
       "<div>\n",
       "<style scoped>\n",
       "    .dataframe tbody tr th:only-of-type {\n",
       "        vertical-align: middle;\n",
       "    }\n",
       "\n",
       "    .dataframe tbody tr th {\n",
       "        vertical-align: top;\n",
       "    }\n",
       "\n",
       "    .dataframe thead th {\n",
       "        text-align: right;\n",
       "    }\n",
       "</style>\n",
       "<table border=\"1\" class=\"dataframe\">\n",
       "  <thead>\n",
       "    <tr style=\"text-align: right;\">\n",
       "      <th></th>\n",
       "      <th>id</th>\n",
       "      <th>age</th>\n",
       "      <th>gender</th>\n",
       "      <th>height</th>\n",
       "      <th>weight</th>\n",
       "      <th>ap_hi</th>\n",
       "      <th>ap_lo</th>\n",
       "      <th>cholesterol</th>\n",
       "      <th>gluc</th>\n",
       "      <th>smoke</th>\n",
       "      <th>alco</th>\n",
       "      <th>active</th>\n",
       "      <th>cardio</th>\n",
       "    </tr>\n",
       "  </thead>\n",
       "  <tbody>\n",
       "    <tr>\n",
       "      <th>0</th>\n",
       "      <td>92150</td>\n",
       "      <td>20535.0</td>\n",
       "      <td>NaN</td>\n",
       "      <td>163.0</td>\n",
       "      <td>75.0</td>\n",
       "      <td>120.0</td>\n",
       "      <td>NaN</td>\n",
       "      <td>NaN</td>\n",
       "      <td>Normal</td>\n",
       "      <td>0.0</td>\n",
       "      <td>0.0</td>\n",
       "      <td>1.0</td>\n",
       "      <td>0</td>\n",
       "    </tr>\n",
       "    <tr>\n",
       "      <th>1</th>\n",
       "      <td>88880</td>\n",
       "      <td>16125.0</td>\n",
       "      <td>Men</td>\n",
       "      <td>168.0</td>\n",
       "      <td>68.0</td>\n",
       "      <td>110.0</td>\n",
       "      <td>70.0</td>\n",
       "      <td>NaN</td>\n",
       "      <td>NaN</td>\n",
       "      <td>0.0</td>\n",
       "      <td>0.0</td>\n",
       "      <td>NaN</td>\n",
       "      <td>0</td>\n",
       "    </tr>\n",
       "    <tr>\n",
       "      <th>2</th>\n",
       "      <td>10483</td>\n",
       "      <td>19761.0</td>\n",
       "      <td>NaN</td>\n",
       "      <td>170.0</td>\n",
       "      <td>75.0</td>\n",
       "      <td>120.0</td>\n",
       "      <td>NaN</td>\n",
       "      <td>NaN</td>\n",
       "      <td>Normal</td>\n",
       "      <td>0.0</td>\n",
       "      <td>0.0</td>\n",
       "      <td>1.0</td>\n",
       "      <td>1</td>\n",
       "    </tr>\n",
       "    <tr>\n",
       "      <th>3</th>\n",
       "      <td>22798</td>\n",
       "      <td>19035.0</td>\n",
       "      <td>Men</td>\n",
       "      <td>NaN</td>\n",
       "      <td>89.0</td>\n",
       "      <td>NaN</td>\n",
       "      <td>80.0</td>\n",
       "      <td>Normal</td>\n",
       "      <td>NaN</td>\n",
       "      <td>0.0</td>\n",
       "      <td>NaN</td>\n",
       "      <td>NaN</td>\n",
       "      <td>0</td>\n",
       "    </tr>\n",
       "    <tr>\n",
       "      <th>4</th>\n",
       "      <td>85542</td>\n",
       "      <td>NaN</td>\n",
       "      <td>NaN</td>\n",
       "      <td>158.0</td>\n",
       "      <td>74.0</td>\n",
       "      <td>NaN</td>\n",
       "      <td>93.0</td>\n",
       "      <td>High</td>\n",
       "      <td>NaN</td>\n",
       "      <td>0.0</td>\n",
       "      <td>1.0</td>\n",
       "      <td>1.0</td>\n",
       "      <td>1</td>\n",
       "    </tr>\n",
       "  </tbody>\n",
       "</table>\n",
       "</div>"
      ],
      "text/plain": [
       "      id      age gender  height  weight  ap_hi  ap_lo cholesterol    gluc  \\\n",
       "0  92150  20535.0    NaN   163.0    75.0  120.0    NaN         NaN  Normal   \n",
       "1  88880  16125.0    Men   168.0    68.0  110.0   70.0         NaN     NaN   \n",
       "2  10483  19761.0    NaN   170.0    75.0  120.0    NaN         NaN  Normal   \n",
       "3  22798  19035.0    Men     NaN    89.0    NaN   80.0      Normal     NaN   \n",
       "4  85542      NaN    NaN   158.0    74.0    NaN   93.0        High     NaN   \n",
       "\n",
       "   smoke  alco  active  cardio  \n",
       "0    0.0   0.0     1.0       0  \n",
       "1    0.0   0.0     NaN       0  \n",
       "2    0.0   0.0     1.0       1  \n",
       "3    0.0   NaN     NaN       0  \n",
       "4    0.0   1.0     1.0       1  "
      ]
     },
     "execution_count": 2,
     "metadata": {},
     "output_type": "execute_result"
    }
   ],
   "source": [
    "cardio_data_train = pd.read_csv(\"cardio-train.csv\", sep = \";\")\n",
    "cardio_data_train.head()"
   ]
  },
  {
   "cell_type": "code",
   "execution_count": 3,
   "id": "9e214eb4",
   "metadata": {},
   "outputs": [
    {
     "name": "stdout",
     "output_type": "stream",
     "text": [
      "Number of features in the cardio data:  13\n",
      "Features: \n",
      "----------\n",
      "id -----> id\n",
      "age -----> Age(days)\n",
      "gender -----> Gender\n",
      "height -----> Height(cm)\n",
      "weight -----> Weight(kg)\n",
      "ap_hi -----> Systolic blood pressure\n",
      "ap_lo -----> Diastolic blood pressure\n",
      "cholesterol -----> Cholesterol\n",
      "gluc -----> Glucose\n",
      "smoke -----> Smoking\n",
      "alco -----> Alcohol intake\n",
      "active -----> Physical activity\n",
      "cardio -----> Presence(1) or absence(0) of cardiovascular disease (Target Variable)\n"
     ]
    }
   ],
   "source": [
    "print(\"Number of features in the cardio data: \",len(cardio_data_train.columns))\n",
    "print(\"Features: \")\n",
    "print(\"-\"*10)\n",
    "features_desc_from_kaggle = [\"id\",\"Age(days)\", \"Gender\",\"Height(cm)\", \"Weight(kg)\", \"Systolic blood pressure\", \\\n",
    " \"Diastolic blood pressure\", \"Cholesterol\", \"Glucose\", \"Smoking\" ,\\\n",
    " \"Alcohol intake\", \"Physical activity\", \"Presence(1) or absence(0) of cardiovascular disease (Target Variable)\"]\n",
    "\n",
    "\n",
    "for i in range(len(cardio_data_train.columns)):\n",
    "    print(cardio_data_train.columns[i]+\" -----> \"+features_desc_from_kaggle[i])"
   ]
  },
  {
   "cell_type": "markdown",
   "id": "515c8647",
   "metadata": {},
   "source": [
    "#### 1. Identify the dataset columns into nominal, categorical, continues etc. categories"
   ]
  },
  {
   "cell_type": "markdown",
   "id": "8e6a4ac4",
   "metadata": {},
   "source": [
    "- **Nominal (Categorical) features** : gender, cholesterol, gluc, smoke, alco, active\n",
    "- **Numeric (Continuous) Features** : age, height, weight, ap_hi, ap_lo\n",
    "- **Target variable** : cardio"
   ]
  },
  {
   "cell_type": "markdown",
   "id": "f537f46d",
   "metadata": {},
   "source": [
    "#### 2. Use dataframe.info and dataframe.describe to get the insights about the data."
   ]
  },
  {
   "cell_type": "code",
   "execution_count": 4,
   "id": "0346b5af",
   "metadata": {},
   "outputs": [
    {
     "name": "stdout",
     "output_type": "stream",
     "text": [
      "<class 'pandas.core.frame.DataFrame'>\n",
      "RangeIndex: 500 entries, 0 to 499\n",
      "Data columns (total 13 columns):\n",
      " #   Column       Non-Null Count  Dtype  \n",
      "---  ------       --------------  -----  \n",
      " 0   id           500 non-null    int64  \n",
      " 1   age          335 non-null    float64\n",
      " 2   gender       329 non-null    object \n",
      " 3   height       198 non-null    float64\n",
      " 4   weight       336 non-null    float64\n",
      " 5   ap_hi        347 non-null    float64\n",
      " 6   ap_lo        332 non-null    float64\n",
      " 7   cholesterol  333 non-null    object \n",
      " 8   gluc         333 non-null    object \n",
      " 9   smoke        326 non-null    float64\n",
      " 10  alco         335 non-null    float64\n",
      " 11  active       343 non-null    float64\n",
      " 12  cardio       500 non-null    int64  \n",
      "dtypes: float64(8), int64(2), object(3)\n",
      "memory usage: 50.9+ KB\n"
     ]
    }
   ],
   "source": [
    "cardio_data_train.info()"
   ]
  },
  {
   "cell_type": "markdown",
   "id": "eac3f763",
   "metadata": {},
   "source": [
    "**Observations:**\n",
    "- We can see presence of NaN(missing) values in all columns except 'id' and 'cardio'.\n",
    "- Most NaN values are in 'height' column. as non-null count is very low.\n",
    "- Float values are present in 'age', 'height', 'weight', 'ap_hi', 'ap_lo', 'smoke', 'alco', and 'active'. These columns are numeric and continuous. Int values are present in 'id' and 'cardio' columns.\n",
    "- For columns 'gender', 'cholesterol' and 'gluc' we see data type as object because these are categorical features with string values."
   ]
  },
  {
   "cell_type": "code",
   "execution_count": 5,
   "id": "2108d6e4",
   "metadata": {},
   "outputs": [
    {
     "data": {
      "text/html": [
       "<div>\n",
       "<style scoped>\n",
       "    .dataframe tbody tr th:only-of-type {\n",
       "        vertical-align: middle;\n",
       "    }\n",
       "\n",
       "    .dataframe tbody tr th {\n",
       "        vertical-align: top;\n",
       "    }\n",
       "\n",
       "    .dataframe thead th {\n",
       "        text-align: right;\n",
       "    }\n",
       "</style>\n",
       "<table border=\"1\" class=\"dataframe\">\n",
       "  <thead>\n",
       "    <tr style=\"text-align: right;\">\n",
       "      <th></th>\n",
       "      <th>id</th>\n",
       "      <th>age</th>\n",
       "      <th>height</th>\n",
       "      <th>weight</th>\n",
       "      <th>ap_hi</th>\n",
       "      <th>ap_lo</th>\n",
       "      <th>smoke</th>\n",
       "      <th>alco</th>\n",
       "      <th>active</th>\n",
       "      <th>cardio</th>\n",
       "    </tr>\n",
       "  </thead>\n",
       "  <tbody>\n",
       "    <tr>\n",
       "      <th>count</th>\n",
       "      <td>500.000000</td>\n",
       "      <td>335.000000</td>\n",
       "      <td>198.000000</td>\n",
       "      <td>336.000000</td>\n",
       "      <td>347.000000</td>\n",
       "      <td>332.000000</td>\n",
       "      <td>326.000000</td>\n",
       "      <td>335.000000</td>\n",
       "      <td>343.000000</td>\n",
       "      <td>500.000000</td>\n",
       "    </tr>\n",
       "    <tr>\n",
       "      <th>mean</th>\n",
       "      <td>50279.916000</td>\n",
       "      <td>19490.886567</td>\n",
       "      <td>163.934343</td>\n",
       "      <td>74.347321</td>\n",
       "      <td>128.685879</td>\n",
       "      <td>90.060241</td>\n",
       "      <td>0.092025</td>\n",
       "      <td>0.065672</td>\n",
       "      <td>0.813411</td>\n",
       "      <td>0.502000</td>\n",
       "    </tr>\n",
       "    <tr>\n",
       "      <th>std</th>\n",
       "      <td>29913.623631</td>\n",
       "      <td>2466.702487</td>\n",
       "      <td>8.258559</td>\n",
       "      <td>14.335964</td>\n",
       "      <td>18.490176</td>\n",
       "      <td>87.396945</td>\n",
       "      <td>0.289505</td>\n",
       "      <td>0.248078</td>\n",
       "      <td>0.390150</td>\n",
       "      <td>0.500497</td>\n",
       "    </tr>\n",
       "    <tr>\n",
       "      <th>min</th>\n",
       "      <td>38.000000</td>\n",
       "      <td>14334.000000</td>\n",
       "      <td>120.000000</td>\n",
       "      <td>45.000000</td>\n",
       "      <td>12.000000</td>\n",
       "      <td>60.000000</td>\n",
       "      <td>0.000000</td>\n",
       "      <td>0.000000</td>\n",
       "      <td>0.000000</td>\n",
       "      <td>0.000000</td>\n",
       "    </tr>\n",
       "    <tr>\n",
       "      <th>25%</th>\n",
       "      <td>23446.500000</td>\n",
       "      <td>17988.500000</td>\n",
       "      <td>159.250000</td>\n",
       "      <td>65.000000</td>\n",
       "      <td>120.000000</td>\n",
       "      <td>80.000000</td>\n",
       "      <td>0.000000</td>\n",
       "      <td>0.000000</td>\n",
       "      <td>1.000000</td>\n",
       "      <td>0.000000</td>\n",
       "    </tr>\n",
       "    <tr>\n",
       "      <th>50%</th>\n",
       "      <td>51913.500000</td>\n",
       "      <td>19719.000000</td>\n",
       "      <td>165.000000</td>\n",
       "      <td>72.000000</td>\n",
       "      <td>120.000000</td>\n",
       "      <td>80.000000</td>\n",
       "      <td>0.000000</td>\n",
       "      <td>0.000000</td>\n",
       "      <td>1.000000</td>\n",
       "      <td>1.000000</td>\n",
       "    </tr>\n",
       "    <tr>\n",
       "      <th>75%</th>\n",
       "      <td>78656.000000</td>\n",
       "      <td>21597.500000</td>\n",
       "      <td>168.000000</td>\n",
       "      <td>82.000000</td>\n",
       "      <td>140.000000</td>\n",
       "      <td>90.000000</td>\n",
       "      <td>0.000000</td>\n",
       "      <td>0.000000</td>\n",
       "      <td>1.000000</td>\n",
       "      <td>1.000000</td>\n",
       "    </tr>\n",
       "    <tr>\n",
       "      <th>max</th>\n",
       "      <td>99662.000000</td>\n",
       "      <td>23479.000000</td>\n",
       "      <td>187.000000</td>\n",
       "      <td>155.000000</td>\n",
       "      <td>190.000000</td>\n",
       "      <td>1000.000000</td>\n",
       "      <td>1.000000</td>\n",
       "      <td>1.000000</td>\n",
       "      <td>1.000000</td>\n",
       "      <td>1.000000</td>\n",
       "    </tr>\n",
       "  </tbody>\n",
       "</table>\n",
       "</div>"
      ],
      "text/plain": [
       "                 id           age      height      weight       ap_hi  \\\n",
       "count    500.000000    335.000000  198.000000  336.000000  347.000000   \n",
       "mean   50279.916000  19490.886567  163.934343   74.347321  128.685879   \n",
       "std    29913.623631   2466.702487    8.258559   14.335964   18.490176   \n",
       "min       38.000000  14334.000000  120.000000   45.000000   12.000000   \n",
       "25%    23446.500000  17988.500000  159.250000   65.000000  120.000000   \n",
       "50%    51913.500000  19719.000000  165.000000   72.000000  120.000000   \n",
       "75%    78656.000000  21597.500000  168.000000   82.000000  140.000000   \n",
       "max    99662.000000  23479.000000  187.000000  155.000000  190.000000   \n",
       "\n",
       "             ap_lo       smoke        alco      active      cardio  \n",
       "count   332.000000  326.000000  335.000000  343.000000  500.000000  \n",
       "mean     90.060241    0.092025    0.065672    0.813411    0.502000  \n",
       "std      87.396945    0.289505    0.248078    0.390150    0.500497  \n",
       "min      60.000000    0.000000    0.000000    0.000000    0.000000  \n",
       "25%      80.000000    0.000000    0.000000    1.000000    0.000000  \n",
       "50%      80.000000    0.000000    0.000000    1.000000    1.000000  \n",
       "75%      90.000000    0.000000    0.000000    1.000000    1.000000  \n",
       "max    1000.000000    1.000000    1.000000    1.000000    1.000000  "
      ]
     },
     "execution_count": 5,
     "metadata": {},
     "output_type": "execute_result"
    }
   ],
   "source": [
    "cardio_data_train.describe()"
   ]
  },
  {
   "cell_type": "markdown",
   "id": "b3903e48",
   "metadata": {},
   "source": [
    "**Observations:**\n",
    "- In the output of describe function, we can see basic stats like min, max, 25%, 50%, 75%, mean and std values for numerical columns in our dataset.\n",
    "- Count represents number of present(non-null) values in each column.\n",
    "- We can see that range of each column is very different.  i.e. 'age' has very high values compared to 'active' or 'smoke' (0/1 values). We can guess that 'age' is given in days. 'ap_lo' has max value which is very high compared to other values of same column, which suggests presence of outlier(s). "
   ]
  },
  {
   "cell_type": "markdown",
   "id": "2c08f38a",
   "metadata": {},
   "source": [
    "#### 3. Find the number of null values for each columns"
   ]
  },
  {
   "cell_type": "code",
   "execution_count": 6,
   "id": "43aec84a",
   "metadata": {},
   "outputs": [
    {
     "name": "stdout",
     "output_type": "stream",
     "text": [
      "number of null values in column id: 0\n",
      "number of null values in column age: 165\n",
      "number of null values in column gender: 171\n",
      "number of null values in column height: 302\n",
      "number of null values in column weight: 164\n",
      "number of null values in column ap_hi: 153\n",
      "number of null values in column ap_lo: 168\n",
      "number of null values in column cholesterol: 167\n",
      "number of null values in column gluc: 167\n",
      "number of null values in column smoke: 174\n",
      "number of null values in column alco: 165\n",
      "number of null values in column active: 157\n",
      "number of null values in column cardio: 0\n"
     ]
    }
   ],
   "source": [
    "for col in cardio_data_train.columns:\n",
    "    print(\"number of null values in column \" + col + \":\", cardio_data_train[col].isnull().sum())"
   ]
  },
  {
   "cell_type": "markdown",
   "id": "70bdda9d",
   "metadata": {},
   "source": [
    "#### 4. Know about the patients (Example of analysis for ages)"
   ]
  },
  {
   "cell_type": "code",
   "execution_count": 7,
   "id": "90280c50",
   "metadata": {},
   "outputs": [
    {
     "name": "stdout",
     "output_type": "stream",
     "text": [
      "a. Oldest person in the data is : 0.0 years\n",
      "b. Youngest person in the data is : 0.0 years\n",
      "c. Average age of a person in the data is : 0.0 years\n",
      "d. Median age of a person in the data is : 0.0 years\n"
     ]
    }
   ],
   "source": [
    "#age is given in days, we can convert it to years by age = age/365\n",
    "cardio_data_train['age'] = (cardio_data_train['age']/365).round()\n",
    "data_age = (cardio_data_train['age']/365).round().describe()\n",
    "print(\"a. Oldest person in the data is : %0.1f years\" % data_age['max'])\n",
    "print(\"b. Youngest person in the data is : %0.1f years\" % data_age['min'])\n",
    "print(\"c. Average age of a person in the data is : %0.1f years\" % data_age['mean'])\n",
    "print(\"d. Median age of a person in the data is : %0.1f years\" % data_age['50%'])"
   ]
  },
  {
   "cell_type": "markdown",
   "id": "71b7a43e",
   "metadata": {},
   "source": [
    "#### e. Find the relationship between the cardio and ages (the cardio column is your prediction variable)"
   ]
  },
  {
   "cell_type": "code",
   "execution_count": 8,
   "id": "b6dea07b",
   "metadata": {},
   "outputs": [
    {
     "data": {
      "image/png": "[encoded data removed]",
      "text/plain": [
       "<Figure size 1080x576 with 1 Axes>"
      ]
     },
     "metadata": {
      "needs_background": "light"
     },
     "output_type": "display_data"
    }
   ],
   "source": [
    "plt.figure(figsize = (15,8))\n",
    "age_non_null = cardio_data_train[cardio_data_train.age.notnull()]\n",
    "sns.kdeplot(\n",
    "    data = age_non_null.loc[(age_non_null['cardio'] == 1), 'age'],\n",
    "    color = 'darkturquoise',\n",
    "    shade = True\n",
    ")\n",
    "sns.kdeplot(\n",
    "    data = age_non_null.loc[(age_non_null['cardio'] == 0), 'age'],\n",
    "    color = 'lightcoral',\n",
    "    shade = True\n",
    ")\n",
    "plt.legend(['Cardio', 'No cardio'])\n",
    "plt.title('age vs cardio')\n",
    "plt.xlim(0, 100)\n",
    "plt.show()"
   ]
  },
  {
   "cell_type": "markdown",
   "id": "a5435aea",
   "metadata": {},
   "source": [
    "**Observation:**\n",
    "- As we can see from the density plot, age density distribution of people with cardio disease is on the right side of density distribution of people with no cardio disease. \n",
    "- This suggests that people with higher age(>55) have more risk for cardio disease than people with lesser age(<45)."
   ]
  },
  {
   "cell_type": "markdown",
   "id": "77faafb3",
   "metadata": {},
   "source": [
    "#### f. Find the age groups whose survival rate is the largest"
   ]
  },
  {
   "cell_type": "code",
   "execution_count": 9,
   "id": "32ec4cbd",
   "metadata": {},
   "outputs": [
    {
     "data": {
      "image/png": "[encoded data removed]",
      "text/plain": [
       "<Figure size 1440x720 with 1 Axes>"
      ]
     },
     "metadata": {
      "needs_background": "light"
     },
     "output_type": "display_data"
    }
   ],
   "source": [
    "bins = [0, 20, 30, 40, 50, 60, 70, 80, 90, 100]\n",
    "out = pd.cut(\n",
    "age_non_null.age,\n",
    "    bins = bins,\n",
    "    include_lowest = True\n",
    ")\n",
    "ax = out.value_counts(sort = False).plot.bar(\n",
    "    rot = 0,\n",
    "    color = 'g',\n",
    "    figsize = (20, 10)\n",
    ")\n",
    "plt.xlabel('Age bins')\n",
    "plt.ylabel('Count')\n",
    "plt.show()"
   ]
  },
  {
   "cell_type": "markdown",
   "id": "e1e9d323",
   "metadata": {},
   "source": [
    "**Observations:**\n",
    "- "
   ]
  },
  {
   "cell_type": "code",
   "execution_count": 10,
   "id": "b666689d",
   "metadata": {},
   "outputs": [
    {
     "name": "stdout",
     "output_type": "stream",
     "text": [
      "cholesterol unique values:  [nan 'Normal' 'High' 'Above Normal']\n",
      "glucose unique values:  ['Normal' nan 'High' 'Above Normal']\n",
      "gender unique values:  [nan 'Men' 'Women']\n"
     ]
    }
   ],
   "source": [
    "print(\"cholesterol unique values: \", cardio_data_train[\"cholesterol\"].unique())\n",
    "print(\"glucose unique values: \", cardio_data_train[\"gluc\"].unique())\n",
    "print(\"gender unique values: \", cardio_data_train[\"gender\"].unique())"
   ]
  },
  {
   "cell_type": "code",
   "execution_count": 11,
   "id": "4c2666ff",
   "metadata": {},
   "outputs": [],
   "source": [
    "#High=2, Above Normal=1, Normal=0\n",
    "def replace012(x):\n",
    "    if x == \"High\":\n",
    "        return 2\n",
    "    elif x == \"Above Normal\":\n",
    "        return 1\n",
    "    elif x ==\"Normal\":\n",
    "        return 0\n",
    "\n",
    "cardio_data_train[\"cholesterol\"] = cardio_data_train[\"cholesterol\"].apply(replace012)\n",
    "cardio_data_train[\"gluc\"] = cardio_data_train[\"gluc\"].apply(replace012)"
   ]
  },
  {
   "cell_type": "code",
   "execution_count": 12,
   "id": "e05d6848",
   "metadata": {},
   "outputs": [],
   "source": [
    "#Women=0, Men=1\n",
    "def replace01(x):\n",
    "    if x == \"Women\":\n",
    "        return 0\n",
    "    elif x == \"Men\":\n",
    "        return 1\n",
    "cardio_data_train[\"gender\"] = cardio_data_train[\"gender\"].apply(replace01)"
   ]
  },
  {
   "cell_type": "code",
   "execution_count": 13,
   "id": "093e1508",
   "metadata": {},
   "outputs": [],
   "source": [
    "cardio_data_train.drop(\"id\", axis=1, inplace=True)\n",
    "cardio_data_train[\"age\"] = (cardio_data_train[\"age\"]/365).round()"
   ]
  },
  {
   "cell_type": "code",
   "execution_count": 14,
   "id": "175b1812",
   "metadata": {},
   "outputs": [
    {
     "data": {
      "text/html": [
       "<div>\n",
       "<style scoped>\n",
       "    .dataframe tbody tr th:only-of-type {\n",
       "        vertical-align: middle;\n",
       "    }\n",
       "\n",
       "    .dataframe tbody tr th {\n",
       "        vertical-align: top;\n",
       "    }\n",
       "\n",
       "    .dataframe thead th {\n",
       "        text-align: right;\n",
       "    }\n",
       "</style>\n",
       "<table border=\"1\" class=\"dataframe\">\n",
       "  <thead>\n",
       "    <tr style=\"text-align: right;\">\n",
       "      <th></th>\n",
       "      <th>age</th>\n",
       "      <th>gender</th>\n",
       "      <th>height</th>\n",
       "      <th>weight</th>\n",
       "      <th>ap_hi</th>\n",
       "      <th>ap_lo</th>\n",
       "      <th>cholesterol</th>\n",
       "      <th>gluc</th>\n",
       "      <th>smoke</th>\n",
       "      <th>alco</th>\n",
       "      <th>active</th>\n",
       "      <th>cardio</th>\n",
       "    </tr>\n",
       "  </thead>\n",
       "  <tbody>\n",
       "    <tr>\n",
       "      <th>0</th>\n",
       "      <td>0.0</td>\n",
       "      <td>NaN</td>\n",
       "      <td>163.0</td>\n",
       "      <td>75.0</td>\n",
       "      <td>120.0</td>\n",
       "      <td>NaN</td>\n",
       "      <td>NaN</td>\n",
       "      <td>0.0</td>\n",
       "      <td>0.0</td>\n",
       "      <td>0.0</td>\n",
       "      <td>1.0</td>\n",
       "      <td>0</td>\n",
       "    </tr>\n",
       "    <tr>\n",
       "      <th>1</th>\n",
       "      <td>0.0</td>\n",
       "      <td>1.0</td>\n",
       "      <td>168.0</td>\n",
       "      <td>68.0</td>\n",
       "      <td>110.0</td>\n",
       "      <td>70.0</td>\n",
       "      <td>NaN</td>\n",
       "      <td>NaN</td>\n",
       "      <td>0.0</td>\n",
       "      <td>0.0</td>\n",
       "      <td>NaN</td>\n",
       "      <td>0</td>\n",
       "    </tr>\n",
       "    <tr>\n",
       "      <th>2</th>\n",
       "      <td>0.0</td>\n",
       "      <td>NaN</td>\n",
       "      <td>170.0</td>\n",
       "      <td>75.0</td>\n",
       "      <td>120.0</td>\n",
       "      <td>NaN</td>\n",
       "      <td>NaN</td>\n",
       "      <td>0.0</td>\n",
       "      <td>0.0</td>\n",
       "      <td>0.0</td>\n",
       "      <td>1.0</td>\n",
       "      <td>1</td>\n",
       "    </tr>\n",
       "    <tr>\n",
       "      <th>3</th>\n",
       "      <td>0.0</td>\n",
       "      <td>1.0</td>\n",
       "      <td>NaN</td>\n",
       "      <td>89.0</td>\n",
       "      <td>NaN</td>\n",
       "      <td>80.0</td>\n",
       "      <td>0.0</td>\n",
       "      <td>NaN</td>\n",
       "      <td>0.0</td>\n",
       "      <td>NaN</td>\n",
       "      <td>NaN</td>\n",
       "      <td>0</td>\n",
       "    </tr>\n",
       "    <tr>\n",
       "      <th>4</th>\n",
       "      <td>NaN</td>\n",
       "      <td>NaN</td>\n",
       "      <td>158.0</td>\n",
       "      <td>74.0</td>\n",
       "      <td>NaN</td>\n",
       "      <td>93.0</td>\n",
       "      <td>2.0</td>\n",
       "      <td>NaN</td>\n",
       "      <td>0.0</td>\n",
       "      <td>1.0</td>\n",
       "      <td>1.0</td>\n",
       "      <td>1</td>\n",
       "    </tr>\n",
       "  </tbody>\n",
       "</table>\n",
       "</div>"
      ],
      "text/plain": [
       "   age  gender  height  weight  ap_hi  ap_lo  cholesterol  gluc  smoke  alco  \\\n",
       "0  0.0     NaN   163.0    75.0  120.0    NaN          NaN   0.0    0.0   0.0   \n",
       "1  0.0     1.0   168.0    68.0  110.0   70.0          NaN   NaN    0.0   0.0   \n",
       "2  0.0     NaN   170.0    75.0  120.0    NaN          NaN   0.0    0.0   0.0   \n",
       "3  0.0     1.0     NaN    89.0    NaN   80.0          0.0   NaN    0.0   NaN   \n",
       "4  NaN     NaN   158.0    74.0    NaN   93.0          2.0   NaN    0.0   1.0   \n",
       "\n",
       "   active  cardio  \n",
       "0     1.0       0  \n",
       "1     NaN       0  \n",
       "2     1.0       1  \n",
       "3     NaN       0  \n",
       "4     1.0       1  "
      ]
     },
     "execution_count": 14,
     "metadata": {},
     "output_type": "execute_result"
    }
   ],
   "source": [
    "cardio_data_train.head()"
   ]
  },
  {
   "cell_type": "code",
   "execution_count": 15,
   "id": "23bbd616",
   "metadata": {},
   "outputs": [
    {
     "data": {
      "text/plain": [
       "age            165\n",
       "gender         171\n",
       "height         302\n",
       "weight         164\n",
       "ap_hi          153\n",
       "ap_lo          168\n",
       "cholesterol    167\n",
       "gluc           167\n",
       "smoke          174\n",
       "alco           165\n",
       "active         157\n",
       "cardio           0\n",
       "dtype: int64"
      ]
     },
     "execution_count": 15,
     "metadata": {},
     "output_type": "execute_result"
    }
   ],
   "source": [
    "cardio_data_train.isna().sum()"
   ]
  },
  {
   "cell_type": "code",
   "execution_count": 16,
   "id": "6f1036a9",
   "metadata": {},
   "outputs": [],
   "source": [
    "from sklearn.linear_model import LogisticRegression\n",
    "from sklearn.preprocessing import MinMaxScaler\n",
    "from sklearn.model_selection import train_test_split\n",
    "from sklearn.metrics import accuracy_score, f1_score\n",
    "\n",
    "def test_logistic_regression_model(data):\n",
    "    scalar = MinMaxScaler()\n",
    "    y = data.loc[:,\"cardio\"]\n",
    "    X = data.drop(\"cardio\",1)\n",
    "    X = scalar.fit_transform(X)\n",
    "    x_train,x_test,y_train,y_test = train_test_split(X, y, test_size=0.2, stratify=y, random_state=1)\n",
    "    clf = LogisticRegression()\n",
    "    clf.fit(x_train,y_train)\n",
    "\n",
    "    y_pred_test = clf.predict(x_test)\n",
    "    y_pred_train = clf.predict(x_train)\n",
    "\n",
    "    accuracy_train = accuracy_score(y_train,y_pred_train)\n",
    "    accuracy_test = accuracy_score(y_test,y_pred_test)\n",
    "    f1 = f1_score(y_test,y_pred_test)\n",
    "    return accuracy_train, accuracy_test, f1\n"
   ]
  },
  {
   "cell_type": "code",
   "execution_count": 17,
   "id": "8c644771",
   "metadata": {},
   "outputs": [],
   "source": [
    "orig_cardio_data_train = cardio_data_train.copy()"
   ]
  },
  {
   "cell_type": "code",
   "execution_count": 18,
   "id": "5c382434",
   "metadata": {},
   "outputs": [
    {
     "name": "stdout",
     "output_type": "stream",
     "text": [
      "Train Accuracy after dropping rows with NaN values:  1.0\n",
      "Test Accuracy after dropping rows with NaN values:  0.5\n",
      "f1 score after dropping rows with NaN values:  0.0\n"
     ]
    }
   ],
   "source": [
    "drop_na_data_train = orig_cardio_data_train.copy().dropna()\n",
    "\n",
    "accuracy_train, accuracy_test, f1 = test_logistic_regression_model(drop_na_data_train)\n",
    "\n",
    "print(\"Train Accuracy after dropping rows with NaN values: \",accuracy_train)\n",
    "print(\"Test Accuracy after dropping rows with NaN values: \",accuracy_test)\n",
    "print(\"f1 score after dropping rows with NaN values: \",f1)"
   ]
  },
  {
   "cell_type": "code",
   "execution_count": 19,
   "id": "f3c59b43",
   "metadata": {},
   "outputs": [
    {
     "name": "stdout",
     "output_type": "stream",
     "text": [
      "Train Accuracy after replacing NaN with mean:  0.6725\n",
      "Test Accuracy after replacing NaN with mean:  0.69\n",
      "f1 score after replacing NaN with mean:  0.686868686868687\n"
     ]
    }
   ],
   "source": [
    "mean_na_data_train = orig_cardio_data_train.copy()\n",
    "for x in mean_na_data_train.columns:\n",
    "    mean_column = np.nanmean(mean_na_data_train[x].values)\n",
    "    mean_na_data_train[x].replace(np.nan, mean_column, inplace=True)\n",
    "    \n",
    "accuracy_train, accuracy_test, f1 = test_logistic_regression_model(mean_na_data_train)\n",
    "\n",
    "print(\"Train Accuracy after replacing NaN with mean: \",accuracy_train)\n",
    "print(\"Test Accuracy after replacing NaN with mean: \",accuracy_test)\n",
    "print(\"f1 score after replacing NaN with mean: \",f1)"
   ]
  },
  {
   "cell_type": "markdown",
   "id": "99f58f7b",
   "metadata": {},
   "source": [
    "## Applying the model"
   ]
  },
  {
   "cell_type": "code",
   "execution_count": 20,
   "id": "68a0637d",
   "metadata": {},
   "outputs": [
    {
     "name": "stdout",
     "output_type": "stream",
     "text": [
      "(500, 13)\n"
     ]
    },
    {
     "data": {
      "text/html": [
       "<div>\n",
       "<style scoped>\n",
       "    .dataframe tbody tr th:only-of-type {\n",
       "        vertical-align: middle;\n",
       "    }\n",
       "\n",
       "    .dataframe tbody tr th {\n",
       "        vertical-align: top;\n",
       "    }\n",
       "\n",
       "    .dataframe thead th {\n",
       "        text-align: right;\n",
       "    }\n",
       "</style>\n",
       "<table border=\"1\" class=\"dataframe\">\n",
       "  <thead>\n",
       "    <tr style=\"text-align: right;\">\n",
       "      <th></th>\n",
       "      <th>id</th>\n",
       "      <th>age</th>\n",
       "      <th>gender</th>\n",
       "      <th>height</th>\n",
       "      <th>weight</th>\n",
       "      <th>ap_hi</th>\n",
       "      <th>ap_lo</th>\n",
       "      <th>cholesterol</th>\n",
       "      <th>gluc</th>\n",
       "      <th>smoke</th>\n",
       "      <th>alco</th>\n",
       "      <th>active</th>\n",
       "      <th>cardio</th>\n",
       "    </tr>\n",
       "  </thead>\n",
       "  <tbody>\n",
       "    <tr>\n",
       "      <th>0</th>\n",
       "      <td>92150</td>\n",
       "      <td>20535.0</td>\n",
       "      <td>NaN</td>\n",
       "      <td>163.0</td>\n",
       "      <td>75.0</td>\n",
       "      <td>120.0</td>\n",
       "      <td>NaN</td>\n",
       "      <td>NaN</td>\n",
       "      <td>Normal</td>\n",
       "      <td>0.0</td>\n",
       "      <td>0.0</td>\n",
       "      <td>1.0</td>\n",
       "      <td>0</td>\n",
       "    </tr>\n",
       "    <tr>\n",
       "      <th>1</th>\n",
       "      <td>88880</td>\n",
       "      <td>16125.0</td>\n",
       "      <td>Men</td>\n",
       "      <td>168.0</td>\n",
       "      <td>68.0</td>\n",
       "      <td>110.0</td>\n",
       "      <td>70.0</td>\n",
       "      <td>NaN</td>\n",
       "      <td>NaN</td>\n",
       "      <td>0.0</td>\n",
       "      <td>0.0</td>\n",
       "      <td>NaN</td>\n",
       "      <td>0</td>\n",
       "    </tr>\n",
       "    <tr>\n",
       "      <th>2</th>\n",
       "      <td>10483</td>\n",
       "      <td>19761.0</td>\n",
       "      <td>NaN</td>\n",
       "      <td>170.0</td>\n",
       "      <td>75.0</td>\n",
       "      <td>120.0</td>\n",
       "      <td>NaN</td>\n",
       "      <td>NaN</td>\n",
       "      <td>Normal</td>\n",
       "      <td>0.0</td>\n",
       "      <td>0.0</td>\n",
       "      <td>1.0</td>\n",
       "      <td>1</td>\n",
       "    </tr>\n",
       "    <tr>\n",
       "      <th>3</th>\n",
       "      <td>22798</td>\n",
       "      <td>19035.0</td>\n",
       "      <td>Men</td>\n",
       "      <td>NaN</td>\n",
       "      <td>89.0</td>\n",
       "      <td>NaN</td>\n",
       "      <td>80.0</td>\n",
       "      <td>Normal</td>\n",
       "      <td>NaN</td>\n",
       "      <td>0.0</td>\n",
       "      <td>NaN</td>\n",
       "      <td>NaN</td>\n",
       "      <td>0</td>\n",
       "    </tr>\n",
       "    <tr>\n",
       "      <th>4</th>\n",
       "      <td>85542</td>\n",
       "      <td>NaN</td>\n",
       "      <td>NaN</td>\n",
       "      <td>158.0</td>\n",
       "      <td>74.0</td>\n",
       "      <td>NaN</td>\n",
       "      <td>93.0</td>\n",
       "      <td>High</td>\n",
       "      <td>NaN</td>\n",
       "      <td>0.0</td>\n",
       "      <td>1.0</td>\n",
       "      <td>1.0</td>\n",
       "      <td>1</td>\n",
       "    </tr>\n",
       "  </tbody>\n",
       "</table>\n",
       "</div>"
      ],
      "text/plain": [
       "      id      age gender  height  weight  ap_hi  ap_lo cholesterol    gluc  \\\n",
       "0  92150  20535.0    NaN   163.0    75.0  120.0    NaN         NaN  Normal   \n",
       "1  88880  16125.0    Men   168.0    68.0  110.0   70.0         NaN     NaN   \n",
       "2  10483  19761.0    NaN   170.0    75.0  120.0    NaN         NaN  Normal   \n",
       "3  22798  19035.0    Men     NaN    89.0    NaN   80.0      Normal     NaN   \n",
       "4  85542      NaN    NaN   158.0    74.0    NaN   93.0        High     NaN   \n",
       "\n",
       "   smoke  alco  active  cardio  \n",
       "0    0.0   0.0     1.0       0  \n",
       "1    0.0   0.0     NaN       0  \n",
       "2    0.0   0.0     1.0       1  \n",
       "3    0.0   NaN     NaN       0  \n",
       "4    0.0   1.0     1.0       1  "
      ]
     },
     "execution_count": 20,
     "metadata": {},
     "output_type": "execute_result"
    }
   ],
   "source": [
    "train_data = pd.read_csv(\"cardio-train.csv\", sep=\";\")\n",
    "print(train_data.shape)\n",
    "train_data.head()"
   ]
  },
  {
   "cell_type": "code",
   "execution_count": 21,
   "id": "dcba8bf2",
   "metadata": {},
   "outputs": [
    {
     "name": "stdout",
     "output_type": "stream",
     "text": [
      "(500, 13)\n"
     ]
    },
    {
     "data": {
      "text/html": [
       "<div>\n",
       "<style scoped>\n",
       "    .dataframe tbody tr th:only-of-type {\n",
       "        vertical-align: middle;\n",
       "    }\n",
       "\n",
       "    .dataframe tbody tr th {\n",
       "        vertical-align: top;\n",
       "    }\n",
       "\n",
       "    .dataframe thead th {\n",
       "        text-align: right;\n",
       "    }\n",
       "</style>\n",
       "<table border=\"1\" class=\"dataframe\">\n",
       "  <thead>\n",
       "    <tr style=\"text-align: right;\">\n",
       "      <th></th>\n",
       "      <th>id</th>\n",
       "      <th>age</th>\n",
       "      <th>gender</th>\n",
       "      <th>height</th>\n",
       "      <th>weight</th>\n",
       "      <th>ap_hi</th>\n",
       "      <th>ap_lo</th>\n",
       "      <th>cholesterol</th>\n",
       "      <th>gluc</th>\n",
       "      <th>smoke</th>\n",
       "      <th>alco</th>\n",
       "      <th>active</th>\n",
       "      <th>cardio</th>\n",
       "    </tr>\n",
       "  </thead>\n",
       "  <tbody>\n",
       "    <tr>\n",
       "      <th>0</th>\n",
       "      <td>17934</td>\n",
       "      <td>18936.0</td>\n",
       "      <td>Men</td>\n",
       "      <td>165.0</td>\n",
       "      <td>60.0</td>\n",
       "      <td>NaN</td>\n",
       "      <td>80.0</td>\n",
       "      <td>Normal</td>\n",
       "      <td>NaN</td>\n",
       "      <td>0.0</td>\n",
       "      <td>0.0</td>\n",
       "      <td>1.0</td>\n",
       "      <td>1</td>\n",
       "    </tr>\n",
       "    <tr>\n",
       "      <th>1</th>\n",
       "      <td>52450</td>\n",
       "      <td>17987.0</td>\n",
       "      <td>NaN</td>\n",
       "      <td>NaN</td>\n",
       "      <td>58.8</td>\n",
       "      <td>120.0</td>\n",
       "      <td>90.0</td>\n",
       "      <td>Normal</td>\n",
       "      <td>Normal</td>\n",
       "      <td>NaN</td>\n",
       "      <td>0.0</td>\n",
       "      <td>1.0</td>\n",
       "      <td>0</td>\n",
       "    </tr>\n",
       "    <tr>\n",
       "      <th>2</th>\n",
       "      <td>37653</td>\n",
       "      <td>NaN</td>\n",
       "      <td>NaN</td>\n",
       "      <td>159.0</td>\n",
       "      <td>93.0</td>\n",
       "      <td>130.0</td>\n",
       "      <td>90.0</td>\n",
       "      <td>High</td>\n",
       "      <td>Normal</td>\n",
       "      <td>0.0</td>\n",
       "      <td>0.0</td>\n",
       "      <td>NaN</td>\n",
       "      <td>1</td>\n",
       "    </tr>\n",
       "    <tr>\n",
       "      <th>3</th>\n",
       "      <td>96970</td>\n",
       "      <td>22851.0</td>\n",
       "      <td>Women</td>\n",
       "      <td>172.0</td>\n",
       "      <td>NaN</td>\n",
       "      <td>NaN</td>\n",
       "      <td>100.0</td>\n",
       "      <td>Normal</td>\n",
       "      <td>Normal</td>\n",
       "      <td>0.0</td>\n",
       "      <td>0.0</td>\n",
       "      <td>1.0</td>\n",
       "      <td>1</td>\n",
       "    </tr>\n",
       "    <tr>\n",
       "      <th>4</th>\n",
       "      <td>50977</td>\n",
       "      <td>NaN</td>\n",
       "      <td>Women</td>\n",
       "      <td>NaN</td>\n",
       "      <td>116.0</td>\n",
       "      <td>NaN</td>\n",
       "      <td>80.0</td>\n",
       "      <td>High</td>\n",
       "      <td>NaN</td>\n",
       "      <td>NaN</td>\n",
       "      <td>NaN</td>\n",
       "      <td>1.0</td>\n",
       "      <td>1</td>\n",
       "    </tr>\n",
       "  </tbody>\n",
       "</table>\n",
       "</div>"
      ],
      "text/plain": [
       "      id      age gender  height  weight  ap_hi  ap_lo cholesterol    gluc  \\\n",
       "0  17934  18936.0    Men   165.0    60.0    NaN   80.0      Normal     NaN   \n",
       "1  52450  17987.0    NaN     NaN    58.8  120.0   90.0      Normal  Normal   \n",
       "2  37653      NaN    NaN   159.0    93.0  130.0   90.0        High  Normal   \n",
       "3  96970  22851.0  Women   172.0     NaN    NaN  100.0      Normal  Normal   \n",
       "4  50977      NaN  Women     NaN   116.0    NaN   80.0        High     NaN   \n",
       "\n",
       "   smoke  alco  active  cardio  \n",
       "0    0.0   0.0     1.0       1  \n",
       "1    NaN   0.0     1.0       0  \n",
       "2    0.0   0.0     NaN       1  \n",
       "3    0.0   0.0     1.0       1  \n",
       "4    NaN   NaN     1.0       1  "
      ]
     },
     "execution_count": 21,
     "metadata": {},
     "output_type": "execute_result"
    }
   ],
   "source": [
    "validation_data = pd.read_csv(\"cardio-validation.csv\", sep=\",\")\n",
    "print(validation_data.shape)\n",
    "validation_data.head()"
   ]
  },
  {
   "cell_type": "code",
   "execution_count": 22,
   "id": "08cd6459",
   "metadata": {},
   "outputs": [
    {
     "data": {
      "text/html": [
       "<div>\n",
       "<style scoped>\n",
       "    .dataframe tbody tr th:only-of-type {\n",
       "        vertical-align: middle;\n",
       "    }\n",
       "\n",
       "    .dataframe tbody tr th {\n",
       "        vertical-align: top;\n",
       "    }\n",
       "\n",
       "    .dataframe thead th {\n",
       "        text-align: right;\n",
       "    }\n",
       "</style>\n",
       "<table border=\"1\" class=\"dataframe\">\n",
       "  <thead>\n",
       "    <tr style=\"text-align: right;\">\n",
       "      <th></th>\n",
       "      <th>id</th>\n",
       "      <th>age</th>\n",
       "      <th>height</th>\n",
       "      <th>weight</th>\n",
       "      <th>ap_hi</th>\n",
       "      <th>ap_lo</th>\n",
       "      <th>smoke</th>\n",
       "      <th>alco</th>\n",
       "      <th>active</th>\n",
       "      <th>cardio</th>\n",
       "    </tr>\n",
       "  </thead>\n",
       "  <tbody>\n",
       "    <tr>\n",
       "      <th>count</th>\n",
       "      <td>500.000000</td>\n",
       "      <td>335.000000</td>\n",
       "      <td>198.000000</td>\n",
       "      <td>336.000000</td>\n",
       "      <td>347.000000</td>\n",
       "      <td>332.000000</td>\n",
       "      <td>326.000000</td>\n",
       "      <td>335.000000</td>\n",
       "      <td>343.000000</td>\n",
       "      <td>500.000000</td>\n",
       "    </tr>\n",
       "    <tr>\n",
       "      <th>mean</th>\n",
       "      <td>50279.916000</td>\n",
       "      <td>19490.886567</td>\n",
       "      <td>163.934343</td>\n",
       "      <td>74.347321</td>\n",
       "      <td>128.685879</td>\n",
       "      <td>90.060241</td>\n",
       "      <td>0.092025</td>\n",
       "      <td>0.065672</td>\n",
       "      <td>0.813411</td>\n",
       "      <td>0.502000</td>\n",
       "    </tr>\n",
       "    <tr>\n",
       "      <th>std</th>\n",
       "      <td>29913.623631</td>\n",
       "      <td>2466.702487</td>\n",
       "      <td>8.258559</td>\n",
       "      <td>14.335964</td>\n",
       "      <td>18.490176</td>\n",
       "      <td>87.396945</td>\n",
       "      <td>0.289505</td>\n",
       "      <td>0.248078</td>\n",
       "      <td>0.390150</td>\n",
       "      <td>0.500497</td>\n",
       "    </tr>\n",
       "    <tr>\n",
       "      <th>min</th>\n",
       "      <td>38.000000</td>\n",
       "      <td>14334.000000</td>\n",
       "      <td>120.000000</td>\n",
       "      <td>45.000000</td>\n",
       "      <td>12.000000</td>\n",
       "      <td>60.000000</td>\n",
       "      <td>0.000000</td>\n",
       "      <td>0.000000</td>\n",
       "      <td>0.000000</td>\n",
       "      <td>0.000000</td>\n",
       "    </tr>\n",
       "    <tr>\n",
       "      <th>25%</th>\n",
       "      <td>23446.500000</td>\n",
       "      <td>17988.500000</td>\n",
       "      <td>159.250000</td>\n",
       "      <td>65.000000</td>\n",
       "      <td>120.000000</td>\n",
       "      <td>80.000000</td>\n",
       "      <td>0.000000</td>\n",
       "      <td>0.000000</td>\n",
       "      <td>1.000000</td>\n",
       "      <td>0.000000</td>\n",
       "    </tr>\n",
       "    <tr>\n",
       "      <th>50%</th>\n",
       "      <td>51913.500000</td>\n",
       "      <td>19719.000000</td>\n",
       "      <td>165.000000</td>\n",
       "      <td>72.000000</td>\n",
       "      <td>120.000000</td>\n",
       "      <td>80.000000</td>\n",
       "      <td>0.000000</td>\n",
       "      <td>0.000000</td>\n",
       "      <td>1.000000</td>\n",
       "      <td>1.000000</td>\n",
       "    </tr>\n",
       "    <tr>\n",
       "      <th>75%</th>\n",
       "      <td>78656.000000</td>\n",
       "      <td>21597.500000</td>\n",
       "      <td>168.000000</td>\n",
       "      <td>82.000000</td>\n",
       "      <td>140.000000</td>\n",
       "      <td>90.000000</td>\n",
       "      <td>0.000000</td>\n",
       "      <td>0.000000</td>\n",
       "      <td>1.000000</td>\n",
       "      <td>1.000000</td>\n",
       "    </tr>\n",
       "    <tr>\n",
       "      <th>max</th>\n",
       "      <td>99662.000000</td>\n",
       "      <td>23479.000000</td>\n",
       "      <td>187.000000</td>\n",
       "      <td>155.000000</td>\n",
       "      <td>190.000000</td>\n",
       "      <td>1000.000000</td>\n",
       "      <td>1.000000</td>\n",
       "      <td>1.000000</td>\n",
       "      <td>1.000000</td>\n",
       "      <td>1.000000</td>\n",
       "    </tr>\n",
       "  </tbody>\n",
       "</table>\n",
       "</div>"
      ],
      "text/plain": [
       "                 id           age      height      weight       ap_hi  \\\n",
       "count    500.000000    335.000000  198.000000  336.000000  347.000000   \n",
       "mean   50279.916000  19490.886567  163.934343   74.347321  128.685879   \n",
       "std    29913.623631   2466.702487    8.258559   14.335964   18.490176   \n",
       "min       38.000000  14334.000000  120.000000   45.000000   12.000000   \n",
       "25%    23446.500000  17988.500000  159.250000   65.000000  120.000000   \n",
       "50%    51913.500000  19719.000000  165.000000   72.000000  120.000000   \n",
       "75%    78656.000000  21597.500000  168.000000   82.000000  140.000000   \n",
       "max    99662.000000  23479.000000  187.000000  155.000000  190.000000   \n",
       "\n",
       "             ap_lo       smoke        alco      active      cardio  \n",
       "count   332.000000  326.000000  335.000000  343.000000  500.000000  \n",
       "mean     90.060241    0.092025    0.065672    0.813411    0.502000  \n",
       "std      87.396945    0.289505    0.248078    0.390150    0.500497  \n",
       "min      60.000000    0.000000    0.000000    0.000000    0.000000  \n",
       "25%      80.000000    0.000000    0.000000    1.000000    0.000000  \n",
       "50%      80.000000    0.000000    0.000000    1.000000    1.000000  \n",
       "75%      90.000000    0.000000    0.000000    1.000000    1.000000  \n",
       "max    1000.000000    1.000000    1.000000    1.000000    1.000000  "
      ]
     },
     "execution_count": 22,
     "metadata": {},
     "output_type": "execute_result"
    }
   ],
   "source": [
    "train_data.describe()"
   ]
  },
  {
   "cell_type": "code",
   "execution_count": 23,
   "id": "5b0d6588",
   "metadata": {},
   "outputs": [
    {
     "data": {
      "text/plain": [
       "id               0\n",
       "age            165\n",
       "gender         171\n",
       "height         302\n",
       "weight         164\n",
       "ap_hi          153\n",
       "ap_lo          168\n",
       "cholesterol    167\n",
       "gluc           167\n",
       "smoke          174\n",
       "alco           165\n",
       "active         157\n",
       "cardio           0\n",
       "dtype: int64"
      ]
     },
     "execution_count": 23,
     "metadata": {},
     "output_type": "execute_result"
    }
   ],
   "source": [
    "train_data.isna().sum()"
   ]
  },
  {
   "cell_type": "code",
   "execution_count": 24,
   "id": "8b53f322",
   "metadata": {},
   "outputs": [
    {
     "data": {
      "text/plain": [
       "Index(['id', 'age', 'gender', 'height', 'weight', 'ap_hi', 'ap_lo',\n",
       "       'cholesterol', 'gluc', 'smoke', 'alco', 'active', 'cardio'],\n",
       "      dtype='object')"
      ]
     },
     "execution_count": 24,
     "metadata": {},
     "output_type": "execute_result"
    }
   ],
   "source": [
    "train_data.columns"
   ]
  },
  {
   "cell_type": "code",
   "execution_count": 25,
   "id": "e49a7615",
   "metadata": {},
   "outputs": [],
   "source": [
    "mean_cols = ['age', 'height', 'weight', 'ap_hi']\n",
    "median_cols = ['ap_lo']\n",
    "mode_cols = ['gender', 'cholesterol', 'gluc', 'smoke', 'alco', 'active']\n",
    "# outlier_cols = ['height', 'weight', 'ap_lo']\n",
    "outlier_cols = []"
   ]
  },
  {
   "cell_type": "code",
   "execution_count": 26,
   "id": "3d4f5916",
   "metadata": {},
   "outputs": [],
   "source": [
    "def preprocess(data):\n",
    "    data.drop(\"id\", axis=1, inplace=True, errors='ignore')\n",
    "    data[\"cholesterol\"] = data[\"cholesterol\"].apply(replace012)\n",
    "    data[\"gluc\"] = data[\"gluc\"].apply(replace012)\n",
    "    data[\"gender\"] = data[\"gender\"].apply(replace01)\n",
    "    data[\"age\"] = (data[\"age\"]/365).round()\n",
    "    \n",
    "    for col in mean_cols:\n",
    "        mean_column = np.nanmean(data[col].values)\n",
    "        data[col].replace(np.nan, mean_column, inplace=True)\n",
    "    for col in median_cols:\n",
    "        median_column = np.nanmedian(data[col].values)\n",
    "        data[col].replace(np.nan, median_column, inplace=True)\n",
    "    for col in mode_cols:\n",
    "        mode_column, _ = stats.mode(data[col])\n",
    "        data[col].replace(np.nan, mode_column[0], inplace=True)\n",
    "    \n",
    "    for col in outlier_cols:\n",
    "        low = data[col].quantile(0.10)\n",
    "        high = data[col].quantile(0.90)\n",
    "        med = data[col].quantile(0.50)\n",
    "        data[col] = np.where(data[col] < low, med, data[col])\n",
    "        data[col] = np.where(data[col] > high, med, data[col])\n",
    "        \n",
    "    return data\n"
   ]
  },
  {
   "cell_type": "code",
   "execution_count": 27,
   "id": "e5d6c52f",
   "metadata": {},
   "outputs": [],
   "source": [
    "train_data = preprocess(train_data)\n",
    "validation_data = preprocess(validation_data)"
   ]
  },
  {
   "cell_type": "code",
   "execution_count": 28,
   "id": "6d6abd77",
   "metadata": {},
   "outputs": [
    {
     "data": {
      "text/html": [
       "<div>\n",
       "<style scoped>\n",
       "    .dataframe tbody tr th:only-of-type {\n",
       "        vertical-align: middle;\n",
       "    }\n",
       "\n",
       "    .dataframe tbody tr th {\n",
       "        vertical-align: top;\n",
       "    }\n",
       "\n",
       "    .dataframe thead th {\n",
       "        text-align: right;\n",
       "    }\n",
       "</style>\n",
       "<table border=\"1\" class=\"dataframe\">\n",
       "  <thead>\n",
       "    <tr style=\"text-align: right;\">\n",
       "      <th></th>\n",
       "      <th>age</th>\n",
       "      <th>gender</th>\n",
       "      <th>height</th>\n",
       "      <th>weight</th>\n",
       "      <th>ap_hi</th>\n",
       "      <th>ap_lo</th>\n",
       "      <th>cholesterol</th>\n",
       "      <th>gluc</th>\n",
       "      <th>smoke</th>\n",
       "      <th>alco</th>\n",
       "      <th>active</th>\n",
       "      <th>cardio</th>\n",
       "    </tr>\n",
       "  </thead>\n",
       "  <tbody>\n",
       "    <tr>\n",
       "      <th>0</th>\n",
       "      <td>56.00000</td>\n",
       "      <td>1.0</td>\n",
       "      <td>163.000000</td>\n",
       "      <td>75.0</td>\n",
       "      <td>120.000000</td>\n",
       "      <td>80.0</td>\n",
       "      <td>0.0</td>\n",
       "      <td>0.0</td>\n",
       "      <td>0.0</td>\n",
       "      <td>0.0</td>\n",
       "      <td>1.0</td>\n",
       "      <td>0</td>\n",
       "    </tr>\n",
       "    <tr>\n",
       "      <th>1</th>\n",
       "      <td>44.00000</td>\n",
       "      <td>1.0</td>\n",
       "      <td>168.000000</td>\n",
       "      <td>68.0</td>\n",
       "      <td>110.000000</td>\n",
       "      <td>70.0</td>\n",
       "      <td>0.0</td>\n",
       "      <td>0.0</td>\n",
       "      <td>0.0</td>\n",
       "      <td>0.0</td>\n",
       "      <td>1.0</td>\n",
       "      <td>0</td>\n",
       "    </tr>\n",
       "    <tr>\n",
       "      <th>2</th>\n",
       "      <td>54.00000</td>\n",
       "      <td>1.0</td>\n",
       "      <td>170.000000</td>\n",
       "      <td>75.0</td>\n",
       "      <td>120.000000</td>\n",
       "      <td>80.0</td>\n",
       "      <td>0.0</td>\n",
       "      <td>0.0</td>\n",
       "      <td>0.0</td>\n",
       "      <td>0.0</td>\n",
       "      <td>1.0</td>\n",
       "      <td>1</td>\n",
       "    </tr>\n",
       "    <tr>\n",
       "      <th>3</th>\n",
       "      <td>52.00000</td>\n",
       "      <td>1.0</td>\n",
       "      <td>163.934343</td>\n",
       "      <td>89.0</td>\n",
       "      <td>128.685879</td>\n",
       "      <td>80.0</td>\n",
       "      <td>0.0</td>\n",
       "      <td>0.0</td>\n",
       "      <td>0.0</td>\n",
       "      <td>0.0</td>\n",
       "      <td>1.0</td>\n",
       "      <td>0</td>\n",
       "    </tr>\n",
       "    <tr>\n",
       "      <th>4</th>\n",
       "      <td>53.38806</td>\n",
       "      <td>1.0</td>\n",
       "      <td>158.000000</td>\n",
       "      <td>74.0</td>\n",
       "      <td>128.685879</td>\n",
       "      <td>93.0</td>\n",
       "      <td>2.0</td>\n",
       "      <td>0.0</td>\n",
       "      <td>0.0</td>\n",
       "      <td>1.0</td>\n",
       "      <td>1.0</td>\n",
       "      <td>1</td>\n",
       "    </tr>\n",
       "  </tbody>\n",
       "</table>\n",
       "</div>"
      ],
      "text/plain": [
       "        age  gender      height  weight       ap_hi  ap_lo  cholesterol  gluc  \\\n",
       "0  56.00000     1.0  163.000000    75.0  120.000000   80.0          0.0   0.0   \n",
       "1  44.00000     1.0  168.000000    68.0  110.000000   70.0          0.0   0.0   \n",
       "2  54.00000     1.0  170.000000    75.0  120.000000   80.0          0.0   0.0   \n",
       "3  52.00000     1.0  163.934343    89.0  128.685879   80.0          0.0   0.0   \n",
       "4  53.38806     1.0  158.000000    74.0  128.685879   93.0          2.0   0.0   \n",
       "\n",
       "   smoke  alco  active  cardio  \n",
       "0    0.0   0.0     1.0       0  \n",
       "1    0.0   0.0     1.0       0  \n",
       "2    0.0   0.0     1.0       1  \n",
       "3    0.0   0.0     1.0       0  \n",
       "4    0.0   1.0     1.0       1  "
      ]
     },
     "execution_count": 28,
     "metadata": {},
     "output_type": "execute_result"
    }
   ],
   "source": [
    "train_data.head()"
   ]
  },
  {
   "cell_type": "code",
   "execution_count": 29,
   "id": "04f70432",
   "metadata": {},
   "outputs": [
    {
     "data": {
      "text/html": [
       "<div>\n",
       "<style scoped>\n",
       "    .dataframe tbody tr th:only-of-type {\n",
       "        vertical-align: middle;\n",
       "    }\n",
       "\n",
       "    .dataframe tbody tr th {\n",
       "        vertical-align: top;\n",
       "    }\n",
       "\n",
       "    .dataframe thead th {\n",
       "        text-align: right;\n",
       "    }\n",
       "</style>\n",
       "<table border=\"1\" class=\"dataframe\">\n",
       "  <thead>\n",
       "    <tr style=\"text-align: right;\">\n",
       "      <th></th>\n",
       "      <th>age</th>\n",
       "      <th>gender</th>\n",
       "      <th>height</th>\n",
       "      <th>weight</th>\n",
       "      <th>ap_hi</th>\n",
       "      <th>ap_lo</th>\n",
       "      <th>cholesterol</th>\n",
       "      <th>gluc</th>\n",
       "      <th>smoke</th>\n",
       "      <th>alco</th>\n",
       "      <th>active</th>\n",
       "      <th>cardio</th>\n",
       "    </tr>\n",
       "  </thead>\n",
       "  <tbody>\n",
       "    <tr>\n",
       "      <th>0</th>\n",
       "      <td>52.000000</td>\n",
       "      <td>1.0</td>\n",
       "      <td>165.000000</td>\n",
       "      <td>60.000000</td>\n",
       "      <td>126.406736</td>\n",
       "      <td>80.0</td>\n",
       "      <td>0.0</td>\n",
       "      <td>0.0</td>\n",
       "      <td>0.0</td>\n",
       "      <td>0.0</td>\n",
       "      <td>1.0</td>\n",
       "      <td>1</td>\n",
       "    </tr>\n",
       "    <tr>\n",
       "      <th>1</th>\n",
       "      <td>49.000000</td>\n",
       "      <td>1.0</td>\n",
       "      <td>164.639706</td>\n",
       "      <td>58.800000</td>\n",
       "      <td>120.000000</td>\n",
       "      <td>90.0</td>\n",
       "      <td>0.0</td>\n",
       "      <td>0.0</td>\n",
       "      <td>0.0</td>\n",
       "      <td>0.0</td>\n",
       "      <td>1.0</td>\n",
       "      <td>0</td>\n",
       "    </tr>\n",
       "    <tr>\n",
       "      <th>2</th>\n",
       "      <td>53.046392</td>\n",
       "      <td>1.0</td>\n",
       "      <td>159.000000</td>\n",
       "      <td>93.000000</td>\n",
       "      <td>130.000000</td>\n",
       "      <td>90.0</td>\n",
       "      <td>2.0</td>\n",
       "      <td>0.0</td>\n",
       "      <td>0.0</td>\n",
       "      <td>0.0</td>\n",
       "      <td>1.0</td>\n",
       "      <td>1</td>\n",
       "    </tr>\n",
       "    <tr>\n",
       "      <th>3</th>\n",
       "      <td>63.000000</td>\n",
       "      <td>0.0</td>\n",
       "      <td>172.000000</td>\n",
       "      <td>73.778316</td>\n",
       "      <td>126.406736</td>\n",
       "      <td>100.0</td>\n",
       "      <td>0.0</td>\n",
       "      <td>0.0</td>\n",
       "      <td>0.0</td>\n",
       "      <td>0.0</td>\n",
       "      <td>1.0</td>\n",
       "      <td>1</td>\n",
       "    </tr>\n",
       "    <tr>\n",
       "      <th>4</th>\n",
       "      <td>53.046392</td>\n",
       "      <td>0.0</td>\n",
       "      <td>164.639706</td>\n",
       "      <td>116.000000</td>\n",
       "      <td>126.406736</td>\n",
       "      <td>80.0</td>\n",
       "      <td>2.0</td>\n",
       "      <td>0.0</td>\n",
       "      <td>0.0</td>\n",
       "      <td>0.0</td>\n",
       "      <td>1.0</td>\n",
       "      <td>1</td>\n",
       "    </tr>\n",
       "  </tbody>\n",
       "</table>\n",
       "</div>"
      ],
      "text/plain": [
       "         age  gender      height      weight       ap_hi  ap_lo  cholesterol  \\\n",
       "0  52.000000     1.0  165.000000   60.000000  126.406736   80.0          0.0   \n",
       "1  49.000000     1.0  164.639706   58.800000  120.000000   90.0          0.0   \n",
       "2  53.046392     1.0  159.000000   93.000000  130.000000   90.0          2.0   \n",
       "3  63.000000     0.0  172.000000   73.778316  126.406736  100.0          0.0   \n",
       "4  53.046392     0.0  164.639706  116.000000  126.406736   80.0          2.0   \n",
       "\n",
       "   gluc  smoke  alco  active  cardio  \n",
       "0   0.0    0.0   0.0     1.0       1  \n",
       "1   0.0    0.0   0.0     1.0       0  \n",
       "2   0.0    0.0   0.0     1.0       1  \n",
       "3   0.0    0.0   0.0     1.0       1  \n",
       "4   0.0    0.0   0.0     1.0       1  "
      ]
     },
     "execution_count": 29,
     "metadata": {},
     "output_type": "execute_result"
    }
   ],
   "source": [
    "validation_data.head()"
   ]
  },
  {
   "cell_type": "code",
   "execution_count": 30,
   "id": "d0df2de7",
   "metadata": {},
   "outputs": [
    {
     "data": {
      "text/plain": [
       "age            0\n",
       "gender         0\n",
       "height         0\n",
       "weight         0\n",
       "ap_hi          0\n",
       "ap_lo          0\n",
       "cholesterol    0\n",
       "gluc           0\n",
       "smoke          0\n",
       "alco           0\n",
       "active         0\n",
       "cardio         0\n",
       "dtype: int64"
      ]
     },
     "execution_count": 30,
     "metadata": {},
     "output_type": "execute_result"
    }
   ],
   "source": [
    "train_data.isna().sum()"
   ]
  },
  {
   "cell_type": "code",
   "execution_count": 31,
   "id": "79fb7574",
   "metadata": {},
   "outputs": [
    {
     "data": {
      "text/plain": [
       "age            0\n",
       "gender         0\n",
       "height         0\n",
       "weight         0\n",
       "ap_hi          0\n",
       "ap_lo          0\n",
       "cholesterol    0\n",
       "gluc           0\n",
       "smoke          0\n",
       "alco           0\n",
       "active         0\n",
       "cardio         0\n",
       "dtype: int64"
      ]
     },
     "execution_count": 31,
     "metadata": {},
     "output_type": "execute_result"
    }
   ],
   "source": [
    "validation_data.isna().sum()"
   ]
  },
  {
   "cell_type": "code",
   "execution_count": 32,
   "id": "4157aba3",
   "metadata": {},
   "outputs": [
    {
     "data": {
      "text/html": [
       "<div>\n",
       "<style scoped>\n",
       "    .dataframe tbody tr th:only-of-type {\n",
       "        vertical-align: middle;\n",
       "    }\n",
       "\n",
       "    .dataframe tbody tr th {\n",
       "        vertical-align: top;\n",
       "    }\n",
       "\n",
       "    .dataframe thead th {\n",
       "        text-align: right;\n",
       "    }\n",
       "</style>\n",
       "<table border=\"1\" class=\"dataframe\">\n",
       "  <thead>\n",
       "    <tr style=\"text-align: right;\">\n",
       "      <th></th>\n",
       "      <th>age</th>\n",
       "      <th>gender</th>\n",
       "      <th>height</th>\n",
       "      <th>weight</th>\n",
       "      <th>ap_hi</th>\n",
       "      <th>ap_lo</th>\n",
       "      <th>cholesterol</th>\n",
       "      <th>gluc</th>\n",
       "      <th>smoke</th>\n",
       "      <th>alco</th>\n",
       "      <th>active</th>\n",
       "      <th>cardio</th>\n",
       "    </tr>\n",
       "  </thead>\n",
       "  <tbody>\n",
       "    <tr>\n",
       "      <th>count</th>\n",
       "      <td>500.000000</td>\n",
       "      <td>500.000000</td>\n",
       "      <td>500.000000</td>\n",
       "      <td>500.000000</td>\n",
       "      <td>500.000000</td>\n",
       "      <td>500.000000</td>\n",
       "      <td>500.00000</td>\n",
       "      <td>500.000000</td>\n",
       "      <td>500.000000</td>\n",
       "      <td>500.000000</td>\n",
       "      <td>500.000000</td>\n",
       "      <td>500.000000</td>\n",
       "    </tr>\n",
       "    <tr>\n",
       "      <th>mean</th>\n",
       "      <td>53.388060</td>\n",
       "      <td>0.786000</td>\n",
       "      <td>163.934343</td>\n",
       "      <td>74.347321</td>\n",
       "      <td>128.685879</td>\n",
       "      <td>86.680000</td>\n",
       "      <td>0.26400</td>\n",
       "      <td>0.132000</td>\n",
       "      <td>0.060000</td>\n",
       "      <td>0.044000</td>\n",
       "      <td>0.872000</td>\n",
       "      <td>0.502000</td>\n",
       "    </tr>\n",
       "    <tr>\n",
       "      <th>std</th>\n",
       "      <td>5.523053</td>\n",
       "      <td>0.410538</td>\n",
       "      <td>5.189041</td>\n",
       "      <td>11.746245</td>\n",
       "      <td>15.396741</td>\n",
       "      <td>71.339079</td>\n",
       "      <td>0.60252</td>\n",
       "      <td>0.450535</td>\n",
       "      <td>0.237725</td>\n",
       "      <td>0.205301</td>\n",
       "      <td>0.334424</td>\n",
       "      <td>0.500497</td>\n",
       "    </tr>\n",
       "    <tr>\n",
       "      <th>min</th>\n",
       "      <td>39.000000</td>\n",
       "      <td>0.000000</td>\n",
       "      <td>120.000000</td>\n",
       "      <td>45.000000</td>\n",
       "      <td>12.000000</td>\n",
       "      <td>60.000000</td>\n",
       "      <td>0.00000</td>\n",
       "      <td>0.000000</td>\n",
       "      <td>0.000000</td>\n",
       "      <td>0.000000</td>\n",
       "      <td>0.000000</td>\n",
       "      <td>0.000000</td>\n",
       "    </tr>\n",
       "    <tr>\n",
       "      <th>25%</th>\n",
       "      <td>52.000000</td>\n",
       "      <td>1.000000</td>\n",
       "      <td>163.934343</td>\n",
       "      <td>69.000000</td>\n",
       "      <td>120.000000</td>\n",
       "      <td>80.000000</td>\n",
       "      <td>0.00000</td>\n",
       "      <td>0.000000</td>\n",
       "      <td>0.000000</td>\n",
       "      <td>0.000000</td>\n",
       "      <td>1.000000</td>\n",
       "      <td>0.000000</td>\n",
       "    </tr>\n",
       "    <tr>\n",
       "      <th>50%</th>\n",
       "      <td>53.388060</td>\n",
       "      <td>1.000000</td>\n",
       "      <td>163.934343</td>\n",
       "      <td>74.347321</td>\n",
       "      <td>128.685879</td>\n",
       "      <td>80.000000</td>\n",
       "      <td>0.00000</td>\n",
       "      <td>0.000000</td>\n",
       "      <td>0.000000</td>\n",
       "      <td>0.000000</td>\n",
       "      <td>1.000000</td>\n",
       "      <td>1.000000</td>\n",
       "    </tr>\n",
       "    <tr>\n",
       "      <th>75%</th>\n",
       "      <td>56.000000</td>\n",
       "      <td>1.000000</td>\n",
       "      <td>163.934343</td>\n",
       "      <td>78.000000</td>\n",
       "      <td>130.000000</td>\n",
       "      <td>80.000000</td>\n",
       "      <td>0.00000</td>\n",
       "      <td>0.000000</td>\n",
       "      <td>0.000000</td>\n",
       "      <td>0.000000</td>\n",
       "      <td>1.000000</td>\n",
       "      <td>1.000000</td>\n",
       "    </tr>\n",
       "    <tr>\n",
       "      <th>max</th>\n",
       "      <td>64.000000</td>\n",
       "      <td>1.000000</td>\n",
       "      <td>187.000000</td>\n",
       "      <td>155.000000</td>\n",
       "      <td>190.000000</td>\n",
       "      <td>1000.000000</td>\n",
       "      <td>2.00000</td>\n",
       "      <td>2.000000</td>\n",
       "      <td>1.000000</td>\n",
       "      <td>1.000000</td>\n",
       "      <td>1.000000</td>\n",
       "      <td>1.000000</td>\n",
       "    </tr>\n",
       "  </tbody>\n",
       "</table>\n",
       "</div>"
      ],
      "text/plain": [
       "              age      gender      height      weight       ap_hi  \\\n",
       "count  500.000000  500.000000  500.000000  500.000000  500.000000   \n",
       "mean    53.388060    0.786000  163.934343   74.347321  128.685879   \n",
       "std      5.523053    0.410538    5.189041   11.746245   15.396741   \n",
       "min     39.000000    0.000000  120.000000   45.000000   12.000000   \n",
       "25%     52.000000    1.000000  163.934343   69.000000  120.000000   \n",
       "50%     53.388060    1.000000  163.934343   74.347321  128.685879   \n",
       "75%     56.000000    1.000000  163.934343   78.000000  130.000000   \n",
       "max     64.000000    1.000000  187.000000  155.000000  190.000000   \n",
       "\n",
       "             ap_lo  cholesterol        gluc       smoke        alco  \\\n",
       "count   500.000000    500.00000  500.000000  500.000000  500.000000   \n",
       "mean     86.680000      0.26400    0.132000    0.060000    0.044000   \n",
       "std      71.339079      0.60252    0.450535    0.237725    0.205301   \n",
       "min      60.000000      0.00000    0.000000    0.000000    0.000000   \n",
       "25%      80.000000      0.00000    0.000000    0.000000    0.000000   \n",
       "50%      80.000000      0.00000    0.000000    0.000000    0.000000   \n",
       "75%      80.000000      0.00000    0.000000    0.000000    0.000000   \n",
       "max    1000.000000      2.00000    2.000000    1.000000    1.000000   \n",
       "\n",
       "           active      cardio  \n",
       "count  500.000000  500.000000  \n",
       "mean     0.872000    0.502000  \n",
       "std      0.334424    0.500497  \n",
       "min      0.000000    0.000000  \n",
       "25%      1.000000    0.000000  \n",
       "50%      1.000000    1.000000  \n",
       "75%      1.000000    1.000000  \n",
       "max      1.000000    1.000000  "
      ]
     },
     "execution_count": 32,
     "metadata": {},
     "output_type": "execute_result"
    }
   ],
   "source": [
    "train_data.describe()"
   ]
  },
  {
   "cell_type": "code",
   "execution_count": 33,
   "id": "411cf398",
   "metadata": {},
   "outputs": [
    {
     "name": "stdout",
     "output_type": "stream",
     "text": [
      "age\n",
      "45.0\n",
      "60.0\n",
      "gender\n",
      "0.0\n",
      "1.0\n",
      "height\n",
      "159.9\n",
      "168.0\n",
      "weight\n",
      "60.900000000000006\n",
      "88.0\n",
      "ap_hi\n",
      "110.0\n",
      "150.0\n",
      "ap_lo\n",
      "80.0\n",
      "90.0\n",
      "cholesterol\n",
      "0.0\n",
      "1.0\n",
      "gluc\n",
      "0.0\n",
      "0.0\n",
      "smoke\n",
      "0.0\n",
      "0.0\n",
      "alco\n",
      "0.0\n",
      "0.0\n",
      "active\n",
      "0.0\n",
      "1.0\n",
      "cardio\n",
      "0.0\n",
      "1.0\n"
     ]
    },
    {
     "data": {
      "image/png": "[encoded data removed]",
      "text/plain": [
       "<Figure size 432x288 with 1 Axes>"
      ]
     },
     "metadata": {
      "needs_background": "light"
     },
     "output_type": "display_data"
    },
    {
     "data": {
      "image/png": "[encoded data removed]",
      "text/plain": [
       "<Figure size 432x288 with 1 Axes>"
      ]
     },
     "metadata": {
      "needs_background": "light"
     },
     "output_type": "display_data"
    },
    {
     "data": {
      "image/png": "[encoded data removed]",
      "text/plain": [
       "<Figure size 432x288 with 1 Axes>"
      ]
     },
     "metadata": {
      "needs_background": "light"
     },
     "output_type": "display_data"
    },
    {
     "data": {
      "image/png": "[encoded data removed]",
      "text/plain": [
       "<Figure size 432x288 with 1 Axes>"
      ]
     },
     "metadata": {
      "needs_background": "light"
     },
     "output_type": "display_data"
    },
    {
     "data": {
      "image/png": "[encoded data removed]",
      "text/plain": [
       "<Figure size 432x288 with 1 Axes>"
      ]
     },
     "metadata": {
      "needs_background": "light"
     },
     "output_type": "display_data"
    },
    {
     "data": {
      "image/png": "[encoded data removed]",
      "text/plain": [
       "<Figure size 432x288 with 1 Axes>"
      ]
     },
     "metadata": {
      "needs_background": "light"
     },
     "output_type": "display_data"
    },
    {
     "data": {
      "image/png": "[encoded data removed]",
      "text/plain": [
       "<Figure size 432x288 with 1 Axes>"
      ]
     },
     "metadata": {
      "needs_background": "light"
     },
     "output_type": "display_data"
    },
    {
     "data": {
      "image/png": "[encoded data removed]",
      "text/plain": [
       "<Figure size 432x288 with 1 Axes>"
      ]
     },
     "metadata": {
      "needs_background": "light"
     },
     "output_type": "display_data"
    },
    {
     "data": {
      "image/png": "[encoded data removed]",
      "text/plain": [
       "<Figure size 432x288 with 1 Axes>"
      ]
     },
     "metadata": {
      "needs_background": "light"
     },
     "output_type": "display_data"
    },
    {
     "data": {
      "image/png": "[encoded data removed]",
      "text/plain": [
       "<Figure size 432x288 with 1 Axes>"
      ]
     },
     "metadata": {
      "needs_background": "light"
     },
     "output_type": "display_data"
    },
    {
     "data": {
      "image/png": "[encoded data removed]",
      "text/plain": [
       "<Figure size 432x288 with 1 Axes>"
      ]
     },
     "metadata": {
      "needs_background": "light"
     },
     "output_type": "display_data"
    },
    {
     "data": {
      "image/png": "[encoded data removed]",
      "text/plain": [
       "<Figure size 432x288 with 1 Axes>"
      ]
     },
     "metadata": {
      "needs_background": "light"
     },
     "output_type": "display_data"
    }
   ],
   "source": [
    "for col in train_data.columns:\n",
    "    plt.figure()\n",
    "    train_data.boxplot([col])\n",
    "    print(col)\n",
    "    print(train_data[col].quantile(0.10))\n",
    "    print(train_data[col].quantile(0.90))"
   ]
  },
  {
   "cell_type": "code",
   "execution_count": 34,
   "id": "6617f145",
   "metadata": {},
   "outputs": [],
   "source": [
    "total_train_data = train_data.append(validation_data)\n",
    "y = total_train_data.loc[:,\"cardio\"]\n",
    "X = total_train_data.drop(\"cardio\", 1)\n",
    "\n",
    "scalar = MinMaxScaler()\n",
    "X = scalar.fit_transform(X)\n"
   ]
  },
  {
   "cell_type": "code",
   "execution_count": 35,
   "id": "2252edfd",
   "metadata": {},
   "outputs": [],
   "source": [
    "x_train,x_test,y_train,y_test = train_test_split(X, y, test_size=0.2, stratify=y, random_state=1)"
   ]
  },
  {
   "cell_type": "code",
   "execution_count": 50,
   "id": "6ed40ba3",
   "metadata": {},
   "outputs": [
    {
     "name": "stdout",
     "output_type": "stream",
     "text": [
      "Train Accuracy:  0.71125\n",
      "Test Accuracy:  0.715\n",
      "f1 score:  0.7046632124352332\n"
     ]
    }
   ],
   "source": [
    "clf_log_reg = LogisticRegression()\n",
    "clf_log_reg.fit(x_train,y_train)\n",
    "\n",
    "y_pred_test = clf_log_reg.predict(x_test)\n",
    "y_pred_train = clf_log_reg.predict(x_train)\n",
    "\n",
    "print(\"Train Accuracy: \", accuracy_score(y_train,y_pred_train))\n",
    "print(\"Test Accuracy: \", accuracy_score(y_test,y_pred_test))\n",
    "print(\"f1 score: \",f1_score(y_test,y_pred_test))\n",
    "\n",
    "# kagggle score=0.68000 (Mean Replacement + Logistic Regression)\n",
    "# kagggle score=0.65600 (Mean+Mode Replacement + Logistic Regression)\n",
    "# kagggle score=0.65600 (Mean+Mode+Median+Outlier+Scaling + Logistic Regression)"
   ]
  },
  {
   "cell_type": "code",
   "execution_count": 37,
   "id": "e0af7b23",
   "metadata": {},
   "outputs": [
    {
     "name": "stdout",
     "output_type": "stream",
     "text": [
      "c =  100\n",
      "Train Accuracy:  0.72375\n",
      "Test Accuracy:  0.69\n",
      "f1 score:  0.6702127659574467\n",
      "c =  10\n",
      "Train Accuracy:  0.7175\n",
      "Test Accuracy:  0.695\n",
      "f1 score:  0.6737967914438503\n",
      "c =  1.0\n",
      "Train Accuracy:  0.71125\n",
      "Test Accuracy:  0.715\n",
      "f1 score:  0.7046632124352332\n",
      "c =  0.1\n",
      "Train Accuracy:  0.6725\n",
      "Test Accuracy:  0.675\n",
      "f1 score:  0.6596858638743456\n",
      "c =  0.01\n",
      "Train Accuracy:  0.63375\n",
      "Test Accuracy:  0.61\n",
      "f1 score:  0.5185185185185185\n"
     ]
    }
   ],
   "source": [
    "c_values = [100, 10, 1.0, 0.1, 0.01]\n",
    "for c in c_values:\n",
    "    clf = LogisticRegression(C = c)\n",
    "    clf.fit(x_train,y_train)\n",
    "    y_pred_test = clf.predict(x_test)\n",
    "    y_pred_train = clf.predict(x_train)\n",
    "    print(\"c = \", c)\n",
    "    print(\"Train Accuracy: \", accuracy_score(y_train,y_pred_train))\n",
    "    print(\"Test Accuracy: \", accuracy_score(y_test,y_pred_test))\n",
    "    print(\"f1 score: \",f1_score(y_test,y_pred_test))"
   ]
  },
  {
   "cell_type": "code",
   "execution_count": 91,
   "id": "d3fb812e",
   "metadata": {},
   "outputs": [
    {
     "name": "stdout",
     "output_type": "stream",
     "text": [
      "for n_estimators = 100 and max depth =  6  min_samples_split:  4\n",
      "rmse= 0.5196152422706632 f1 score= 0.7096774193548386\n",
      "for n_estimators = 100 and max depth =  6  min_samples_split:  6\n",
      "rmse= 0.5244044240850758 f1 score= 0.7027027027027027\n",
      "for n_estimators = 100 and max depth =  7  min_samples_split:  3\n",
      "rmse= 0.5244044240850758 f1 score= 0.7027027027027027\n",
      "for n_estimators = 100 and max depth =  7  min_samples_split:  6\n",
      "rmse= 0.5244044240850758 f1 score= 0.7027027027027027\n",
      "for n_estimators = 100 and max depth =  7  min_samples_split:  9\n",
      "rmse= 0.5196152422706632 f1 score= 0.7065217391304347\n",
      "for n_estimators = 100 and max depth =  7  min_samples_split:  10\n",
      "rmse= 0.5244044240850758 f1 score= 0.7027027027027027\n",
      "for n_estimators = 100 and max depth =  8  min_samples_split:  4\n",
      "rmse= 0.5244044240850758 f1 score= 0.7027027027027027\n",
      "for n_estimators = 100 and max depth =  9  min_samples_split:  3\n",
      "rmse= 0.5244044240850758 f1 score= 0.7058823529411765\n",
      "for n_estimators = 100 and max depth =  9  min_samples_split:  5\n",
      "rmse= 0.5244044240850758 f1 score= 0.7058823529411765\n",
      "for n_estimators = 100 and max depth =  9  min_samples_split:  7\n",
      "rmse= 0.5196152422706632 f1 score= 0.7127659574468085\n",
      "for n_estimators = 100 and max depth =  9  min_samples_split:  8\n",
      "rmse= 0.5244044240850758 f1 score= 0.7058823529411765\n",
      "for n_estimators = 100 and max depth =  10  min_samples_split:  2\n",
      "rmse= 0.5196152422706632 f1 score= 0.7127659574468085\n",
      "for n_estimators = 100 and max depth =  10  min_samples_split:  3\n",
      "rmse= 0.5196152422706632 f1 score= 0.7127659574468085\n",
      "for n_estimators = 100 and max depth =  10  min_samples_split:  6\n",
      "rmse= 0.5244044240850758 f1 score= 0.7058823529411765\n",
      "for n_estimators = 100 and max depth =  11  min_samples_split:  2\n",
      "rmse= 0.5196152422706632 f1 score= 0.7127659574468085\n",
      "for n_estimators = 100 and max depth =  11  min_samples_split:  3\n",
      "rmse= 0.5291502622129182 f1 score= 0.7021276595744681\n",
      "for n_estimators = 100 and max depth =  11  min_samples_split:  5\n",
      "rmse= 0.5244044240850758 f1 score= 0.7058823529411765\n",
      "for n_estimators = 100 and max depth =  11  min_samples_split:  10\n",
      "rmse= 0.51478150704935 f1 score= 0.7195767195767195\n",
      "for n_estimators = 200 and max depth =  6  min_samples_split:  2\n",
      "rmse= 0.5244044240850758 f1 score= 0.7027027027027027\n",
      "for n_estimators = 200 and max depth =  6  min_samples_split:  4\n",
      "rmse= 0.5244044240850758 f1 score= 0.7027027027027027\n",
      "for n_estimators = 200 and max depth =  6  min_samples_split:  5\n",
      "rmse= 0.5244044240850758 f1 score= 0.7027027027027027\n",
      "for n_estimators = 200 and max depth =  6  min_samples_split:  6\n",
      "rmse= 0.5244044240850758 f1 score= 0.7027027027027027\n",
      "for n_estimators = 200 and max depth =  6  min_samples_split:  7\n",
      "rmse= 0.5244044240850758 f1 score= 0.7027027027027027\n",
      "for n_estimators = 200 and max depth =  7  min_samples_split:  2\n",
      "rmse= 0.5244044240850758 f1 score= 0.7027027027027027\n",
      "for n_estimators = 200 and max depth =  7  min_samples_split:  3\n",
      "rmse= 0.5196152422706632 f1 score= 0.7096774193548386\n",
      "for n_estimators = 200 and max depth =  7  min_samples_split:  4\n",
      "rmse= 0.5244044240850758 f1 score= 0.7027027027027027\n",
      "for n_estimators = 200 and max depth =  7  min_samples_split:  5\n",
      "rmse= 0.5244044240850758 f1 score= 0.7027027027027027\n",
      "for n_estimators = 200 and max depth =  7  min_samples_split:  6\n",
      "rmse= 0.5244044240850758 f1 score= 0.7027027027027027\n",
      "for n_estimators = 200 and max depth =  7  min_samples_split:  7\n",
      "rmse= 0.5244044240850758 f1 score= 0.7027027027027027\n",
      "for n_estimators = 200 and max depth =  7  min_samples_split:  8\n",
      "rmse= 0.5244044240850758 f1 score= 0.7027027027027027\n",
      "for n_estimators = 200 and max depth =  7  min_samples_split:  9\n",
      "rmse= 0.5196152422706632 f1 score= 0.7096774193548386\n",
      "for n_estimators = 200 and max depth =  7  min_samples_split:  10\n",
      "rmse= 0.5244044240850758 f1 score= 0.7027027027027027\n",
      "for n_estimators = 200 and max depth =  9  min_samples_split:  2\n",
      "rmse= 0.5196152422706632 f1 score= 0.7127659574468085\n",
      "for n_estimators = 200 and max depth =  9  min_samples_split:  3\n",
      "rmse= 0.5196152422706632 f1 score= 0.7127659574468085\n",
      "for n_estimators = 200 and max depth =  9  min_samples_split:  4\n",
      "rmse= 0.5244044240850758 f1 score= 0.7058823529411765\n",
      "for n_estimators = 200 and max depth =  9  min_samples_split:  5\n",
      "rmse= 0.5196152422706632 f1 score= 0.7127659574468085\n",
      "for n_estimators = 200 and max depth =  9  min_samples_split:  7\n",
      "rmse= 0.5244044240850758 f1 score= 0.7058823529411765\n",
      "for n_estimators = 200 and max depth =  9  min_samples_split:  8\n",
      "rmse= 0.5244044240850758 f1 score= 0.7058823529411765\n",
      "for n_estimators = 200 and max depth =  10  min_samples_split:  2\n",
      "rmse= 0.5244044240850758 f1 score= 0.7058823529411765\n",
      "for n_estimators = 200 and max depth =  10  min_samples_split:  3\n",
      "rmse= 0.5196152422706632 f1 score= 0.7127659574468085\n",
      "for n_estimators = 200 and max depth =  10  min_samples_split:  5\n",
      "rmse= 0.5244044240850758 f1 score= 0.7058823529411765\n",
      "for n_estimators = 200 and max depth =  10  min_samples_split:  6\n",
      "rmse= 0.5196152422706632 f1 score= 0.7127659574468085\n",
      "for n_estimators = 200 and max depth =  10  min_samples_split:  7\n",
      "rmse= 0.5244044240850758 f1 score= 0.7058823529411765\n",
      "for n_estimators = 200 and max depth =  10  min_samples_split:  9\n",
      "rmse= 0.5196152422706632 f1 score= 0.7127659574468085\n",
      "for n_estimators = 200 and max depth =  11  min_samples_split:  2\n",
      "rmse= 0.5244044240850758 f1 score= 0.7058823529411765\n",
      "for n_estimators = 200 and max depth =  11  min_samples_split:  3\n",
      "rmse= 0.5196152422706632 f1 score= 0.7127659574468085\n",
      "for n_estimators = 200 and max depth =  11  min_samples_split:  5\n",
      "rmse= 0.5244044240850758 f1 score= 0.7058823529411765\n",
      "for n_estimators = 200 and max depth =  11  min_samples_split:  9\n",
      "rmse= 0.51478150704935 f1 score= 0.7195767195767195\n",
      "for n_estimators = 200 and max depth =  11  min_samples_split:  10\n",
      "rmse= 0.5099019513592785 f1 score= 0.7263157894736841\n",
      "for n_estimators = 400 and max depth =  6  min_samples_split:  3\n",
      "rmse= 0.5244044240850758 f1 score= 0.7027027027027027\n",
      "for n_estimators = 400 and max depth =  6  min_samples_split:  4\n",
      "rmse= 0.5196152422706632 f1 score= 0.7065217391304347\n",
      "for n_estimators = 400 and max depth =  6  min_samples_split:  5\n",
      "rmse= 0.5244044240850758 f1 score= 0.7027027027027027\n",
      "for n_estimators = 400 and max depth =  6  min_samples_split:  6\n",
      "rmse= 0.5244044240850758 f1 score= 0.7027027027027027\n",
      "for n_estimators = 400 and max depth =  7  min_samples_split:  2\n",
      "rmse= 0.5244044240850758 f1 score= 0.7027027027027027\n",
      "for n_estimators = 400 and max depth =  7  min_samples_split:  3\n",
      "rmse= 0.5244044240850758 f1 score= 0.7027027027027027\n",
      "for n_estimators = 400 and max depth =  7  min_samples_split:  4\n",
      "rmse= 0.5244044240850758 f1 score= 0.7027027027027027\n",
      "for n_estimators = 400 and max depth =  7  min_samples_split:  8\n",
      "rmse= 0.5244044240850758 f1 score= 0.7027027027027027\n",
      "for n_estimators = 400 and max depth =  7  min_samples_split:  10\n",
      "rmse= 0.5244044240850758 f1 score= 0.7027027027027027\n",
      "for n_estimators = 400 and max depth =  9  min_samples_split:  2\n",
      "rmse= 0.5196152422706632 f1 score= 0.7127659574468085\n",
      "for n_estimators = 400 and max depth =  9  min_samples_split:  3\n",
      "rmse= 0.5244044240850758 f1 score= 0.7058823529411765\n",
      "for n_estimators = 400 and max depth =  9  min_samples_split:  4\n",
      "rmse= 0.5244044240850758 f1 score= 0.7058823529411765\n",
      "for n_estimators = 400 and max depth =  10  min_samples_split:  2\n",
      "rmse= 0.5196152422706632 f1 score= 0.7127659574468085\n",
      "for n_estimators = 400 and max depth =  10  min_samples_split:  3\n",
      "rmse= 0.51478150704935 f1 score= 0.7195767195767195\n",
      "for n_estimators = 400 and max depth =  10  min_samples_split:  5\n",
      "rmse= 0.5196152422706632 f1 score= 0.7127659574468085\n",
      "for n_estimators = 400 and max depth =  10  min_samples_split:  6\n",
      "rmse= 0.5196152422706632 f1 score= 0.7127659574468085\n",
      "for n_estimators = 400 and max depth =  10  min_samples_split:  9\n",
      "rmse= 0.5196152422706632 f1 score= 0.7127659574468085\n",
      "for n_estimators = 400 and max depth =  10  min_samples_split:  10\n",
      "rmse= 0.5244044240850758 f1 score= 0.7058823529411765\n",
      "for n_estimators = 400 and max depth =  11  min_samples_split:  2\n",
      "rmse= 0.5244044240850758 f1 score= 0.7058823529411765\n",
      "for n_estimators = 400 and max depth =  11  min_samples_split:  3\n",
      "rmse= 0.5196152422706632 f1 score= 0.7127659574468085\n"
     ]
    },
    {
     "name": "stdout",
     "output_type": "stream",
     "text": [
      "for n_estimators = 400 and max depth =  11  min_samples_split:  4\n",
      "rmse= 0.51478150704935 f1 score= 0.7195767195767195\n",
      "for n_estimators = 400 and max depth =  11  min_samples_split:  5\n",
      "rmse= 0.5244044240850758 f1 score= 0.7058823529411765\n",
      "for n_estimators = 400 and max depth =  11  min_samples_split:  6\n",
      "rmse= 0.5196152422706632 f1 score= 0.7127659574468085\n",
      "for n_estimators = 400 and max depth =  11  min_samples_split:  7\n",
      "rmse= 0.5244044240850758 f1 score= 0.7058823529411765\n",
      "for n_estimators = 400 and max depth =  11  min_samples_split:  8\n",
      "rmse= 0.5196152422706632 f1 score= 0.7127659574468085\n"
     ]
    }
   ],
   "source": [
    "from sklearn.ensemble import RandomForestClassifier\n",
    "from sklearn.metrics import mean_squared_error\n",
    "\n",
    "from tqdm import tqdm\n",
    "estimators = [100,200,400]\n",
    "max_depth = range(5,12)\n",
    "min_samples_split = range(2,11)\n",
    "\n",
    "for i in estimators:\n",
    "    for j in max_depth:\n",
    "        for k in min_samples_split:\n",
    "            rf_basic = RandomForestClassifier(n_estimators=i, criterion='entropy', max_depth=j, min_samples_split=k, n_jobs=-1, random_state=1)\n",
    "            rf_basic.fit(x_train,y_train)\n",
    "            y_pred_basic_rf = rf_basic.predict(x_test)\n",
    "            rmse = mean_squared_error(y_test,y_pred_basic_rf,squared=False)\n",
    "            f1 = f1_score(y_test,y_pred_basic_rf)\n",
    "            if rmse < 0.50 or f1 > 0.70:\n",
    "                print(\"for n_estimators =\", i,\"and max depth = \", j,\" min_samples_split: \",k)\n",
    "                print(\"rmse=\", rmse, \"f1 score=\", f1)"
   ]
  },
  {
   "cell_type": "code",
   "execution_count": 74,
   "id": "38e21e05",
   "metadata": {},
   "outputs": [
    {
     "name": "stdout",
     "output_type": "stream",
     "text": [
      "rmse score:  0.5196152422706632 f1 score= 0.7127659574468085\n"
     ]
    }
   ],
   "source": [
    "rf_basic = RandomForestClassifier(n_estimators=200, criterion='entropy', max_depth=11,min_samples_split=10,n_jobs=-1)\n",
    "rf_basic.fit(x_train,y_train)\n",
    "y_pred_basic_rf = rf_basic.predict(x_test)\n",
    "rmse = mean_squared_error(y_test,y_pred_basic_rf,squared=False)\n",
    "f1 = f1_score(y_test,y_pred_basic_rf)\n",
    "print(\"rmse score: \",rmse, \", f1 score=\", f1)\n",
    "\n",
    "# kagggle score=0.70400 (Mean+Mode+Median+Outlier+Scaling + RF(200,11,10))"
   ]
  },
  {
   "cell_type": "code",
   "execution_count": 97,
   "id": "41696ab9",
   "metadata": {},
   "outputs": [
    {
     "name": "stdout",
     "output_type": "stream",
     "text": [
      "kernel= poly , C= 10 , gamma= auto\n",
      "f1 score:  0.7191011235955057\n",
      "kernel= rbf , C= 100 , gamma= auto\n",
      "f1 score:  0.7071823204419891\n",
      "kernel= rbf , C= 10000 , gamma= auto\n",
      "f1 score:  0.7015706806282723\n"
     ]
    }
   ],
   "source": [
    "from sklearn.svm import SVC\n",
    "from sklearn.metrics import f1_score\n",
    "c_values = [10**x for x in range(-6,5)]\n",
    "kernel = ['poly', 'rbf', 'sigmoid','linear']\n",
    "# gamma = [1,0.1,0.01,0.001]\n",
    "gamma = ['auto']\n",
    "f1_score_val = []\n",
    "for k in kernel:\n",
    "    for c in c_values:\n",
    "        for g in gamma:\n",
    "            svc_basic_all = SVC(C=c, kernel=k)\n",
    "            svc_basic_all.fit(x_train,y_train)\n",
    "            y_pred_svc_basic_all = svc_basic_all.predict(x_test)\n",
    "            f1 = f1_score(y_test,y_pred_svc_basic_all)\n",
    "            f1_score_val.append(f1)\n",
    "            if f1 > 0.70:\n",
    "                print(\"kernel=\", k, \", C=\", c, \", gamma=\", g)\n",
    "                print(\"f1 score: \",f1)"
   ]
  },
  {
   "cell_type": "code",
   "execution_count": 53,
   "id": "0301b33d",
   "metadata": {},
   "outputs": [
    {
     "name": "stdout",
     "output_type": "stream",
     "text": [
      "              precision    recall  f1-score   support\n",
      "\n",
      "           0       0.71      0.85      0.77       101\n",
      "           1       0.81      0.65      0.72        99\n",
      "\n",
      "    accuracy                           0.75       200\n",
      "   macro avg       0.76      0.75      0.75       200\n",
      "weighted avg       0.76      0.75      0.75       200\n",
      "\n",
      "f1 score:  0.7191011235955057\n",
      "rmse:  0.5\n"
     ]
    }
   ],
   "source": [
    "from sklearn.metrics import classification_report\n",
    "svc_basic_all = SVC(C=10, kernel='poly')\n",
    "svc_basic_all.fit(x_train,y_train)\n",
    "y_pred_svc_basic_all = svc_basic_all.predict(x_test)\n",
    "print(classification_report(y_test,y_pred_svc_basic_all))\n",
    "print(\"f1 score: \", f1_score(y_test,y_pred_svc_basic_all))\n",
    "print(\"rmse: \",mean_squared_error(y_test,y_pred_svc_basic_all,squared=False))\n",
    "\n",
    "# kagggle score=0.68800 (Mean+Mode+Median+Outlier+Scaling + SVC(c=10))"
   ]
  },
  {
   "cell_type": "code",
   "execution_count": 69,
   "id": "df19fa59",
   "metadata": {},
   "outputs": [
    {
     "name": "stdout",
     "output_type": "stream",
     "text": [
      "C =  5\n",
      "f1 score:  0.5970149253731343\n",
      "C =  11\n",
      "f1 score:  0.6349206349206349\n",
      "C =  15\n",
      "f1 score:  0.6276595744680851\n",
      "C =  21\n",
      "f1 score:  0.6387434554973822\n",
      "C =  31\n",
      "f1 score:  0.6373626373626373\n",
      "C =  41\n",
      "f1 score:  0.6373626373626373\n",
      "C =  51\n",
      "f1 score:  0.6153846153846153\n",
      "C =  56\n",
      "f1 score:  0.611111111111111\n",
      "C =  99\n",
      "f1 score:  0.6057142857142856\n"
     ]
    }
   ],
   "source": [
    "alpha = [5, 11, 15, 21, 31, 41, 51, 56, 99]\n",
    "f1_score_val = []\n",
    "from sklearn.neighbors import KNeighborsClassifier\n",
    "for i in alpha:\n",
    "    knn_basic = KNeighborsClassifier(n_neighbors=i, weights=\"distance\")\n",
    "    knn_basic.fit(x_train,y_train)\n",
    "    y_pred_knn_basic = knn_basic.predict(x_test)\n",
    "    f1 = f1_score(y_test,y_pred_knn_basic)\n",
    "    f1_score_val.append(f1)\n",
    "    print(\"C = \",i)\n",
    "    print(\"f1 score: \",f1)"
   ]
  },
  {
   "cell_type": "code",
   "execution_count": 54,
   "id": "bf043900",
   "metadata": {},
   "outputs": [
    {
     "name": "stdout",
     "output_type": "stream",
     "text": [
      "(250, 12)\n"
     ]
    },
    {
     "data": {
      "text/html": [
       "<div>\n",
       "<style scoped>\n",
       "    .dataframe tbody tr th:only-of-type {\n",
       "        vertical-align: middle;\n",
       "    }\n",
       "\n",
       "    .dataframe tbody tr th {\n",
       "        vertical-align: top;\n",
       "    }\n",
       "\n",
       "    .dataframe thead th {\n",
       "        text-align: right;\n",
       "    }\n",
       "</style>\n",
       "<table border=\"1\" class=\"dataframe\">\n",
       "  <thead>\n",
       "    <tr style=\"text-align: right;\">\n",
       "      <th></th>\n",
       "      <th>id</th>\n",
       "      <th>age</th>\n",
       "      <th>gender</th>\n",
       "      <th>height</th>\n",
       "      <th>weight</th>\n",
       "      <th>ap_hi</th>\n",
       "      <th>ap_lo</th>\n",
       "      <th>cholesterol</th>\n",
       "      <th>gluc</th>\n",
       "      <th>smoke</th>\n",
       "      <th>alco</th>\n",
       "      <th>active</th>\n",
       "    </tr>\n",
       "  </thead>\n",
       "  <tbody>\n",
       "    <tr>\n",
       "      <th>0</th>\n",
       "      <td>47997</td>\n",
       "      <td>20222</td>\n",
       "      <td>Men</td>\n",
       "      <td>156</td>\n",
       "      <td>57.0</td>\n",
       "      <td>110</td>\n",
       "      <td>70</td>\n",
       "      <td>Normal</td>\n",
       "      <td>Normal</td>\n",
       "      <td>0</td>\n",
       "      <td>1</td>\n",
       "      <td>0</td>\n",
       "    </tr>\n",
       "    <tr>\n",
       "      <th>1</th>\n",
       "      <td>15311</td>\n",
       "      <td>18079</td>\n",
       "      <td>Men</td>\n",
       "      <td>160</td>\n",
       "      <td>60.0</td>\n",
       "      <td>120</td>\n",
       "      <td>80</td>\n",
       "      <td>Normal</td>\n",
       "      <td>Normal</td>\n",
       "      <td>0</td>\n",
       "      <td>0</td>\n",
       "      <td>1</td>\n",
       "    </tr>\n",
       "    <tr>\n",
       "      <th>2</th>\n",
       "      <td>44269</td>\n",
       "      <td>20279</td>\n",
       "      <td>Women</td>\n",
       "      <td>170</td>\n",
       "      <td>80.0</td>\n",
       "      <td>140</td>\n",
       "      <td>69</td>\n",
       "      <td>Normal</td>\n",
       "      <td>Normal</td>\n",
       "      <td>0</td>\n",
       "      <td>0</td>\n",
       "      <td>1</td>\n",
       "    </tr>\n",
       "    <tr>\n",
       "      <th>3</th>\n",
       "      <td>91373</td>\n",
       "      <td>23227</td>\n",
       "      <td>Men</td>\n",
       "      <td>158</td>\n",
       "      <td>80.0</td>\n",
       "      <td>160</td>\n",
       "      <td>90</td>\n",
       "      <td>High</td>\n",
       "      <td>Normal</td>\n",
       "      <td>0</td>\n",
       "      <td>0</td>\n",
       "      <td>1</td>\n",
       "    </tr>\n",
       "    <tr>\n",
       "      <th>4</th>\n",
       "      <td>9686</td>\n",
       "      <td>20461</td>\n",
       "      <td>Men</td>\n",
       "      <td>158</td>\n",
       "      <td>92.0</td>\n",
       "      <td>140</td>\n",
       "      <td>90</td>\n",
       "      <td>Normal</td>\n",
       "      <td>Above Normal</td>\n",
       "      <td>0</td>\n",
       "      <td>0</td>\n",
       "      <td>0</td>\n",
       "    </tr>\n",
       "  </tbody>\n",
       "</table>\n",
       "</div>"
      ],
      "text/plain": [
       "      id    age gender  height  weight  ap_hi  ap_lo cholesterol  \\\n",
       "0  47997  20222    Men     156    57.0    110     70      Normal   \n",
       "1  15311  18079    Men     160    60.0    120     80      Normal   \n",
       "2  44269  20279  Women     170    80.0    140     69      Normal   \n",
       "3  91373  23227    Men     158    80.0    160     90        High   \n",
       "4   9686  20461    Men     158    92.0    140     90      Normal   \n",
       "\n",
       "           gluc  smoke  alco  active  \n",
       "0        Normal      0     1       0  \n",
       "1        Normal      0     0       1  \n",
       "2        Normal      0     0       1  \n",
       "3        Normal      0     0       1  \n",
       "4  Above Normal      0     0       0  "
      ]
     },
     "execution_count": 54,
     "metadata": {},
     "output_type": "execute_result"
    }
   ],
   "source": [
    "test_data = pd.read_csv(\"cardio-test.csv\", sep=\",\")\n",
    "print(test_data.shape)\n",
    "test_data.head()"
   ]
  },
  {
   "cell_type": "code",
   "execution_count": 55,
   "id": "7cc61a0c",
   "metadata": {},
   "outputs": [
    {
     "data": {
      "text/plain": [
       "id             0\n",
       "age            0\n",
       "gender         0\n",
       "height         0\n",
       "weight         0\n",
       "ap_hi          0\n",
       "ap_lo          0\n",
       "cholesterol    0\n",
       "gluc           0\n",
       "smoke          0\n",
       "alco           0\n",
       "active         0\n",
       "dtype: int64"
      ]
     },
     "execution_count": 55,
     "metadata": {},
     "output_type": "execute_result"
    }
   ],
   "source": [
    "test_data.isna().sum()"
   ]
  },
  {
   "cell_type": "code",
   "execution_count": 56,
   "id": "d96b51c6",
   "metadata": {},
   "outputs": [],
   "source": [
    "# test_data = preprocess(test_data)\n",
    "test_data.drop(\"id\", axis=1, inplace=True, errors='ignore')\n",
    "test_data[\"cholesterol\"] = test_data[\"cholesterol\"].apply(replace012)\n",
    "test_data[\"gluc\"] = test_data[\"gluc\"].apply(replace012)\n",
    "test_data[\"gender\"] = test_data[\"gender\"].apply(replace01)"
   ]
  },
  {
   "cell_type": "code",
   "execution_count": 57,
   "id": "da3ccfa2",
   "metadata": {},
   "outputs": [],
   "source": [
    "scalar = MinMaxScaler()\n",
    "test_data = scalar.fit_transform(test_data)"
   ]
  },
  {
   "cell_type": "code",
   "execution_count": 75,
   "id": "900654a5",
   "metadata": {},
   "outputs": [],
   "source": [
    "# REPLACE CLF\n",
    "y_pred_submission = rf_basic.predict(test_data)\n",
    "df_result = pd.DataFrame(y_pred_submission,columns=[\"cardio\"])\n",
    "sample = pd.read_csv(\"sample-submission.csv\")\n",
    "df_result_final = pd.concat([sample.loc[:,\"id\"],df_result], axis=1)\n",
    "df_result_final.to_csv(\"submissions/mean-mode-median-scaling-rf.csv\", index=False)"
   ]
  },
  {
   "cell_type": "code",
   "execution_count": null,
   "id": "c2711f8d",
   "metadata": {},
   "outputs": [],
   "source": []
  }
 ],
 "metadata": {
  "kernelspec": {
   "display_name": "Python 3",
   "language": "python",
   "name": "python3"
  },
  "language_info": {
   "codemirror_mode": {
    "name": "ipython",
    "version": 3
   },
   "file_extension": ".py",
   "mimetype": "text/x-python",
   "name": "python",
   "nbconvert_exporter": "python",
   "pygments_lexer": "ipython3",
   "version": "3.8.8"
  }
 },
 "nbformat": 4,
 "nbformat_minor": 5
}
