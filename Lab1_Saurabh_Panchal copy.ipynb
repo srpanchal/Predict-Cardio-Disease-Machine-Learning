{
 "cells": [
  {
   "cell_type": "markdown",
   "id": "4fc4e4c8",
   "metadata": {},
   "source": [
    "## Task 1"
   ]
  },
  {
   "cell_type": "code",
   "execution_count": 1,
   "id": "e6f1ebfc",
   "metadata": {},
   "outputs": [],
   "source": [
    "import pandas as pd\n",
    "import numpy as np\n",
    "import matplotlib.pyplot as plt\n",
    "import seaborn as sns\n",
    "from scipy import stats"
   ]
  },
  {
   "cell_type": "code",
   "execution_count": 2,
   "id": "0808f272",
   "metadata": {},
   "outputs": [
    {
     "data": {
      "text/html": [
       "<div>\n",
       "<style scoped>\n",
       "    .dataframe tbody tr th:only-of-type {\n",
       "        vertical-align: middle;\n",
       "    }\n",
       "\n",
       "    .dataframe tbody tr th {\n",
       "        vertical-align: top;\n",
       "    }\n",
       "\n",
       "    .dataframe thead th {\n",
       "        text-align: right;\n",
       "    }\n",
       "</style>\n",
       "<table border=\"1\" class=\"dataframe\">\n",
       "  <thead>\n",
       "    <tr style=\"text-align: right;\">\n",
       "      <th></th>\n",
       "      <th>id</th>\n",
       "      <th>age</th>\n",
       "      <th>gender</th>\n",
       "      <th>height</th>\n",
       "      <th>weight</th>\n",
       "      <th>ap_hi</th>\n",
       "      <th>ap_lo</th>\n",
       "      <th>cholesterol</th>\n",
       "      <th>gluc</th>\n",
       "      <th>smoke</th>\n",
       "      <th>alco</th>\n",
       "      <th>active</th>\n",
       "      <th>cardio</th>\n",
       "    </tr>\n",
       "  </thead>\n",
       "  <tbody>\n",
       "    <tr>\n",
       "      <th>0</th>\n",
       "      <td>92150</td>\n",
       "      <td>20535.0</td>\n",
       "      <td>NaN</td>\n",
       "      <td>163.0</td>\n",
       "      <td>75.0</td>\n",
       "      <td>120.0</td>\n",
       "      <td>NaN</td>\n",
       "      <td>NaN</td>\n",
       "      <td>Normal</td>\n",
       "      <td>0.0</td>\n",
       "      <td>0.0</td>\n",
       "      <td>1.0</td>\n",
       "      <td>0</td>\n",
       "    </tr>\n",
       "    <tr>\n",
       "      <th>1</th>\n",
       "      <td>88880</td>\n",
       "      <td>16125.0</td>\n",
       "      <td>Men</td>\n",
       "      <td>168.0</td>\n",
       "      <td>68.0</td>\n",
       "      <td>110.0</td>\n",
       "      <td>70.0</td>\n",
       "      <td>NaN</td>\n",
       "      <td>NaN</td>\n",
       "      <td>0.0</td>\n",
       "      <td>0.0</td>\n",
       "      <td>NaN</td>\n",
       "      <td>0</td>\n",
       "    </tr>\n",
       "    <tr>\n",
       "      <th>2</th>\n",
       "      <td>10483</td>\n",
       "      <td>19761.0</td>\n",
       "      <td>NaN</td>\n",
       "      <td>170.0</td>\n",
       "      <td>75.0</td>\n",
       "      <td>120.0</td>\n",
       "      <td>NaN</td>\n",
       "      <td>NaN</td>\n",
       "      <td>Normal</td>\n",
       "      <td>0.0</td>\n",
       "      <td>0.0</td>\n",
       "      <td>1.0</td>\n",
       "      <td>1</td>\n",
       "    </tr>\n",
       "    <tr>\n",
       "      <th>3</th>\n",
       "      <td>22798</td>\n",
       "      <td>19035.0</td>\n",
       "      <td>Men</td>\n",
       "      <td>NaN</td>\n",
       "      <td>89.0</td>\n",
       "      <td>NaN</td>\n",
       "      <td>80.0</td>\n",
       "      <td>Normal</td>\n",
       "      <td>NaN</td>\n",
       "      <td>0.0</td>\n",
       "      <td>NaN</td>\n",
       "      <td>NaN</td>\n",
       "      <td>0</td>\n",
       "    </tr>\n",
       "    <tr>\n",
       "      <th>4</th>\n",
       "      <td>85542</td>\n",
       "      <td>NaN</td>\n",
       "      <td>NaN</td>\n",
       "      <td>158.0</td>\n",
       "      <td>74.0</td>\n",
       "      <td>NaN</td>\n",
       "      <td>93.0</td>\n",
       "      <td>High</td>\n",
       "      <td>NaN</td>\n",
       "      <td>0.0</td>\n",
       "      <td>1.0</td>\n",
       "      <td>1.0</td>\n",
       "      <td>1</td>\n",
       "    </tr>\n",
       "  </tbody>\n",
       "</table>\n",
       "</div>"
      ],
      "text/plain": [
       "      id      age gender  height  weight  ap_hi  ap_lo cholesterol    gluc  \\\n",
       "0  92150  20535.0    NaN   163.0    75.0  120.0    NaN         NaN  Normal   \n",
       "1  88880  16125.0    Men   168.0    68.0  110.0   70.0         NaN     NaN   \n",
       "2  10483  19761.0    NaN   170.0    75.0  120.0    NaN         NaN  Normal   \n",
       "3  22798  19035.0    Men     NaN    89.0    NaN   80.0      Normal     NaN   \n",
       "4  85542      NaN    NaN   158.0    74.0    NaN   93.0        High     NaN   \n",
       "\n",
       "   smoke  alco  active  cardio  \n",
       "0    0.0   0.0     1.0       0  \n",
       "1    0.0   0.0     NaN       0  \n",
       "2    0.0   0.0     1.0       1  \n",
       "3    0.0   NaN     NaN       0  \n",
       "4    0.0   1.0     1.0       1  "
      ]
     },
     "execution_count": 2,
     "metadata": {},
     "output_type": "execute_result"
    }
   ],
   "source": [
    "cardio_data_train = pd.read_csv(\"cardio-train.csv\", sep = \";\")\n",
    "cardio_data_train.head()"
   ]
  },
  {
   "cell_type": "code",
   "execution_count": 3,
   "id": "9e214eb4",
   "metadata": {},
   "outputs": [
    {
     "name": "stdout",
     "output_type": "stream",
     "text": [
      "Number of features in the cardio data:  13\n",
      "Features: \n",
      "----------\n",
      "id -----> id\n",
      "age -----> Age(days)\n",
      "gender -----> Gender\n",
      "height -----> Height(cm)\n",
      "weight -----> Weight(kg)\n",
      "ap_hi -----> Systolic blood pressure\n",
      "ap_lo -----> Diastolic blood pressure\n",
      "cholesterol -----> Cholesterol\n",
      "gluc -----> Glucose\n",
      "smoke -----> Smoking\n",
      "alco -----> Alcohol intake\n",
      "active -----> Physical activity\n",
      "cardio -----> Presence(1) or absence(0) of cardiovascular disease (Target Variable)\n"
     ]
    }
   ],
   "source": [
    "print(\"Number of features in the cardio data: \",len(cardio_data_train.columns))\n",
    "print(\"Features: \")\n",
    "print(\"-\"*10)\n",
    "features_desc_from_kaggle = [\"id\",\"Age(days)\", \"Gender\",\"Height(cm)\", \"Weight(kg)\", \"Systolic blood pressure\", \\\n",
    " \"Diastolic blood pressure\", \"Cholesterol\", \"Glucose\", \"Smoking\" ,\\\n",
    " \"Alcohol intake\", \"Physical activity\", \"Presence(1) or absence(0) of cardiovascular disease (Target Variable)\"]\n",
    "\n",
    "\n",
    "for i in range(len(cardio_data_train.columns)):\n",
    "    print(cardio_data_train.columns[i]+\" -----> \"+features_desc_from_kaggle[i])"
   ]
  },
  {
   "cell_type": "markdown",
   "id": "515c8647",
   "metadata": {},
   "source": [
    "#### 1. Identify the dataset columns into nominal, categorical, continues etc. categories"
   ]
  },
  {
   "cell_type": "markdown",
   "id": "8e6a4ac4",
   "metadata": {},
   "source": [
    "- **Nominal (Categorical) features** : gender, cholesterol, gluc, smoke, alco, active\n",
    "- **Numeric (Continuous) Features** : age, height, weight, ap_hi, ap_lo\n",
    "- **Target variable** : cardio"
   ]
  },
  {
   "cell_type": "markdown",
   "id": "f537f46d",
   "metadata": {},
   "source": [
    "#### 2. Use dataframe.info and dataframe.describe to get the insights about the data."
   ]
  },
  {
   "cell_type": "code",
   "execution_count": 4,
   "id": "0346b5af",
   "metadata": {},
   "outputs": [
    {
     "name": "stdout",
     "output_type": "stream",
     "text": [
      "<class 'pandas.core.frame.DataFrame'>\n",
      "RangeIndex: 500 entries, 0 to 499\n",
      "Data columns (total 13 columns):\n",
      " #   Column       Non-Null Count  Dtype  \n",
      "---  ------       --------------  -----  \n",
      " 0   id           500 non-null    int64  \n",
      " 1   age          335 non-null    float64\n",
      " 2   gender       329 non-null    object \n",
      " 3   height       198 non-null    float64\n",
      " 4   weight       336 non-null    float64\n",
      " 5   ap_hi        347 non-null    float64\n",
      " 6   ap_lo        332 non-null    float64\n",
      " 7   cholesterol  333 non-null    object \n",
      " 8   gluc         333 non-null    object \n",
      " 9   smoke        326 non-null    float64\n",
      " 10  alco         335 non-null    float64\n",
      " 11  active       343 non-null    float64\n",
      " 12  cardio       500 non-null    int64  \n",
      "dtypes: float64(8), int64(2), object(3)\n",
      "memory usage: 50.9+ KB\n"
     ]
    }
   ],
   "source": [
    "cardio_data_train.info()"
   ]
  },
  {
   "cell_type": "markdown",
   "id": "eac3f763",
   "metadata": {},
   "source": [
    "**Observations:**\n",
    "- We can see presence of NaN(missing) values in all columns except 'id' and 'cardio'.\n",
    "- Most NaN values are in 'height' column. as non-null count is very low.\n",
    "- Float values are present in 'age', 'height', 'weight', 'ap_hi', 'ap_lo', 'smoke', 'alco', and 'active'. These columns are numeric and continuous. Int values are present in 'id' and 'cardio' columns.\n",
    "- For columns 'gender', 'cholesterol' and 'gluc' we see data type as object because these are categorical features with string values."
   ]
  },
  {
   "cell_type": "code",
   "execution_count": 5,
   "id": "2108d6e4",
   "metadata": {},
   "outputs": [
    {
     "data": {
      "text/html": [
       "<div>\n",
       "<style scoped>\n",
       "    .dataframe tbody tr th:only-of-type {\n",
       "        vertical-align: middle;\n",
       "    }\n",
       "\n",
       "    .dataframe tbody tr th {\n",
       "        vertical-align: top;\n",
       "    }\n",
       "\n",
       "    .dataframe thead th {\n",
       "        text-align: right;\n",
       "    }\n",
       "</style>\n",
       "<table border=\"1\" class=\"dataframe\">\n",
       "  <thead>\n",
       "    <tr style=\"text-align: right;\">\n",
       "      <th></th>\n",
       "      <th>id</th>\n",
       "      <th>age</th>\n",
       "      <th>height</th>\n",
       "      <th>weight</th>\n",
       "      <th>ap_hi</th>\n",
       "      <th>ap_lo</th>\n",
       "      <th>smoke</th>\n",
       "      <th>alco</th>\n",
       "      <th>active</th>\n",
       "      <th>cardio</th>\n",
       "    </tr>\n",
       "  </thead>\n",
       "  <tbody>\n",
       "    <tr>\n",
       "      <th>count</th>\n",
       "      <td>500.000000</td>\n",
       "      <td>335.000000</td>\n",
       "      <td>198.000000</td>\n",
       "      <td>336.000000</td>\n",
       "      <td>347.000000</td>\n",
       "      <td>332.000000</td>\n",
       "      <td>326.000000</td>\n",
       "      <td>335.000000</td>\n",
       "      <td>343.000000</td>\n",
       "      <td>500.000000</td>\n",
       "    </tr>\n",
       "    <tr>\n",
       "      <th>mean</th>\n",
       "      <td>50279.916000</td>\n",
       "      <td>19490.886567</td>\n",
       "      <td>163.934343</td>\n",
       "      <td>74.347321</td>\n",
       "      <td>128.685879</td>\n",
       "      <td>90.060241</td>\n",
       "      <td>0.092025</td>\n",
       "      <td>0.065672</td>\n",
       "      <td>0.813411</td>\n",
       "      <td>0.502000</td>\n",
       "    </tr>\n",
       "    <tr>\n",
       "      <th>std</th>\n",
       "      <td>29913.623631</td>\n",
       "      <td>2466.702487</td>\n",
       "      <td>8.258559</td>\n",
       "      <td>14.335964</td>\n",
       "      <td>18.490176</td>\n",
       "      <td>87.396945</td>\n",
       "      <td>0.289505</td>\n",
       "      <td>0.248078</td>\n",
       "      <td>0.390150</td>\n",
       "      <td>0.500497</td>\n",
       "    </tr>\n",
       "    <tr>\n",
       "      <th>min</th>\n",
       "      <td>38.000000</td>\n",
       "      <td>14334.000000</td>\n",
       "      <td>120.000000</td>\n",
       "      <td>45.000000</td>\n",
       "      <td>12.000000</td>\n",
       "      <td>60.000000</td>\n",
       "      <td>0.000000</td>\n",
       "      <td>0.000000</td>\n",
       "      <td>0.000000</td>\n",
       "      <td>0.000000</td>\n",
       "    </tr>\n",
       "    <tr>\n",
       "      <th>25%</th>\n",
       "      <td>23446.500000</td>\n",
       "      <td>17988.500000</td>\n",
       "      <td>159.250000</td>\n",
       "      <td>65.000000</td>\n",
       "      <td>120.000000</td>\n",
       "      <td>80.000000</td>\n",
       "      <td>0.000000</td>\n",
       "      <td>0.000000</td>\n",
       "      <td>1.000000</td>\n",
       "      <td>0.000000</td>\n",
       "    </tr>\n",
       "    <tr>\n",
       "      <th>50%</th>\n",
       "      <td>51913.500000</td>\n",
       "      <td>19719.000000</td>\n",
       "      <td>165.000000</td>\n",
       "      <td>72.000000</td>\n",
       "      <td>120.000000</td>\n",
       "      <td>80.000000</td>\n",
       "      <td>0.000000</td>\n",
       "      <td>0.000000</td>\n",
       "      <td>1.000000</td>\n",
       "      <td>1.000000</td>\n",
       "    </tr>\n",
       "    <tr>\n",
       "      <th>75%</th>\n",
       "      <td>78656.000000</td>\n",
       "      <td>21597.500000</td>\n",
       "      <td>168.000000</td>\n",
       "      <td>82.000000</td>\n",
       "      <td>140.000000</td>\n",
       "      <td>90.000000</td>\n",
       "      <td>0.000000</td>\n",
       "      <td>0.000000</td>\n",
       "      <td>1.000000</td>\n",
       "      <td>1.000000</td>\n",
       "    </tr>\n",
       "    <tr>\n",
       "      <th>max</th>\n",
       "      <td>99662.000000</td>\n",
       "      <td>23479.000000</td>\n",
       "      <td>187.000000</td>\n",
       "      <td>155.000000</td>\n",
       "      <td>190.000000</td>\n",
       "      <td>1000.000000</td>\n",
       "      <td>1.000000</td>\n",
       "      <td>1.000000</td>\n",
       "      <td>1.000000</td>\n",
       "      <td>1.000000</td>\n",
       "    </tr>\n",
       "  </tbody>\n",
       "</table>\n",
       "</div>"
      ],
      "text/plain": [
       "                 id           age      height      weight       ap_hi  \\\n",
       "count    500.000000    335.000000  198.000000  336.000000  347.000000   \n",
       "mean   50279.916000  19490.886567  163.934343   74.347321  128.685879   \n",
       "std    29913.623631   2466.702487    8.258559   14.335964   18.490176   \n",
       "min       38.000000  14334.000000  120.000000   45.000000   12.000000   \n",
       "25%    23446.500000  17988.500000  159.250000   65.000000  120.000000   \n",
       "50%    51913.500000  19719.000000  165.000000   72.000000  120.000000   \n",
       "75%    78656.000000  21597.500000  168.000000   82.000000  140.000000   \n",
       "max    99662.000000  23479.000000  187.000000  155.000000  190.000000   \n",
       "\n",
       "             ap_lo       smoke        alco      active      cardio  \n",
       "count   332.000000  326.000000  335.000000  343.000000  500.000000  \n",
       "mean     90.060241    0.092025    0.065672    0.813411    0.502000  \n",
       "std      87.396945    0.289505    0.248078    0.390150    0.500497  \n",
       "min      60.000000    0.000000    0.000000    0.000000    0.000000  \n",
       "25%      80.000000    0.000000    0.000000    1.000000    0.000000  \n",
       "50%      80.000000    0.000000    0.000000    1.000000    1.000000  \n",
       "75%      90.000000    0.000000    0.000000    1.000000    1.000000  \n",
       "max    1000.000000    1.000000    1.000000    1.000000    1.000000  "
      ]
     },
     "execution_count": 5,
     "metadata": {},
     "output_type": "execute_result"
    }
   ],
   "source": [
    "cardio_data_train.describe()"
   ]
  },
  {
   "cell_type": "markdown",
   "id": "b3903e48",
   "metadata": {},
   "source": [
    "**Observations:**\n",
    "- In the output of describe function, we can see basic stats like min, max, 25%, 50%, 75%, mean and std values for numerical columns in our dataset.\n",
    "- Count represents number of present(non-null) values in each column.\n",
    "- We can see that range of each column is very different.  i.e. 'age' has very high values compared to 'active' or 'smoke' (0/1 values). We can guess that 'age' is given in days. 'ap_lo' has max value which is very high compared to other values of same column, which suggests presence of outlier(s). "
   ]
  },
  {
   "cell_type": "markdown",
   "id": "2c08f38a",
   "metadata": {},
   "source": [
    "#### 3. Find the number of null values for each columns"
   ]
  },
  {
   "cell_type": "code",
   "execution_count": 6,
   "id": "43aec84a",
   "metadata": {},
   "outputs": [
    {
     "name": "stdout",
     "output_type": "stream",
     "text": [
      "number of null values in column id: 0\n",
      "number of null values in column age: 165\n",
      "number of null values in column gender: 171\n",
      "number of null values in column height: 302\n",
      "number of null values in column weight: 164\n",
      "number of null values in column ap_hi: 153\n",
      "number of null values in column ap_lo: 168\n",
      "number of null values in column cholesterol: 167\n",
      "number of null values in column gluc: 167\n",
      "number of null values in column smoke: 174\n",
      "number of null values in column alco: 165\n",
      "number of null values in column active: 157\n",
      "number of null values in column cardio: 0\n"
     ]
    }
   ],
   "source": [
    "for col in cardio_data_train.columns:\n",
    "    print(\"number of null values in column \" + col + \":\", cardio_data_train[col].isnull().sum())"
   ]
  },
  {
   "cell_type": "markdown",
   "id": "70bdda9d",
   "metadata": {},
   "source": [
    "#### 4. Know about the patients (Example of analysis for ages)"
   ]
  },
  {
   "cell_type": "code",
   "execution_count": 7,
   "id": "90280c50",
   "metadata": {},
   "outputs": [
    {
     "name": "stdout",
     "output_type": "stream",
     "text": [
      "a. Oldest person in the data is : 64.0 years\n",
      "b. Youngest person in the data is : 39.0 years\n",
      "c. Average age of a person in the data is : 53.4 years\n",
      "d. Median age of a person in the data is : 54.0 years\n"
     ]
    }
   ],
   "source": [
    "#age is given in days, we can convert it to years by age = age/365\n",
    "cardio_data_train['age'] = (cardio_data_train['age']/365).round()\n",
    "data_age = cardio_data_train['age'].round().describe()\n",
    "print(\"a. Oldest person in the data is : %0.1f years\" % data_age['max'])\n",
    "print(\"b. Youngest person in the data is : %0.1f years\" % data_age['min'])\n",
    "print(\"c. Average age of a person in the data is : %0.1f years\" % data_age['mean'])\n",
    "print(\"d. Median age of a person in the data is : %0.1f years\" % data_age['50%'])"
   ]
  },
  {
   "cell_type": "markdown",
   "id": "71b7a43e",
   "metadata": {},
   "source": [
    "#### e. Find the relationship between the cardio and ages (the cardio column is your prediction variable)"
   ]
  },
  {
   "cell_type": "code",
   "execution_count": 8,
   "id": "b6dea07b",
   "metadata": {},
   "outputs": [
    {
     "data": {
      "image/png": "[encoded data removed]",
      "text/plain": [
       "<Figure size 432x288 with 1 Axes>"
      ]
     },
     "metadata": {
      "needs_background": "light"
     },
     "output_type": "display_data"
    }
   ],
   "source": [
    "age_non_null = pd.DataFrame(cardio_data_train[cardio_data_train.age.notnull()])\n",
    "sns.kdeplot(\n",
    "    data = age_non_null.loc[(age_non_null['cardio'] == 1), 'age'],\n",
    "    color = 'darkturquoise',\n",
    "    shade = True\n",
    ")\n",
    "sns.kdeplot(\n",
    "    data = age_non_null.loc[(age_non_null['cardio'] == 0), 'age'],\n",
    "    color = 'lightcoral',\n",
    "    shade = True\n",
    ")\n",
    "plt.legend(['Cardio', 'No cardio'])\n",
    "plt.title('age vs cardio')\n",
    "plt.xlim(0, 100)\n",
    "plt.show()"
   ]
  },
  {
   "cell_type": "markdown",
   "id": "a5435aea",
   "metadata": {},
   "source": [
    "**Observation:**\n",
    "- As we can see from the density plot, age density distribution of people with cardio disease is on the right side of density distribution of people with no cardio disease. \n",
    "- This suggests that people with higher age(>55) have more risk for cardio disease than people with lesser age(<45)."
   ]
  },
  {
   "cell_type": "markdown",
   "id": "77faafb3",
   "metadata": {},
   "source": [
    "#### f. Find the age groups whose survival rate is the largest"
   ]
  },
  {
   "cell_type": "code",
   "execution_count": 9,
   "id": "1b35d2d6",
   "metadata": {},
   "outputs": [
    {
     "name": "stdout",
     "output_type": "stream",
     "text": [
      "creating bins of 335 people.\n",
      "In age group 30-35 , total people: 0 , people with no cardio: 0 , survival rate: 0\n",
      "In age group 35-40 , total people: 1 , people with no cardio: 1 , survival rate: 1.0\n",
      "In age group 40-45 , total people: 48 , people with no cardio: 36 , survival rate: 0.75\n",
      "In age group 45-50 , total people: 37 , people with no cardio: 18 , survival rate: 0.49\n",
      "In age group 50-55 , total people: 96 , people with no cardio: 51 , survival rate: 0.53\n",
      "In age group 55-60 , total people: 73 , people with no cardio: 34 , survival rate: 0.47\n",
      "In age group 60-65 , total people: 80 , people with no cardio: 22 , survival rate: 0.28\n",
      "In age group 65-70 , total people: 0 , people with no cardio: 0 , survival rate: 0\n",
      "In age group 70-75 , total people: 0 , people with no cardio: 0 , survival rate: 0\n"
     ]
    }
   ],
   "source": [
    "# using only the records that have value for 'age' column\n",
    "bins = [\"30-35\", \"35-40\", \"40-45\", \"45-50\", \"50-55\", \"55-60\", \"60-65\", \"65-70\", \"70-75\"]\n",
    "lo = [30, 35, 40, 45, 50, 55, 60, 65, 70]\n",
    "hi = [35, 40, 45, 50, 55, 60, 65, 70, 75]\n",
    "counts = [0] * len(bins)\n",
    "survivors = [0] * len(bins)\n",
    "ages = pd.DataFrame(age_non_null['age'])\n",
    "cardios = pd.DataFrame(age_non_null['cardio'])\n",
    "bins_age = [''] * len(ages)\n",
    "print(\"creating bins of\", str(len(ages)), \"people.\")\n",
    "for r in range(len(ages)):\n",
    "    age = ages.values[r]\n",
    "    cardio = cardios.values[r]\n",
    "    for i in range(len(bins)):\n",
    "        if age >= lo[i] and age < hi[i]:\n",
    "            counts[i] += 1\n",
    "            bins_age[r] = bins[i]\n",
    "            if cardio == 0:\n",
    "                survivors[i] += 1\n",
    "            break\n",
    "\n",
    "for i in range(len(bins)):\n",
    "    sur_rate = 0\n",
    "    if counts[i] != 0:\n",
    "        sur_rate = survivors[i]/counts[i]\n",
    "    print(\"In age group\", bins[i], \", total people:\", counts[i], \", people with no cardio:\", survivors[i], \", survival rate:\", round(sur_rate, 2))\n",
    "    "
   ]
  },
  {
   "cell_type": "markdown",
   "id": "b3994bf4",
   "metadata": {},
   "source": [
    "Age group 40-45 has the most survival rate.\n",
    "\n",
    "Note: Ignoring the 1 person in age group 35-40 as we cannot generalize survival rate for that age group."
   ]
  },
  {
   "cell_type": "code",
   "execution_count": 10,
   "id": "32ec4cbd",
   "metadata": {},
   "outputs": [
    {
     "data": {
      "image/png": "[encoded data removed]",
      "text/plain": [
       "<Figure size 432x288 with 1 Axes>"
      ]
     },
     "metadata": {
      "needs_background": "light"
     },
     "output_type": "display_data"
    }
   ],
   "source": [
    "sns.countplot(x=bins_age, color=\"g\", order = bins)\n",
    "plt.show()"
   ]
  },
  {
   "cell_type": "markdown",
   "id": "ddf51b11",
   "metadata": {},
   "source": [
    "**Observations:**\n",
    "- From countplot above, we can see the distribution of people in age groups of 5 years. \n",
    "- People can be divided into bins from age 35-40 to 60-65 as we have people from age 39 to 64 years in our data.\n",
    "- We have highest count of people from age group 50-55. \n",
    "- 75% of people from age group 40-45 (36 out of 38) have cardio=0, which makes it age group with highest survival rate."
   ]
  },
  {
   "cell_type": "markdown",
   "id": "cf6caef6",
   "metadata": {},
   "source": [
    "Let's replace categorical features having non-numerical values with integer values."
   ]
  },
  {
   "cell_type": "code",
   "execution_count": 11,
   "id": "b666689d",
   "metadata": {},
   "outputs": [
    {
     "name": "stdout",
     "output_type": "stream",
     "text": [
      "cholesterol unique values:  [nan 'Normal' 'High' 'Above Normal']\n",
      "glucose unique values:  ['Normal' nan 'High' 'Above Normal']\n",
      "gender unique values:  [nan 'Men' 'Women']\n"
     ]
    }
   ],
   "source": [
    "print(\"cholesterol unique values: \", cardio_data_train[\"cholesterol\"].unique())\n",
    "print(\"glucose unique values: \", cardio_data_train[\"gluc\"].unique())\n",
    "print(\"gender unique values: \", cardio_data_train[\"gender\"].unique())"
   ]
  },
  {
   "cell_type": "code",
   "execution_count": 12,
   "id": "e05d6848",
   "metadata": {},
   "outputs": [],
   "source": [
    "from sklearn.preprocessing import LabelEncoder\n",
    "cardio_data_train[\"cholesterol\"] = LabelEncoder().fit_transform(cardio_data_train[\"cholesterol\"])\n",
    "cardio_data_train[\"gluc\"] = LabelEncoder().fit_transform(cardio_data_train[\"gluc\"])\n",
    "cardio_data_train[\"gender\"] = LabelEncoder().fit_transform(cardio_data_train[\"gender\"])"
   ]
  },
  {
   "cell_type": "code",
   "execution_count": 13,
   "id": "47323052",
   "metadata": {},
   "outputs": [
    {
     "name": "stdout",
     "output_type": "stream",
     "text": [
      "Train data: \n",
      "Number of data points for class_0: 249 \n",
      "Number of data points for class_1: 251 \n"
     ]
    },
    {
     "data": {
      "image/png": "[encoded data removed]",
      "text/plain": [
       "<Figure size 432x288 with 1 Axes>"
      ]
     },
     "metadata": {
      "needs_background": "light"
     },
     "output_type": "display_data"
    }
   ],
   "source": [
    "#getting the number of points each class has\n",
    "class_0 = len(cardio_data_train[cardio_data_train[\"cardio\"] == 0])\n",
    "class_1 = len(cardio_data_train[cardio_data_train[\"cardio\"] == 1])\n",
    "\n",
    "print(\"Train data: \")\n",
    "print(\"Number of data points for class_0: %d \"%class_0)\n",
    "print(\"Number of data points for class_1: %d \"%class_1)\n",
    "\n",
    "cardio_data_train.groupby(\"cardio\")[\"id\"].count().plot.bar()\n",
    "plt.ylabel(\"count\")\n",
    "plt.title(\"Count per class in Train data\")\n",
    "plt.show()"
   ]
  },
  {
   "cell_type": "code",
   "execution_count": 14,
   "id": "093e1508",
   "metadata": {},
   "outputs": [],
   "source": [
    "#dropping the \"id\" column\n",
    "cardio_data_train.drop(\"id\", axis=1, inplace=True)"
   ]
  },
  {
   "cell_type": "code",
   "execution_count": 15,
   "id": "175b1812",
   "metadata": {},
   "outputs": [
    {
     "data": {
      "text/html": [
       "<div>\n",
       "<style scoped>\n",
       "    .dataframe tbody tr th:only-of-type {\n",
       "        vertical-align: middle;\n",
       "    }\n",
       "\n",
       "    .dataframe tbody tr th {\n",
       "        vertical-align: top;\n",
       "    }\n",
       "\n",
       "    .dataframe thead th {\n",
       "        text-align: right;\n",
       "    }\n",
       "</style>\n",
       "<table border=\"1\" class=\"dataframe\">\n",
       "  <thead>\n",
       "    <tr style=\"text-align: right;\">\n",
       "      <th></th>\n",
       "      <th>age</th>\n",
       "      <th>gender</th>\n",
       "      <th>height</th>\n",
       "      <th>weight</th>\n",
       "      <th>ap_hi</th>\n",
       "      <th>ap_lo</th>\n",
       "      <th>cholesterol</th>\n",
       "      <th>gluc</th>\n",
       "      <th>smoke</th>\n",
       "      <th>alco</th>\n",
       "      <th>active</th>\n",
       "      <th>cardio</th>\n",
       "    </tr>\n",
       "  </thead>\n",
       "  <tbody>\n",
       "    <tr>\n",
       "      <th>0</th>\n",
       "      <td>56.0</td>\n",
       "      <td>2</td>\n",
       "      <td>163.0</td>\n",
       "      <td>75.0</td>\n",
       "      <td>120.0</td>\n",
       "      <td>NaN</td>\n",
       "      <td>3</td>\n",
       "      <td>2</td>\n",
       "      <td>0.0</td>\n",
       "      <td>0.0</td>\n",
       "      <td>1.0</td>\n",
       "      <td>0</td>\n",
       "    </tr>\n",
       "    <tr>\n",
       "      <th>1</th>\n",
       "      <td>44.0</td>\n",
       "      <td>0</td>\n",
       "      <td>168.0</td>\n",
       "      <td>68.0</td>\n",
       "      <td>110.0</td>\n",
       "      <td>70.0</td>\n",
       "      <td>3</td>\n",
       "      <td>3</td>\n",
       "      <td>0.0</td>\n",
       "      <td>0.0</td>\n",
       "      <td>NaN</td>\n",
       "      <td>0</td>\n",
       "    </tr>\n",
       "    <tr>\n",
       "      <th>2</th>\n",
       "      <td>54.0</td>\n",
       "      <td>2</td>\n",
       "      <td>170.0</td>\n",
       "      <td>75.0</td>\n",
       "      <td>120.0</td>\n",
       "      <td>NaN</td>\n",
       "      <td>3</td>\n",
       "      <td>2</td>\n",
       "      <td>0.0</td>\n",
       "      <td>0.0</td>\n",
       "      <td>1.0</td>\n",
       "      <td>1</td>\n",
       "    </tr>\n",
       "    <tr>\n",
       "      <th>3</th>\n",
       "      <td>52.0</td>\n",
       "      <td>0</td>\n",
       "      <td>NaN</td>\n",
       "      <td>89.0</td>\n",
       "      <td>NaN</td>\n",
       "      <td>80.0</td>\n",
       "      <td>2</td>\n",
       "      <td>3</td>\n",
       "      <td>0.0</td>\n",
       "      <td>NaN</td>\n",
       "      <td>NaN</td>\n",
       "      <td>0</td>\n",
       "    </tr>\n",
       "    <tr>\n",
       "      <th>4</th>\n",
       "      <td>NaN</td>\n",
       "      <td>2</td>\n",
       "      <td>158.0</td>\n",
       "      <td>74.0</td>\n",
       "      <td>NaN</td>\n",
       "      <td>93.0</td>\n",
       "      <td>1</td>\n",
       "      <td>3</td>\n",
       "      <td>0.0</td>\n",
       "      <td>1.0</td>\n",
       "      <td>1.0</td>\n",
       "      <td>1</td>\n",
       "    </tr>\n",
       "  </tbody>\n",
       "</table>\n",
       "</div>"
      ],
      "text/plain": [
       "    age  gender  height  weight  ap_hi  ap_lo  cholesterol  gluc  smoke  alco  \\\n",
       "0  56.0       2   163.0    75.0  120.0    NaN            3     2    0.0   0.0   \n",
       "1  44.0       0   168.0    68.0  110.0   70.0            3     3    0.0   0.0   \n",
       "2  54.0       2   170.0    75.0  120.0    NaN            3     2    0.0   0.0   \n",
       "3  52.0       0     NaN    89.0    NaN   80.0            2     3    0.0   NaN   \n",
       "4   NaN       2   158.0    74.0    NaN   93.0            1     3    0.0   1.0   \n",
       "\n",
       "   active  cardio  \n",
       "0     1.0       0  \n",
       "1     NaN       0  \n",
       "2     1.0       1  \n",
       "3     NaN       0  \n",
       "4     1.0       1  "
      ]
     },
     "execution_count": 15,
     "metadata": {},
     "output_type": "execute_result"
    }
   ],
   "source": [
    "cardio_data_train.head()"
   ]
  },
  {
   "cell_type": "code",
   "execution_count": 16,
   "id": "23bbd616",
   "metadata": {},
   "outputs": [
    {
     "data": {
      "text/plain": [
       "age            165\n",
       "gender           0\n",
       "height         302\n",
       "weight         164\n",
       "ap_hi          153\n",
       "ap_lo          168\n",
       "cholesterol      0\n",
       "gluc             0\n",
       "smoke          174\n",
       "alco           165\n",
       "active         157\n",
       "cardio           0\n",
       "dtype: int64"
      ]
     },
     "execution_count": 16,
     "metadata": {},
     "output_type": "execute_result"
    }
   ],
   "source": [
    "cardio_data_train.isna().sum()"
   ]
  },
  {
   "cell_type": "code",
   "execution_count": 17,
   "id": "d69baec5",
   "metadata": {},
   "outputs": [
    {
     "data": {
      "text/plain": [
       "age            0\n",
       "gender         0\n",
       "height         0\n",
       "weight         0\n",
       "ap_hi          0\n",
       "ap_lo          0\n",
       "cholesterol    0\n",
       "gluc           0\n",
       "smoke          0\n",
       "alco           0\n",
       "active         0\n",
       "cardio         0\n",
       "dtype: int64"
      ]
     },
     "execution_count": 17,
     "metadata": {},
     "output_type": "execute_result"
    }
   ],
   "source": [
    "#replacing NaN values with mean in numerical before finding relationships between features and target variable\n",
    "#replacing NaN values with mode in categorical attributes\n",
    "\n",
    "from scipy import stats\n",
    "\n",
    "numerical_columns = [\"age\", \"ap_hi\", \"ap_lo\", \"smoke\", \"alco\", \"active\", \"height\", \"weight\"]\n",
    "for col in numerical_columns:\n",
    "    cardio_data_train.loc[:,col].replace(np.nan, np.nanmean(cardio_data_train[col]), inplace=True)\n",
    "\n",
    "\n",
    "categorical_columns = [\"cholesterol\",\"gluc\",\"gender\"]\n",
    "for col in categorical_columns:\n",
    "    cardio_data_train.loc[:,col].replace(np.nan, stats.mode(cardio_data_train[col])[0][0], inplace=True)\n",
    "\n",
    "cardio_data_train.isna().sum()\n"
   ]
  },
  {
   "cell_type": "markdown",
   "id": "d8296ac0",
   "metadata": {},
   "source": [
    "#### g. Find similar relationships for at least 3-4 columns that you think can play a role in prediction (For example, systolic BP, cholesterol etc.)"
   ]
  },
  {
   "cell_type": "markdown",
   "id": "59b0c892",
   "metadata": {},
   "source": [
    "Using density plots to find relationships between few features and target variable. \n",
    "Note: All the NaN values have been replaced with mean(numeric features)/mode(categorical features) in previous cell. So now, in following plots, we will use entire training set (500 rows)."
   ]
  },
  {
   "cell_type": "code",
   "execution_count": 18,
   "id": "3e8f8bee",
   "metadata": {},
   "outputs": [
    {
     "data": {
      "image/png": "[encoded data removed]",
      "text/plain": [
       "<Figure size 432x288 with 1 Axes>"
      ]
     },
     "metadata": {
      "needs_background": "light"
     },
     "output_type": "display_data"
    }
   ],
   "source": [
    "sns.kdeplot(x=\"age\",hue=\"cardio\",fill=True,data=cardio_data_train)\n",
    "plt.show()"
   ]
  },
  {
   "cell_type": "markdown",
   "id": "a47293b2",
   "metadata": {},
   "source": [
    "**Observations:**\n",
    "- We can see in the kde plot that people arround the age 35-45 have higher chance of cardio=0.\n",
    "- People around the age 50-55 have high survival rate as well as high fatality rate. \n",
    "- People with age 57-70 have high chance of having cardio=1."
   ]
  },
  {
   "cell_type": "code",
   "execution_count": 19,
   "id": "edfafde9",
   "metadata": {},
   "outputs": [
    {
     "data": {
      "text/plain": [
       "[]"
      ]
     },
     "execution_count": 19,
     "metadata": {},
     "output_type": "execute_result"
    },
    {
     "data": {
      "image/png": "[encoded data removed]",
      "text/plain": [
       "<Figure size 432x288 with 1 Axes>"
      ]
     },
     "metadata": {
      "needs_background": "light"
     },
     "output_type": "display_data"
    }
   ],
   "source": [
    "sns.kdeplot(x=\"ap_hi\",hue=\"cardio\",fill=True,data=cardio_data_train)\n",
    "plt.plot()"
   ]
  },
  {
   "cell_type": "markdown",
   "id": "5a7d524c",
   "metadata": {},
   "source": [
    "**Observations:**\n",
    "- People with average Systolic blood pressure(ap_hi) have higher chance of having cardio=0, i.e. there is higher chance that they don't have cardio disease."
   ]
  },
  {
   "cell_type": "code",
   "execution_count": 20,
   "id": "df9e782a",
   "metadata": {},
   "outputs": [
    {
     "data": {
      "text/plain": [
       "[]"
      ]
     },
     "execution_count": 20,
     "metadata": {},
     "output_type": "execute_result"
    },
    {
     "data": {
      "image/png": "[encoded data removed]",
      "text/plain": [
       "<Figure size 432x288 with 1 Axes>"
      ]
     },
     "metadata": {
      "needs_background": "light"
     },
     "output_type": "display_data"
    }
   ],
   "source": [
    "sns.kdeplot(x=\"ap_lo\",hue=\"cardio\",fill=True,data=cardio_data_train)\n",
    "plt.plot()"
   ]
  },
  {
   "cell_type": "markdown",
   "id": "0642e49c",
   "metadata": {},
   "source": [
    "**Observations:**\n",
    "- We can see from density plot of ap_lo that people with average Diastolic blood pressure(ap_lo) have very high probability of not having cardio disease. "
   ]
  },
  {
   "cell_type": "code",
   "execution_count": 21,
   "id": "e1db8bd6",
   "metadata": {},
   "outputs": [
    {
     "data": {
      "text/plain": [
       "[]"
      ]
     },
     "execution_count": 21,
     "metadata": {},
     "output_type": "execute_result"
    },
    {
     "data": {
      "image/png": "[encoded data removed]",
      "text/plain": [
       "<Figure size 432x288 with 1 Axes>"
      ]
     },
     "metadata": {
      "needs_background": "light"
     },
     "output_type": "display_data"
    }
   ],
   "source": [
    "sns.kdeplot(x=\"cholesterol\",hue=\"cardio\",fill=True,data=cardio_data_train)\n",
    "plt.plot()"
   ]
  },
  {
   "cell_type": "markdown",
   "id": "46ad01ba",
   "metadata": {},
   "source": [
    "**Observations:**\n",
    "- From density plot of cholesterol, we can see that people with Normal(0) cholesterol have higher chance of cardio=0. i.e. there is high chance that they will not have cardio disease, than people who have more cholesterol. "
   ]
  },
  {
   "cell_type": "code",
   "execution_count": 22,
   "id": "fde63db7",
   "metadata": {},
   "outputs": [
    {
     "data": {
      "text/plain": [
       "[]"
      ]
     },
     "execution_count": 22,
     "metadata": {},
     "output_type": "execute_result"
    },
    {
     "data": {
      "image/png": "[encoded data removed]",
      "text/plain": [
       "<Figure size 432x288 with 1 Axes>"
      ]
     },
     "metadata": {
      "needs_background": "light"
     },
     "output_type": "display_data"
    }
   ],
   "source": [
    "sns.kdeplot(x=\"gluc\",hue=\"cardio\",fill=True,data=cardio_data_train)\n",
    "plt.plot()"
   ]
  },
  {
   "cell_type": "markdown",
   "id": "3a5f5420",
   "metadata": {},
   "source": [
    "**Observations:**\n",
    "- In the \"gluc\" kde plot, we can see that, people who have Normal(0) glucose have higher chance of cardio=0, i.e there is a high chance that they wont have cardiovascular disease, than the people who have more glucose."
   ]
  },
  {
   "cell_type": "code",
   "execution_count": 23,
   "id": "5e52f81a",
   "metadata": {},
   "outputs": [
    {
     "data": {
      "text/plain": [
       "[]"
      ]
     },
     "execution_count": 23,
     "metadata": {},
     "output_type": "execute_result"
    },
    {
     "data": {
      "image/png": "[encoded data removed]",
      "text/plain": [
       "<Figure size 432x288 with 1 Axes>"
      ]
     },
     "metadata": {
      "needs_background": "light"
     },
     "output_type": "display_data"
    }
   ],
   "source": [
    "sns.kdeplot(x=\"active\",hue=\"cardio\",fill=True,data=cardio_data_train)\n",
    "plt.plot()"
   ]
  },
  {
   "cell_type": "markdown",
   "id": "551e5450",
   "metadata": {},
   "source": [
    "**Observations:**\n",
    "- In the \"active\" kde plot, we can see that, people who are more physically active have a slightly higher chance of cardio = 0, i.e there is a high chance that they won't have cardiovascular disease, than the people who have less physically active."
   ]
  },
  {
   "cell_type": "code",
   "execution_count": 24,
   "id": "84aef09b",
   "metadata": {
    "scrolled": false
   },
   "outputs": [
    {
     "data": {
      "text/plain": [
       "[]"
      ]
     },
     "execution_count": 24,
     "metadata": {},
     "output_type": "execute_result"
    },
    {
     "data": {
      "image/png": "[encoded data removed]",
      "text/plain": [
       "<Figure size 720x360 with 2 Axes>"
      ]
     },
     "metadata": {
      "needs_background": "light"
     },
     "output_type": "display_data"
    }
   ],
   "source": [
    "fig,ax = plt.subplots(1,2, figsize=(10,5))\n",
    "sns.kdeplot(x=\"height\",hue=\"cardio\",fill=True,data=cardio_data_train,ax=ax[0])\n",
    "sns.kdeplot(x=\"weight\",hue=\"cardio\",fill=True,data=cardio_data_train,ax=ax[1])\n",
    "plt.plot()"
   ]
  },
  {
   "cell_type": "markdown",
   "id": "1bcf65fc",
   "metadata": {},
   "source": [
    "**Observations:**\n",
    "- In kde plot of height, the plot of cardio=0 and cardio=1 is roughly the same and from this we can also tell height column does not add much importance, so we can drop height column when we are building our model.\n",
    "- In kde plot of weight, the plot of cardio=0 and cardio=1 is roughly the same and from this we can also tell weight column does not add much importance, so we can drop weight column when we are building our model."
   ]
  },
  {
   "cell_type": "markdown",
   "id": "c748fa03",
   "metadata": {},
   "source": [
    "#### h. Get more visuals on data distributions"
   ]
  },
  {
   "cell_type": "code",
   "execution_count": 25,
   "id": "f6f13320",
   "metadata": {},
   "outputs": [
    {
     "data": {
      "image/png": "[encoded data removed]",
      "text/plain": [
       "<Figure size 720x720 with 2 Axes>"
      ]
     },
     "metadata": {
      "needs_background": "light"
     },
     "output_type": "display_data"
    }
   ],
   "source": [
    "#i. Use plotCorrelationMatrix\n",
    "corr_matrix = cardio_data_train.corr()\n",
    "plt.figure(figsize=(10,10))\n",
    "sns.heatmap(corr_matrix, annot=True)\n",
    "plt.show()"
   ]
  },
  {
   "cell_type": "code",
   "execution_count": 26,
   "id": "c033a966",
   "metadata": {},
   "outputs": [
    {
     "data": {
      "text/plain": [
       "<Figure size 432x288 with 0 Axes>"
      ]
     },
     "metadata": {},
     "output_type": "display_data"
    },
    {
     "data": {
      "image/png": "[encoded data removed]",
      "text/plain": [
       "<Figure size 1440x1440 with 144 Axes>"
      ]
     },
     "metadata": {
      "needs_background": "light"
     },
     "output_type": "display_data"
    }
   ],
   "source": [
    "# ii. plotScatterMatrix\n",
    "plt.figure()\n",
    "pd.plotting.scatter_matrix(cardio_data_train, figsize=(20,20), diagonal=\"kde\", alpha=0.2)\n",
    "plt.show()"
   ]
  },
  {
   "cell_type": "code",
   "execution_count": 27,
   "id": "cc00ec9a",
   "metadata": {},
   "outputs": [
    {
     "data": {
      "text/plain": [
       "[]"
      ]
     },
     "execution_count": 27,
     "metadata": {},
     "output_type": "execute_result"
    },
    {
     "data": {
      "image/png": "[encoded data removed]",
      "text/plain": [
       "<Figure size 720x720 with 12 Axes>"
      ]
     },
     "metadata": {
      "needs_background": "light"
     },
     "output_type": "display_data"
    }
   ],
   "source": [
    "#iii. plotPerColumnDistribution\n",
    "cardio_data_train.hist(figsize=(10,10))\n",
    "plt.plot()"
   ]
  },
  {
   "cell_type": "markdown",
   "id": "0401f7fe",
   "metadata": {},
   "source": [
    "**Observations:**\n",
    "- 'ap_hi', 'age', 'cholesterol' have highest correlation with cardio in decreasing order, suggesting that these are top 3 most important features.\n",
    "- 'height', 'gender', 'smoke', 'alco', 'active' these features have very less correlation with cardio. These columns will contribute very less in our prediction task."
   ]
  },
  {
   "cell_type": "markdown",
   "id": "599e7d9c",
   "metadata": {},
   "source": [
    "#### i. Find missing values"
   ]
  },
  {
   "cell_type": "markdown",
   "id": "7aa8dc95",
   "metadata": {},
   "source": [
    "#### i. Get the count of missing values"
   ]
  },
  {
   "cell_type": "code",
   "execution_count": 33,
   "id": "eea2a1fb",
   "metadata": {},
   "outputs": [
    {
     "name": "stdout",
     "output_type": "stream",
     "text": [
      "number of null values in column id: 0\n",
      "number of null values in column age: 165\n",
      "number of null values in column gender: 171\n",
      "number of null values in column height: 302\n",
      "number of null values in column weight: 164\n",
      "number of null values in column ap_hi: 153\n",
      "number of null values in column ap_lo: 168\n",
      "number of null values in column cholesterol: 167\n",
      "number of null values in column gluc: 167\n",
      "number of null values in column smoke: 174\n",
      "number of null values in column alco: 165\n",
      "number of null values in column active: 157\n",
      "number of null values in column cardio: 0\n"
     ]
    }
   ],
   "source": [
    "cardio_data_train_missing = pd.read_csv(\"cardio-train.csv\", sep=\";\")\n",
    "for col in cardio_data_train_missing.columns:\n",
    "    print(\"number of null values in column \" + col + \":\", cardio_data_train_missing[col].isnull().sum())"
   ]
  },
  {
   "cell_type": "markdown",
   "id": "da52c7d8",
   "metadata": {},
   "source": [
    "#### ii. Plot a heat map for missing values"
   ]
  },
  {
   "cell_type": "code",
   "execution_count": 34,
   "id": "6ec553ca",
   "metadata": {},
   "outputs": [
    {
     "data": {
      "image/png": "[encoded data removed]",
      "text/plain": [
       "<Figure size 720x720 with 2 Axes>"
      ]
     },
     "metadata": {
      "needs_background": "light"
     },
     "output_type": "display_data"
    }
   ],
   "source": [
    "plt.figure(figsize=(10,10))\n",
    "sns.heatmap(cardio_data_train_missing.isnull())\n",
    "plt.show()"
   ]
  },
  {
   "cell_type": "markdown",
   "id": "f9e41eee",
   "metadata": {},
   "source": [
    "**Observations:**\n",
    "- Above plot shows the heatmap of null values per column.\n",
    "- We can clearly see that 'height' column has most null values as it has most light colour. \n",
    "- 'cardio' and 'id' has entire column with black colour, which indicates 0 missing values for these columns."
   ]
  },
  {
   "cell_type": "code",
   "execution_count": 35,
   "id": "20f39944",
   "metadata": {},
   "outputs": [],
   "source": [
    "# custom label encoder methods for categorical columns\n",
    "\n",
    "#High=2, Above Normal=1, Normal=0\n",
    "def replace012(x):\n",
    "    if x == \"High\":\n",
    "        return 2\n",
    "    elif x == \"Above Normal\":\n",
    "        return 1\n",
    "    elif x ==\"Normal\":\n",
    "        return 0\n",
    "#Women=0, Men=1\n",
    "def replace01(x):\n",
    "    if x == \"Women\":\n",
    "        return 0\n",
    "    elif x == \"Men\":\n",
    "        return 1"
   ]
  },
  {
   "cell_type": "code",
   "execution_count": 36,
   "id": "53e659d1",
   "metadata": {},
   "outputs": [],
   "source": [
    "# turning categorical string values into numerical values\n",
    "cardio_data_train_missing[\"cholesterol\"] = cardio_data_train_missing[\"cholesterol\"].apply(replace012)\n",
    "cardio_data_train_missing[\"gluc\"] = cardio_data_train_missing[\"gluc\"].apply(replace012)\n",
    "cardio_data_train_missing[\"gender\"] = cardio_data_train_missing[\"gender\"].apply(replace01) \n",
    "cardio_data_train_missing.drop(\"id\",axis=1,inplace=True)"
   ]
  },
  {
   "cell_type": "markdown",
   "id": "ea30afce",
   "metadata": {},
   "source": [
    "#### j. Applying a different technique to handle missing values (For each technique verify your prediction results)"
   ]
  },
  {
   "cell_type": "code",
   "execution_count": 37,
   "id": "6f1036a9",
   "metadata": {},
   "outputs": [],
   "source": [
    "# defining a method to train logistic regression model on given data\n",
    "from sklearn.linear_model import LogisticRegression\n",
    "from sklearn.preprocessing import MinMaxScaler\n",
    "from sklearn.model_selection import train_test_split\n",
    "from sklearn.metrics import accuracy_score, f1_score\n",
    "\n",
    "def test_logistic_regression_model(data):\n",
    "    scaler = MinMaxScaler()\n",
    "    y = data.loc[:,\"cardio\"]\n",
    "    X = data.drop(\"cardio\",1)\n",
    "    X = scaler.fit_transform(X)\n",
    "    x_train,x_test,y_train,y_test = train_test_split(X, y, test_size=0.2, stratify=y, random_state=1)\n",
    "    clf = LogisticRegression()\n",
    "    clf.fit(x_train,y_train)\n",
    "\n",
    "    y_pred_test = clf.predict(x_test)\n",
    "    y_pred_train = clf.predict(x_train)\n",
    "\n",
    "    accuracy_train = accuracy_score(y_train,y_pred_train)\n",
    "    accuracy_test = accuracy_score(y_test,y_pred_test)\n",
    "    f1 = f1_score(y_test,y_pred_test)\n",
    "    return accuracy_train, accuracy_test, f1\n"
   ]
  },
  {
   "cell_type": "code",
   "execution_count": 38,
   "id": "288c3449",
   "metadata": {},
   "outputs": [],
   "source": [
    "def print_null_values(data):\n",
    "    for col in data.columns:\n",
    "        print(\"number of null values in column \" + col + \":\", data[col].isnull().sum())"
   ]
  },
  {
   "cell_type": "markdown",
   "id": "cd1a1712",
   "metadata": {},
   "source": [
    "#### i. Use dropna"
   ]
  },
  {
   "cell_type": "code",
   "execution_count": 39,
   "id": "d26cc306",
   "metadata": {},
   "outputs": [
    {
     "name": "stdout",
     "output_type": "stream",
     "text": [
      "number of null values in column age: 0\n",
      "number of null values in column gender: 0\n",
      "number of null values in column height: 0\n",
      "number of null values in column weight: 0\n",
      "number of null values in column ap_hi: 0\n",
      "number of null values in column ap_lo: 0\n",
      "number of null values in column cholesterol: 0\n",
      "number of null values in column gluc: 0\n",
      "number of null values in column smoke: 0\n",
      "number of null values in column alco: 0\n",
      "number of null values in column active: 0\n",
      "number of null values in column cardio: 0\n"
     ]
    }
   ],
   "source": [
    "drop_na_data_train = cardio_data_train_missing.copy()\n",
    "drop_na_data_train = drop_na_data_train.dropna()\n",
    "print_null_values(drop_na_data_train)"
   ]
  },
  {
   "cell_type": "code",
   "execution_count": 40,
   "id": "502c8cd6",
   "metadata": {},
   "outputs": [
    {
     "name": "stdout",
     "output_type": "stream",
     "text": [
      "Train Accuracy after dropping rows with NaN values:  1.0\n",
      "Test Accuracy after dropping rows with NaN values:  0.5\n",
      "f1 score after dropping rows with NaN values:  0.0\n"
     ]
    }
   ],
   "source": [
    "accuracy_train, accuracy_test, f1 = test_logistic_regression_model(drop_na_data_train)\n",
    "print(\"Train Accuracy after dropping rows with NaN values: \",accuracy_train)\n",
    "print(\"Test Accuracy after dropping rows with NaN values: \",accuracy_test)\n",
    "print(\"f1 score after dropping rows with NaN values: \",f1)"
   ]
  },
  {
   "cell_type": "markdown",
   "id": "37467a8e",
   "metadata": {},
   "source": [
    "**Observations:**\n",
    "- Test accuracy with dropna strategy is 0.5, which is same as random guess.\n",
    "- So, dropping NaN values is not a good strategy."
   ]
  },
  {
   "cell_type": "markdown",
   "id": "6e6dac65",
   "metadata": {},
   "source": [
    "#### ii. Use replace NA with zero or max value"
   ]
  },
  {
   "cell_type": "code",
   "execution_count": 41,
   "id": "1b807b88",
   "metadata": {},
   "outputs": [
    {
     "name": "stdout",
     "output_type": "stream",
     "text": [
      "number of null values in column age: 0\n",
      "number of null values in column gender: 0\n",
      "number of null values in column height: 0\n",
      "number of null values in column weight: 0\n",
      "number of null values in column ap_hi: 0\n",
      "number of null values in column ap_lo: 0\n",
      "number of null values in column cholesterol: 0\n",
      "number of null values in column gluc: 0\n",
      "number of null values in column smoke: 0\n",
      "number of null values in column alco: 0\n",
      "number of null values in column active: 0\n",
      "number of null values in column cardio: 0\n"
     ]
    }
   ],
   "source": [
    "replace_zero_data_train = cardio_data_train_missing.copy()\n",
    "replace_zero_data_train.replace(np.nan, 0, inplace=True)\n",
    "print_null_values(replace_zero_data_train)"
   ]
  },
  {
   "cell_type": "code",
   "execution_count": 42,
   "id": "cdae1ead",
   "metadata": {},
   "outputs": [
    {
     "name": "stdout",
     "output_type": "stream",
     "text": [
      "Train Accuracy after replacing NaN with 0:  0.6375\n",
      "Test Accuracy after replacing NaN with 0:  0.56\n",
      "f1 score after replacing NaN with 0:  0.56\n"
     ]
    }
   ],
   "source": [
    "accuracy_train, accuracy_test, f1 = test_logistic_regression_model(replace_zero_data_train)\n",
    "print(\"Train Accuracy after replacing NaN with 0: \",accuracy_train)\n",
    "print(\"Test Accuracy after replacing NaN with 0: \",accuracy_test)\n",
    "print(\"f1 score after replacing NaN with 0: \",f1)"
   ]
  },
  {
   "cell_type": "markdown",
   "id": "58129675",
   "metadata": {},
   "source": [
    "**Observations:**\n",
    "- Replacing NaN with 0 gives test accuracy of 56%, which is improvement from dropna, but it is very bad accuracy for binary classification problem."
   ]
  },
  {
   "cell_type": "markdown",
   "id": "caec5acc",
   "metadata": {},
   "source": [
    "#### iii. Use replace NA with mean"
   ]
  },
  {
   "cell_type": "code",
   "execution_count": 43,
   "id": "0c06cdd3",
   "metadata": {},
   "outputs": [
    {
     "name": "stdout",
     "output_type": "stream",
     "text": [
      "number of null values in column age: 0\n",
      "number of null values in column gender: 0\n",
      "number of null values in column height: 0\n",
      "number of null values in column weight: 0\n",
      "number of null values in column ap_hi: 0\n",
      "number of null values in column ap_lo: 0\n",
      "number of null values in column cholesterol: 0\n",
      "number of null values in column gluc: 0\n",
      "number of null values in column smoke: 0\n",
      "number of null values in column alco: 0\n",
      "number of null values in column active: 0\n",
      "number of null values in column cardio: 0\n"
     ]
    }
   ],
   "source": [
    "mean_replace_cardio_train = cardio_data_train_missing.copy()\n",
    "for x in mean_replace_cardio_train.columns:\n",
    "    mean_column = np.nanmean(mean_replace_cardio_train[x].values)\n",
    "    mean_replace_cardio_train[x].replace(np.nan, mean_column, inplace=True)\n",
    "print_null_values(mean_replace_cardio_train)"
   ]
  },
  {
   "cell_type": "code",
   "execution_count": 44,
   "id": "8eb43022",
   "metadata": {},
   "outputs": [
    {
     "name": "stdout",
     "output_type": "stream",
     "text": [
      "Train Accuracy after replacing NaN with mean:  0.685\n",
      "Test Accuracy after replacing NaN with mean:  0.68\n",
      "f1 score after replacing NaN with mean:  0.6923076923076923\n"
     ]
    }
   ],
   "source": [
    "accuracy_train, accuracy_test, f1 = test_logistic_regression_model(mean_replace_cardio_train)\n",
    "print(\"Train Accuracy after replacing NaN with mean: \",accuracy_train)\n",
    "print(\"Test Accuracy after replacing NaN with mean: \",accuracy_test)\n",
    "print(\"f1 score after replacing NaN with mean: \",f1)"
   ]
  },
  {
   "cell_type": "markdown",
   "id": "c9cad95a",
   "metadata": {},
   "source": [
    "**Observations:**\n",
    "- After replacing NaN values with mean of individual columns, we get test accuracy of 68% and f1 score of 69%. which is better result than previous 2 strategies.\n",
    "- This method of replacement is better than dropna and replace with 0."
   ]
  },
  {
   "cell_type": "markdown",
   "id": "f90ede8e",
   "metadata": {},
   "source": [
    "#### iv. Search for additional techniques to handle null values, excluding the above three and test."
   ]
  },
  {
   "cell_type": "markdown",
   "id": "526d7e97",
   "metadata": {},
   "source": [
    "#### Use replace NA with median"
   ]
  },
  {
   "cell_type": "code",
   "execution_count": 45,
   "id": "ac054f99",
   "metadata": {},
   "outputs": [
    {
     "name": "stdout",
     "output_type": "stream",
     "text": [
      "number of null values in column age: 0\n",
      "number of null values in column gender: 0\n",
      "number of null values in column height: 0\n",
      "number of null values in column weight: 0\n",
      "number of null values in column ap_hi: 0\n",
      "number of null values in column ap_lo: 0\n",
      "number of null values in column cholesterol: 0\n",
      "number of null values in column gluc: 0\n",
      "number of null values in column smoke: 0\n",
      "number of null values in column alco: 0\n",
      "number of null values in column active: 0\n",
      "number of null values in column cardio: 0\n"
     ]
    }
   ],
   "source": [
    "median_replace_cardio_train = cardio_data_train_missing.copy()\n",
    "for col in median_replace_cardio_train.columns:\n",
    "    median_column = np.nanmedian(median_replace_cardio_train[col].values)\n",
    "    median_replace_cardio_train[col].replace(np.nan, median_column, inplace=True)\n",
    "print_null_values(median_replace_cardio_train)"
   ]
  },
  {
   "cell_type": "code",
   "execution_count": 46,
   "id": "fc04409e",
   "metadata": {},
   "outputs": [
    {
     "name": "stdout",
     "output_type": "stream",
     "text": [
      "Train Accuracy after replacing NaN with median:  0.7\n",
      "Test Accuracy after replacing NaN with median:  0.62\n",
      "f1 score after replacing NaN with median:  0.6415094339622641\n"
     ]
    }
   ],
   "source": [
    "accuracy_train, accuracy_test, f1 = test_logistic_regression_model(median_replace_cardio_train)\n",
    "print(\"Train Accuracy after replacing NaN with median: \",accuracy_train)\n",
    "print(\"Test Accuracy after replacing NaN with median: \",accuracy_test)\n",
    "print(\"f1 score after replacing NaN with median: \",f1)"
   ]
  },
  {
   "cell_type": "markdown",
   "id": "38edabaa",
   "metadata": {},
   "source": [
    "**Observations:**\n",
    "- After replacing NaN values with median of individual columns, we get test accuracy of 62% and f1 score of 64%.\n",
    "- Replacing NaN with mean is better strategy than replacing NaN with median."
   ]
  },
  {
   "cell_type": "markdown",
   "id": "564a2a93",
   "metadata": {},
   "source": [
    "#### Use replace NA with mode"
   ]
  },
  {
   "cell_type": "code",
   "execution_count": 47,
   "id": "7d1bd845",
   "metadata": {},
   "outputs": [
    {
     "name": "stdout",
     "output_type": "stream",
     "text": [
      "number of null values in column age: 0\n",
      "number of null values in column gender: 0\n",
      "number of null values in column height: 0\n",
      "number of null values in column weight: 0\n",
      "number of null values in column ap_hi: 0\n",
      "number of null values in column ap_lo: 0\n",
      "number of null values in column cholesterol: 0\n",
      "number of null values in column gluc: 0\n",
      "number of null values in column smoke: 0\n",
      "number of null values in column alco: 0\n",
      "number of null values in column active: 0\n",
      "number of null values in column cardio: 0\n"
     ]
    }
   ],
   "source": [
    "mode_replace_cardio_train = cardio_data_train_missing.copy()\n",
    "for col in mode_replace_cardio_train.columns:\n",
    "    mode_column, _ = stats.mode(mode_replace_cardio_train[col])\n",
    "    mode_replace_cardio_train[col].replace(np.nan, mode_column[0], inplace=True)\n",
    "print_null_values(mode_replace_cardio_train)"
   ]
  },
  {
   "cell_type": "code",
   "execution_count": 48,
   "id": "033c903f",
   "metadata": {},
   "outputs": [
    {
     "name": "stdout",
     "output_type": "stream",
     "text": [
      "Train Accuracy after replacing NaN with median:  0.675\n",
      "Test Accuracy after replacing NaN with median:  0.71\n",
      "f1 score after replacing NaN with median:  0.7184466019417476\n"
     ]
    }
   ],
   "source": [
    "accuracy_train, accuracy_test, f1 = test_logistic_regression_model(mode_replace_cardio_train)\n",
    "print(\"Train Accuracy after replacing NaN with median: \",accuracy_train)\n",
    "print(\"Test Accuracy after replacing NaN with median: \",accuracy_test)\n",
    "print(\"f1 score after replacing NaN with median: \",f1)"
   ]
  },
  {
   "cell_type": "markdown",
   "id": "4984c55a",
   "metadata": {},
   "source": [
    "**Observations:**\n",
    "- After replacing NaN values with mode of individual columns, we get test accuracy of 71% and f1 score of 71%.\n",
    "- Replacing NaN with mode is better strategy than replacing NaN with mean or median."
   ]
  },
  {
   "cell_type": "markdown",
   "id": "99f58f7b",
   "metadata": {},
   "source": [
    "## l. Applying the model"
   ]
  },
  {
   "cell_type": "code",
   "execution_count": 49,
   "id": "68a0637d",
   "metadata": {},
   "outputs": [
    {
     "name": "stdout",
     "output_type": "stream",
     "text": [
      "(500, 13)\n"
     ]
    },
    {
     "data": {
      "text/html": [
       "<div>\n",
       "<style scoped>\n",
       "    .dataframe tbody tr th:only-of-type {\n",
       "        vertical-align: middle;\n",
       "    }\n",
       "\n",
       "    .dataframe tbody tr th {\n",
       "        vertical-align: top;\n",
       "    }\n",
       "\n",
       "    .dataframe thead th {\n",
       "        text-align: right;\n",
       "    }\n",
       "</style>\n",
       "<table border=\"1\" class=\"dataframe\">\n",
       "  <thead>\n",
       "    <tr style=\"text-align: right;\">\n",
       "      <th></th>\n",
       "      <th>id</th>\n",
       "      <th>age</th>\n",
       "      <th>gender</th>\n",
       "      <th>height</th>\n",
       "      <th>weight</th>\n",
       "      <th>ap_hi</th>\n",
       "      <th>ap_lo</th>\n",
       "      <th>cholesterol</th>\n",
       "      <th>gluc</th>\n",
       "      <th>smoke</th>\n",
       "      <th>alco</th>\n",
       "      <th>active</th>\n",
       "      <th>cardio</th>\n",
       "    </tr>\n",
       "  </thead>\n",
       "  <tbody>\n",
       "    <tr>\n",
       "      <th>0</th>\n",
       "      <td>92150</td>\n",
       "      <td>20535.0</td>\n",
       "      <td>NaN</td>\n",
       "      <td>163.0</td>\n",
       "      <td>75.0</td>\n",
       "      <td>120.0</td>\n",
       "      <td>NaN</td>\n",
       "      <td>NaN</td>\n",
       "      <td>Normal</td>\n",
       "      <td>0.0</td>\n",
       "      <td>0.0</td>\n",
       "      <td>1.0</td>\n",
       "      <td>0</td>\n",
       "    </tr>\n",
       "    <tr>\n",
       "      <th>1</th>\n",
       "      <td>88880</td>\n",
       "      <td>16125.0</td>\n",
       "      <td>Men</td>\n",
       "      <td>168.0</td>\n",
       "      <td>68.0</td>\n",
       "      <td>110.0</td>\n",
       "      <td>70.0</td>\n",
       "      <td>NaN</td>\n",
       "      <td>NaN</td>\n",
       "      <td>0.0</td>\n",
       "      <td>0.0</td>\n",
       "      <td>NaN</td>\n",
       "      <td>0</td>\n",
       "    </tr>\n",
       "    <tr>\n",
       "      <th>2</th>\n",
       "      <td>10483</td>\n",
       "      <td>19761.0</td>\n",
       "      <td>NaN</td>\n",
       "      <td>170.0</td>\n",
       "      <td>75.0</td>\n",
       "      <td>120.0</td>\n",
       "      <td>NaN</td>\n",
       "      <td>NaN</td>\n",
       "      <td>Normal</td>\n",
       "      <td>0.0</td>\n",
       "      <td>0.0</td>\n",
       "      <td>1.0</td>\n",
       "      <td>1</td>\n",
       "    </tr>\n",
       "    <tr>\n",
       "      <th>3</th>\n",
       "      <td>22798</td>\n",
       "      <td>19035.0</td>\n",
       "      <td>Men</td>\n",
       "      <td>NaN</td>\n",
       "      <td>89.0</td>\n",
       "      <td>NaN</td>\n",
       "      <td>80.0</td>\n",
       "      <td>Normal</td>\n",
       "      <td>NaN</td>\n",
       "      <td>0.0</td>\n",
       "      <td>NaN</td>\n",
       "      <td>NaN</td>\n",
       "      <td>0</td>\n",
       "    </tr>\n",
       "    <tr>\n",
       "      <th>4</th>\n",
       "      <td>85542</td>\n",
       "      <td>NaN</td>\n",
       "      <td>NaN</td>\n",
       "      <td>158.0</td>\n",
       "      <td>74.0</td>\n",
       "      <td>NaN</td>\n",
       "      <td>93.0</td>\n",
       "      <td>High</td>\n",
       "      <td>NaN</td>\n",
       "      <td>0.0</td>\n",
       "      <td>1.0</td>\n",
       "      <td>1.0</td>\n",
       "      <td>1</td>\n",
       "    </tr>\n",
       "  </tbody>\n",
       "</table>\n",
       "</div>"
      ],
      "text/plain": [
       "      id      age gender  height  weight  ap_hi  ap_lo cholesterol    gluc  \\\n",
       "0  92150  20535.0    NaN   163.0    75.0  120.0    NaN         NaN  Normal   \n",
       "1  88880  16125.0    Men   168.0    68.0  110.0   70.0         NaN     NaN   \n",
       "2  10483  19761.0    NaN   170.0    75.0  120.0    NaN         NaN  Normal   \n",
       "3  22798  19035.0    Men     NaN    89.0    NaN   80.0      Normal     NaN   \n",
       "4  85542      NaN    NaN   158.0    74.0    NaN   93.0        High     NaN   \n",
       "\n",
       "   smoke  alco  active  cardio  \n",
       "0    0.0   0.0     1.0       0  \n",
       "1    0.0   0.0     NaN       0  \n",
       "2    0.0   0.0     1.0       1  \n",
       "3    0.0   NaN     NaN       0  \n",
       "4    0.0   1.0     1.0       1  "
      ]
     },
     "execution_count": 49,
     "metadata": {},
     "output_type": "execute_result"
    }
   ],
   "source": [
    "import pandas as pd\n",
    "import numpy as np\n",
    "import matplotlib.pyplot as plt\n",
    "import seaborn as sns\n",
    "from scipy import stats\n",
    "from sklearn.metrics import accuracy_score, f1_score\n",
    "from sklearn.model_selection import train_test_split\n",
    "from sklearn.preprocessing import StandardScaler,MinMaxScaler\n",
    "\n",
    "train_data = pd.read_csv(\"cardio-train.csv\", sep=\";\")\n",
    "print(train_data.shape)\n",
    "train_data.head()"
   ]
  },
  {
   "cell_type": "code",
   "execution_count": 50,
   "id": "dcba8bf2",
   "metadata": {},
   "outputs": [
    {
     "name": "stdout",
     "output_type": "stream",
     "text": [
      "(500, 13)\n"
     ]
    },
    {
     "data": {
      "text/html": [
       "<div>\n",
       "<style scoped>\n",
       "    .dataframe tbody tr th:only-of-type {\n",
       "        vertical-align: middle;\n",
       "    }\n",
       "\n",
       "    .dataframe tbody tr th {\n",
       "        vertical-align: top;\n",
       "    }\n",
       "\n",
       "    .dataframe thead th {\n",
       "        text-align: right;\n",
       "    }\n",
       "</style>\n",
       "<table border=\"1\" class=\"dataframe\">\n",
       "  <thead>\n",
       "    <tr style=\"text-align: right;\">\n",
       "      <th></th>\n",
       "      <th>id</th>\n",
       "      <th>age</th>\n",
       "      <th>gender</th>\n",
       "      <th>height</th>\n",
       "      <th>weight</th>\n",
       "      <th>ap_hi</th>\n",
       "      <th>ap_lo</th>\n",
       "      <th>cholesterol</th>\n",
       "      <th>gluc</th>\n",
       "      <th>smoke</th>\n",
       "      <th>alco</th>\n",
       "      <th>active</th>\n",
       "      <th>cardio</th>\n",
       "    </tr>\n",
       "  </thead>\n",
       "  <tbody>\n",
       "    <tr>\n",
       "      <th>0</th>\n",
       "      <td>17934</td>\n",
       "      <td>18936.0</td>\n",
       "      <td>Men</td>\n",
       "      <td>165.0</td>\n",
       "      <td>60.0</td>\n",
       "      <td>NaN</td>\n",
       "      <td>80.0</td>\n",
       "      <td>Normal</td>\n",
       "      <td>NaN</td>\n",
       "      <td>0.0</td>\n",
       "      <td>0.0</td>\n",
       "      <td>1.0</td>\n",
       "      <td>1</td>\n",
       "    </tr>\n",
       "    <tr>\n",
       "      <th>1</th>\n",
       "      <td>52450</td>\n",
       "      <td>17987.0</td>\n",
       "      <td>NaN</td>\n",
       "      <td>NaN</td>\n",
       "      <td>58.8</td>\n",
       "      <td>120.0</td>\n",
       "      <td>90.0</td>\n",
       "      <td>Normal</td>\n",
       "      <td>Normal</td>\n",
       "      <td>NaN</td>\n",
       "      <td>0.0</td>\n",
       "      <td>1.0</td>\n",
       "      <td>0</td>\n",
       "    </tr>\n",
       "    <tr>\n",
       "      <th>2</th>\n",
       "      <td>37653</td>\n",
       "      <td>NaN</td>\n",
       "      <td>NaN</td>\n",
       "      <td>159.0</td>\n",
       "      <td>93.0</td>\n",
       "      <td>130.0</td>\n",
       "      <td>90.0</td>\n",
       "      <td>High</td>\n",
       "      <td>Normal</td>\n",
       "      <td>0.0</td>\n",
       "      <td>0.0</td>\n",
       "      <td>NaN</td>\n",
       "      <td>1</td>\n",
       "    </tr>\n",
       "    <tr>\n",
       "      <th>3</th>\n",
       "      <td>96970</td>\n",
       "      <td>22851.0</td>\n",
       "      <td>Women</td>\n",
       "      <td>172.0</td>\n",
       "      <td>NaN</td>\n",
       "      <td>NaN</td>\n",
       "      <td>100.0</td>\n",
       "      <td>Normal</td>\n",
       "      <td>Normal</td>\n",
       "      <td>0.0</td>\n",
       "      <td>0.0</td>\n",
       "      <td>1.0</td>\n",
       "      <td>1</td>\n",
       "    </tr>\n",
       "    <tr>\n",
       "      <th>4</th>\n",
       "      <td>50977</td>\n",
       "      <td>NaN</td>\n",
       "      <td>Women</td>\n",
       "      <td>NaN</td>\n",
       "      <td>116.0</td>\n",
       "      <td>NaN</td>\n",
       "      <td>80.0</td>\n",
       "      <td>High</td>\n",
       "      <td>NaN</td>\n",
       "      <td>NaN</td>\n",
       "      <td>NaN</td>\n",
       "      <td>1.0</td>\n",
       "      <td>1</td>\n",
       "    </tr>\n",
       "  </tbody>\n",
       "</table>\n",
       "</div>"
      ],
      "text/plain": [
       "      id      age gender  height  weight  ap_hi  ap_lo cholesterol    gluc  \\\n",
       "0  17934  18936.0    Men   165.0    60.0    NaN   80.0      Normal     NaN   \n",
       "1  52450  17987.0    NaN     NaN    58.8  120.0   90.0      Normal  Normal   \n",
       "2  37653      NaN    NaN   159.0    93.0  130.0   90.0        High  Normal   \n",
       "3  96970  22851.0  Women   172.0     NaN    NaN  100.0      Normal  Normal   \n",
       "4  50977      NaN  Women     NaN   116.0    NaN   80.0        High     NaN   \n",
       "\n",
       "   smoke  alco  active  cardio  \n",
       "0    0.0   0.0     1.0       1  \n",
       "1    NaN   0.0     1.0       0  \n",
       "2    0.0   0.0     NaN       1  \n",
       "3    0.0   0.0     1.0       1  \n",
       "4    NaN   NaN     1.0       1  "
      ]
     },
     "execution_count": 50,
     "metadata": {},
     "output_type": "execute_result"
    }
   ],
   "source": [
    "validation_data = pd.read_csv(\"cardio-validation.csv\", sep=\",\")\n",
    "print(validation_data.shape)\n",
    "validation_data.head()"
   ]
  },
  {
   "cell_type": "code",
   "execution_count": 51,
   "id": "08cd6459",
   "metadata": {},
   "outputs": [
    {
     "data": {
      "text/html": [
       "<div>\n",
       "<style scoped>\n",
       "    .dataframe tbody tr th:only-of-type {\n",
       "        vertical-align: middle;\n",
       "    }\n",
       "\n",
       "    .dataframe tbody tr th {\n",
       "        vertical-align: top;\n",
       "    }\n",
       "\n",
       "    .dataframe thead th {\n",
       "        text-align: right;\n",
       "    }\n",
       "</style>\n",
       "<table border=\"1\" class=\"dataframe\">\n",
       "  <thead>\n",
       "    <tr style=\"text-align: right;\">\n",
       "      <th></th>\n",
       "      <th>id</th>\n",
       "      <th>age</th>\n",
       "      <th>height</th>\n",
       "      <th>weight</th>\n",
       "      <th>ap_hi</th>\n",
       "      <th>ap_lo</th>\n",
       "      <th>smoke</th>\n",
       "      <th>alco</th>\n",
       "      <th>active</th>\n",
       "      <th>cardio</th>\n",
       "    </tr>\n",
       "  </thead>\n",
       "  <tbody>\n",
       "    <tr>\n",
       "      <th>count</th>\n",
       "      <td>500.000000</td>\n",
       "      <td>335.000000</td>\n",
       "      <td>198.000000</td>\n",
       "      <td>336.000000</td>\n",
       "      <td>347.000000</td>\n",
       "      <td>332.000000</td>\n",
       "      <td>326.000000</td>\n",
       "      <td>335.000000</td>\n",
       "      <td>343.000000</td>\n",
       "      <td>500.000000</td>\n",
       "    </tr>\n",
       "    <tr>\n",
       "      <th>mean</th>\n",
       "      <td>50279.916000</td>\n",
       "      <td>19490.886567</td>\n",
       "      <td>163.934343</td>\n",
       "      <td>74.347321</td>\n",
       "      <td>128.685879</td>\n",
       "      <td>90.060241</td>\n",
       "      <td>0.092025</td>\n",
       "      <td>0.065672</td>\n",
       "      <td>0.813411</td>\n",
       "      <td>0.502000</td>\n",
       "    </tr>\n",
       "    <tr>\n",
       "      <th>std</th>\n",
       "      <td>29913.623631</td>\n",
       "      <td>2466.702487</td>\n",
       "      <td>8.258559</td>\n",
       "      <td>14.335964</td>\n",
       "      <td>18.490176</td>\n",
       "      <td>87.396945</td>\n",
       "      <td>0.289505</td>\n",
       "      <td>0.248078</td>\n",
       "      <td>0.390150</td>\n",
       "      <td>0.500497</td>\n",
       "    </tr>\n",
       "    <tr>\n",
       "      <th>min</th>\n",
       "      <td>38.000000</td>\n",
       "      <td>14334.000000</td>\n",
       "      <td>120.000000</td>\n",
       "      <td>45.000000</td>\n",
       "      <td>12.000000</td>\n",
       "      <td>60.000000</td>\n",
       "      <td>0.000000</td>\n",
       "      <td>0.000000</td>\n",
       "      <td>0.000000</td>\n",
       "      <td>0.000000</td>\n",
       "    </tr>\n",
       "    <tr>\n",
       "      <th>25%</th>\n",
       "      <td>23446.500000</td>\n",
       "      <td>17988.500000</td>\n",
       "      <td>159.250000</td>\n",
       "      <td>65.000000</td>\n",
       "      <td>120.000000</td>\n",
       "      <td>80.000000</td>\n",
       "      <td>0.000000</td>\n",
       "      <td>0.000000</td>\n",
       "      <td>1.000000</td>\n",
       "      <td>0.000000</td>\n",
       "    </tr>\n",
       "    <tr>\n",
       "      <th>50%</th>\n",
       "      <td>51913.500000</td>\n",
       "      <td>19719.000000</td>\n",
       "      <td>165.000000</td>\n",
       "      <td>72.000000</td>\n",
       "      <td>120.000000</td>\n",
       "      <td>80.000000</td>\n",
       "      <td>0.000000</td>\n",
       "      <td>0.000000</td>\n",
       "      <td>1.000000</td>\n",
       "      <td>1.000000</td>\n",
       "    </tr>\n",
       "    <tr>\n",
       "      <th>75%</th>\n",
       "      <td>78656.000000</td>\n",
       "      <td>21597.500000</td>\n",
       "      <td>168.000000</td>\n",
       "      <td>82.000000</td>\n",
       "      <td>140.000000</td>\n",
       "      <td>90.000000</td>\n",
       "      <td>0.000000</td>\n",
       "      <td>0.000000</td>\n",
       "      <td>1.000000</td>\n",
       "      <td>1.000000</td>\n",
       "    </tr>\n",
       "    <tr>\n",
       "      <th>max</th>\n",
       "      <td>99662.000000</td>\n",
       "      <td>23479.000000</td>\n",
       "      <td>187.000000</td>\n",
       "      <td>155.000000</td>\n",
       "      <td>190.000000</td>\n",
       "      <td>1000.000000</td>\n",
       "      <td>1.000000</td>\n",
       "      <td>1.000000</td>\n",
       "      <td>1.000000</td>\n",
       "      <td>1.000000</td>\n",
       "    </tr>\n",
       "  </tbody>\n",
       "</table>\n",
       "</div>"
      ],
      "text/plain": [
       "                 id           age      height      weight       ap_hi  \\\n",
       "count    500.000000    335.000000  198.000000  336.000000  347.000000   \n",
       "mean   50279.916000  19490.886567  163.934343   74.347321  128.685879   \n",
       "std    29913.623631   2466.702487    8.258559   14.335964   18.490176   \n",
       "min       38.000000  14334.000000  120.000000   45.000000   12.000000   \n",
       "25%    23446.500000  17988.500000  159.250000   65.000000  120.000000   \n",
       "50%    51913.500000  19719.000000  165.000000   72.000000  120.000000   \n",
       "75%    78656.000000  21597.500000  168.000000   82.000000  140.000000   \n",
       "max    99662.000000  23479.000000  187.000000  155.000000  190.000000   \n",
       "\n",
       "             ap_lo       smoke        alco      active      cardio  \n",
       "count   332.000000  326.000000  335.000000  343.000000  500.000000  \n",
       "mean     90.060241    0.092025    0.065672    0.813411    0.502000  \n",
       "std      87.396945    0.289505    0.248078    0.390150    0.500497  \n",
       "min      60.000000    0.000000    0.000000    0.000000    0.000000  \n",
       "25%      80.000000    0.000000    0.000000    1.000000    0.000000  \n",
       "50%      80.000000    0.000000    0.000000    1.000000    1.000000  \n",
       "75%      90.000000    0.000000    0.000000    1.000000    1.000000  \n",
       "max    1000.000000    1.000000    1.000000    1.000000    1.000000  "
      ]
     },
     "execution_count": 51,
     "metadata": {},
     "output_type": "execute_result"
    }
   ],
   "source": [
    "train_data.describe()"
   ]
  },
  {
   "cell_type": "code",
   "execution_count": 52,
   "id": "5b0d6588",
   "metadata": {},
   "outputs": [
    {
     "data": {
      "text/plain": [
       "id               0\n",
       "age            165\n",
       "gender         171\n",
       "height         302\n",
       "weight         164\n",
       "ap_hi          153\n",
       "ap_lo          168\n",
       "cholesterol    167\n",
       "gluc           167\n",
       "smoke          174\n",
       "alco           165\n",
       "active         157\n",
       "cardio           0\n",
       "dtype: int64"
      ]
     },
     "execution_count": 52,
     "metadata": {},
     "output_type": "execute_result"
    }
   ],
   "source": [
    "train_data.isna().sum()"
   ]
  },
  {
   "cell_type": "code",
   "execution_count": 53,
   "id": "8b53f322",
   "metadata": {},
   "outputs": [
    {
     "data": {
      "text/plain": [
       "Index(['id', 'age', 'gender', 'height', 'weight', 'ap_hi', 'ap_lo',\n",
       "       'cholesterol', 'gluc', 'smoke', 'alco', 'active', 'cardio'],\n",
       "      dtype='object')"
      ]
     },
     "execution_count": 53,
     "metadata": {},
     "output_type": "execute_result"
    }
   ],
   "source": [
    "train_data.columns"
   ]
  },
  {
   "cell_type": "code",
   "execution_count": 55,
   "id": "34052c65",
   "metadata": {},
   "outputs": [],
   "source": [
    "# custom label encoder methods for categorical columns\n",
    "\n",
    "#High=2, Above Normal=1, Normal=0\n",
    "def replace012(x):\n",
    "    if x == \"High\":\n",
    "        return 2\n",
    "    elif x == \"Above Normal\":\n",
    "        return 1\n",
    "    elif x ==\"Normal\":\n",
    "        return 0\n",
    "#Women=0, Men=1\n",
    "def replace01(x):\n",
    "    if x == \"Women\":\n",
    "        return 0\n",
    "    elif x == \"Men\":\n",
    "        return 1"
   ]
  },
  {
   "cell_type": "code",
   "execution_count": 54,
   "id": "e49a7615",
   "metadata": {},
   "outputs": [],
   "source": [
    "mean_cols = ['age', 'ap_hi']\n",
    "median_cols = ['ap_lo', 'height', 'weight']\n",
    "mode_cols = ['gender', 'cholesterol', 'gluc', 'smoke', 'alco', 'active']\n",
    "# outlier_cols = ['height', 'weight', 'ap_lo']\n",
    "outlier_cols = []\n",
    "categorical_columns = ['cholesterol', 'gluc', 'gender']"
   ]
  },
  {
   "cell_type": "code",
   "execution_count": 56,
   "id": "3d4f5916",
   "metadata": {},
   "outputs": [],
   "source": [
    "from sklearn.preprocessing import OneHotEncoder,LabelEncoder\n",
    "pd.options.mode.chained_assignment = None\n",
    "def preprocess(d):\n",
    "    data = d.copy()\n",
    "    data.drop([\"id\"], axis=1, inplace=True, errors='ignore')\n",
    "    \n",
    "#     data[\"cholesterol\"] = data[\"cholesterol\"].apply(replace012)\n",
    "#     data[\"gluc\"] = data[\"gluc\"].apply(replace012)\n",
    "#     data[\"gender\"] = data[\"gender\"].apply(replace01)\n",
    "    \n",
    "    for col in categorical_columns:\n",
    "        data[col] = LabelEncoder().fit_transform(data[col])\n",
    "    \n",
    "    data[\"age\"] = (data[\"age\"]/365).round()\n",
    "        \n",
    "    # replace NaN\n",
    "    for col in mean_cols:\n",
    "        mean_column = np.nanmean(data[col].values)\n",
    "        data[col].replace(np.nan, mean_column, inplace=True)\n",
    "    for col in median_cols:\n",
    "        median_column = np.nanmedian(data[col].values)\n",
    "        data[col].replace(np.nan, median_column, inplace=True)\n",
    "    for col in mode_cols:\n",
    "        mode_column, _ = stats.mode(data[col])\n",
    "        data[col].replace(np.nan, mode_column[0], inplace=True)\n",
    "        \n",
    "    # ourlier handling\n",
    "    for col in outlier_cols:\n",
    "        low = data[col].quantile(0.10)\n",
    "        high = data[col].quantile(0.90)\n",
    "        med = data[col].quantile(0.50)\n",
    "        data[col] = np.where(data[col] < low, med, data[col])\n",
    "        data[col] = np.where(data[col] > high, med, data[col])\n",
    "    \n",
    "        \n",
    "#     data[\"bmi\"] = data[\"weight\"] / (data[\"height\"] * 0.01 * data[\"height\"] * 0.01)\n",
    "#     data.drop([\"height\", \"weight\"], axis=1, inplace=True, errors='ignore')\n",
    "    \n",
    "#     data = pd.concat((data,pd.get_dummies(data.cholesterol)),1)\n",
    "#     data = pd.concat((data,pd.get_dummies(data.gluc)),1)\n",
    "#     data = pd.concat((data,pd.get_dummies(data.gender)),1)\n",
    "#     data.drop([\"cholesterol\", \"gluc\", \"gender\"], axis=1, inplace=True, errors='ignore')\n",
    "\n",
    "    return data\n"
   ]
  },
  {
   "cell_type": "code",
   "execution_count": 57,
   "id": "e5d6c52f",
   "metadata": {},
   "outputs": [],
   "source": [
    "# train_data = preprocess(train_data)\n",
    "# validation_data = preprocess(validation_data)\n",
    "total_train_data = train_data.append(validation_data)\n",
    "total_train_data = preprocess(total_train_data)"
   ]
  },
  {
   "cell_type": "code",
   "execution_count": 58,
   "id": "6d6abd77",
   "metadata": {},
   "outputs": [
    {
     "data": {
      "text/html": [
       "<div>\n",
       "<style scoped>\n",
       "    .dataframe tbody tr th:only-of-type {\n",
       "        vertical-align: middle;\n",
       "    }\n",
       "\n",
       "    .dataframe tbody tr th {\n",
       "        vertical-align: top;\n",
       "    }\n",
       "\n",
       "    .dataframe thead th {\n",
       "        text-align: right;\n",
       "    }\n",
       "</style>\n",
       "<table border=\"1\" class=\"dataframe\">\n",
       "  <thead>\n",
       "    <tr style=\"text-align: right;\">\n",
       "      <th></th>\n",
       "      <th>age</th>\n",
       "      <th>gender</th>\n",
       "      <th>height</th>\n",
       "      <th>weight</th>\n",
       "      <th>ap_hi</th>\n",
       "      <th>ap_lo</th>\n",
       "      <th>cholesterol</th>\n",
       "      <th>gluc</th>\n",
       "      <th>smoke</th>\n",
       "      <th>alco</th>\n",
       "      <th>active</th>\n",
       "      <th>cardio</th>\n",
       "    </tr>\n",
       "  </thead>\n",
       "  <tbody>\n",
       "    <tr>\n",
       "      <th>0</th>\n",
       "      <td>56.000000</td>\n",
       "      <td>2</td>\n",
       "      <td>163.0</td>\n",
       "      <td>75.0</td>\n",
       "      <td>120.000000</td>\n",
       "      <td>80.0</td>\n",
       "      <td>3</td>\n",
       "      <td>2</td>\n",
       "      <td>0.0</td>\n",
       "      <td>0.0</td>\n",
       "      <td>1.0</td>\n",
       "      <td>0</td>\n",
       "    </tr>\n",
       "    <tr>\n",
       "      <th>1</th>\n",
       "      <td>44.000000</td>\n",
       "      <td>0</td>\n",
       "      <td>168.0</td>\n",
       "      <td>68.0</td>\n",
       "      <td>110.000000</td>\n",
       "      <td>70.0</td>\n",
       "      <td>3</td>\n",
       "      <td>3</td>\n",
       "      <td>0.0</td>\n",
       "      <td>0.0</td>\n",
       "      <td>1.0</td>\n",
       "      <td>0</td>\n",
       "    </tr>\n",
       "    <tr>\n",
       "      <th>2</th>\n",
       "      <td>54.000000</td>\n",
       "      <td>2</td>\n",
       "      <td>170.0</td>\n",
       "      <td>75.0</td>\n",
       "      <td>120.000000</td>\n",
       "      <td>80.0</td>\n",
       "      <td>3</td>\n",
       "      <td>2</td>\n",
       "      <td>0.0</td>\n",
       "      <td>0.0</td>\n",
       "      <td>1.0</td>\n",
       "      <td>1</td>\n",
       "    </tr>\n",
       "    <tr>\n",
       "      <th>3</th>\n",
       "      <td>52.000000</td>\n",
       "      <td>0</td>\n",
       "      <td>165.0</td>\n",
       "      <td>89.0</td>\n",
       "      <td>127.485675</td>\n",
       "      <td>80.0</td>\n",
       "      <td>2</td>\n",
       "      <td>3</td>\n",
       "      <td>0.0</td>\n",
       "      <td>0.0</td>\n",
       "      <td>1.0</td>\n",
       "      <td>0</td>\n",
       "    </tr>\n",
       "    <tr>\n",
       "      <th>4</th>\n",
       "      <td>53.204703</td>\n",
       "      <td>2</td>\n",
       "      <td>158.0</td>\n",
       "      <td>74.0</td>\n",
       "      <td>127.485675</td>\n",
       "      <td>93.0</td>\n",
       "      <td>1</td>\n",
       "      <td>3</td>\n",
       "      <td>0.0</td>\n",
       "      <td>1.0</td>\n",
       "      <td>1.0</td>\n",
       "      <td>1</td>\n",
       "    </tr>\n",
       "  </tbody>\n",
       "</table>\n",
       "</div>"
      ],
      "text/plain": [
       "         age  gender  height  weight       ap_hi  ap_lo  cholesterol  gluc  \\\n",
       "0  56.000000       2   163.0    75.0  120.000000   80.0            3     2   \n",
       "1  44.000000       0   168.0    68.0  110.000000   70.0            3     3   \n",
       "2  54.000000       2   170.0    75.0  120.000000   80.0            3     2   \n",
       "3  52.000000       0   165.0    89.0  127.485675   80.0            2     3   \n",
       "4  53.204703       2   158.0    74.0  127.485675   93.0            1     3   \n",
       "\n",
       "   smoke  alco  active  cardio  \n",
       "0    0.0   0.0     1.0       0  \n",
       "1    0.0   0.0     1.0       0  \n",
       "2    0.0   0.0     1.0       1  \n",
       "3    0.0   0.0     1.0       0  \n",
       "4    0.0   1.0     1.0       1  "
      ]
     },
     "execution_count": 58,
     "metadata": {},
     "output_type": "execute_result"
    }
   ],
   "source": [
    "total_train_data.head()"
   ]
  },
  {
   "cell_type": "code",
   "execution_count": 59,
   "id": "d0df2de7",
   "metadata": {},
   "outputs": [
    {
     "data": {
      "text/plain": [
       "age            0\n",
       "gender         0\n",
       "height         0\n",
       "weight         0\n",
       "ap_hi          0\n",
       "ap_lo          0\n",
       "cholesterol    0\n",
       "gluc           0\n",
       "smoke          0\n",
       "alco           0\n",
       "active         0\n",
       "cardio         0\n",
       "dtype: int64"
      ]
     },
     "execution_count": 59,
     "metadata": {},
     "output_type": "execute_result"
    }
   ],
   "source": [
    "total_train_data.isna().sum()"
   ]
  },
  {
   "cell_type": "code",
   "execution_count": 60,
   "id": "4157aba3",
   "metadata": {},
   "outputs": [
    {
     "data": {
      "text/html": [
       "<div>\n",
       "<style scoped>\n",
       "    .dataframe tbody tr th:only-of-type {\n",
       "        vertical-align: middle;\n",
       "    }\n",
       "\n",
       "    .dataframe tbody tr th {\n",
       "        vertical-align: top;\n",
       "    }\n",
       "\n",
       "    .dataframe thead th {\n",
       "        text-align: right;\n",
       "    }\n",
       "</style>\n",
       "<table border=\"1\" class=\"dataframe\">\n",
       "  <thead>\n",
       "    <tr style=\"text-align: right;\">\n",
       "      <th></th>\n",
       "      <th>age</th>\n",
       "      <th>gender</th>\n",
       "      <th>height</th>\n",
       "      <th>weight</th>\n",
       "      <th>ap_hi</th>\n",
       "      <th>ap_lo</th>\n",
       "      <th>cholesterol</th>\n",
       "      <th>gluc</th>\n",
       "      <th>smoke</th>\n",
       "      <th>alco</th>\n",
       "      <th>active</th>\n",
       "      <th>cardio</th>\n",
       "    </tr>\n",
       "  </thead>\n",
       "  <tbody>\n",
       "    <tr>\n",
       "      <th>count</th>\n",
       "      <td>1000.000000</td>\n",
       "      <td>1000.000000</td>\n",
       "      <td>1000.000000</td>\n",
       "      <td>1000.000000</td>\n",
       "      <td>1000.000000</td>\n",
       "      <td>1000.000000</td>\n",
       "      <td>1000.000000</td>\n",
       "      <td>1000.000000</td>\n",
       "      <td>1000.00000</td>\n",
       "      <td>1000.000000</td>\n",
       "      <td>1000.000000</td>\n",
       "      <td>1000.000000</td>\n",
       "    </tr>\n",
       "    <tr>\n",
       "      <th>mean</th>\n",
       "      <td>53.204703</td>\n",
       "      <td>0.787000</td>\n",
       "      <td>164.642000</td>\n",
       "      <td>73.485800</td>\n",
       "      <td>127.485675</td>\n",
       "      <td>90.865000</td>\n",
       "      <td>1.993000</td>\n",
       "      <td>2.085000</td>\n",
       "      <td>0.06100</td>\n",
       "      <td>0.036000</td>\n",
       "      <td>0.853000</td>\n",
       "      <td>0.493000</td>\n",
       "    </tr>\n",
       "    <tr>\n",
       "      <th>std</th>\n",
       "      <td>5.780754</td>\n",
       "      <td>0.839247</td>\n",
       "      <td>6.039065</td>\n",
       "      <td>12.384312</td>\n",
       "      <td>15.168163</td>\n",
       "      <td>95.622196</td>\n",
       "      <td>0.863537</td>\n",
       "      <td>0.728221</td>\n",
       "      <td>0.23945</td>\n",
       "      <td>0.186383</td>\n",
       "      <td>0.354283</td>\n",
       "      <td>0.500201</td>\n",
       "    </tr>\n",
       "    <tr>\n",
       "      <th>min</th>\n",
       "      <td>39.000000</td>\n",
       "      <td>0.000000</td>\n",
       "      <td>120.000000</td>\n",
       "      <td>40.000000</td>\n",
       "      <td>12.000000</td>\n",
       "      <td>20.000000</td>\n",
       "      <td>0.000000</td>\n",
       "      <td>0.000000</td>\n",
       "      <td>0.00000</td>\n",
       "      <td>0.000000</td>\n",
       "      <td>0.000000</td>\n",
       "      <td>0.000000</td>\n",
       "    </tr>\n",
       "    <tr>\n",
       "      <th>25%</th>\n",
       "      <td>51.000000</td>\n",
       "      <td>0.000000</td>\n",
       "      <td>163.000000</td>\n",
       "      <td>68.000000</td>\n",
       "      <td>120.000000</td>\n",
       "      <td>80.000000</td>\n",
       "      <td>2.000000</td>\n",
       "      <td>2.000000</td>\n",
       "      <td>0.00000</td>\n",
       "      <td>0.000000</td>\n",
       "      <td>1.000000</td>\n",
       "      <td>0.000000</td>\n",
       "    </tr>\n",
       "    <tr>\n",
       "      <th>50%</th>\n",
       "      <td>53.204703</td>\n",
       "      <td>1.000000</td>\n",
       "      <td>165.000000</td>\n",
       "      <td>72.000000</td>\n",
       "      <td>127.485675</td>\n",
       "      <td>80.000000</td>\n",
       "      <td>2.000000</td>\n",
       "      <td>2.000000</td>\n",
       "      <td>0.00000</td>\n",
       "      <td>0.000000</td>\n",
       "      <td>1.000000</td>\n",
       "      <td>0.000000</td>\n",
       "    </tr>\n",
       "    <tr>\n",
       "      <th>75%</th>\n",
       "      <td>56.000000</td>\n",
       "      <td>2.000000</td>\n",
       "      <td>165.000000</td>\n",
       "      <td>78.000000</td>\n",
       "      <td>130.000000</td>\n",
       "      <td>80.000000</td>\n",
       "      <td>3.000000</td>\n",
       "      <td>3.000000</td>\n",
       "      <td>0.00000</td>\n",
       "      <td>0.000000</td>\n",
       "      <td>1.000000</td>\n",
       "      <td>1.000000</td>\n",
       "    </tr>\n",
       "    <tr>\n",
       "      <th>max</th>\n",
       "      <td>65.000000</td>\n",
       "      <td>2.000000</td>\n",
       "      <td>191.000000</td>\n",
       "      <td>155.000000</td>\n",
       "      <td>190.000000</td>\n",
       "      <td>1100.000000</td>\n",
       "      <td>3.000000</td>\n",
       "      <td>3.000000</td>\n",
       "      <td>1.00000</td>\n",
       "      <td>1.000000</td>\n",
       "      <td>1.000000</td>\n",
       "      <td>1.000000</td>\n",
       "    </tr>\n",
       "  </tbody>\n",
       "</table>\n",
       "</div>"
      ],
      "text/plain": [
       "               age       gender       height       weight        ap_hi  \\\n",
       "count  1000.000000  1000.000000  1000.000000  1000.000000  1000.000000   \n",
       "mean     53.204703     0.787000   164.642000    73.485800   127.485675   \n",
       "std       5.780754     0.839247     6.039065    12.384312    15.168163   \n",
       "min      39.000000     0.000000   120.000000    40.000000    12.000000   \n",
       "25%      51.000000     0.000000   163.000000    68.000000   120.000000   \n",
       "50%      53.204703     1.000000   165.000000    72.000000   127.485675   \n",
       "75%      56.000000     2.000000   165.000000    78.000000   130.000000   \n",
       "max      65.000000     2.000000   191.000000   155.000000   190.000000   \n",
       "\n",
       "             ap_lo  cholesterol         gluc       smoke         alco  \\\n",
       "count  1000.000000  1000.000000  1000.000000  1000.00000  1000.000000   \n",
       "mean     90.865000     1.993000     2.085000     0.06100     0.036000   \n",
       "std      95.622196     0.863537     0.728221     0.23945     0.186383   \n",
       "min      20.000000     0.000000     0.000000     0.00000     0.000000   \n",
       "25%      80.000000     2.000000     2.000000     0.00000     0.000000   \n",
       "50%      80.000000     2.000000     2.000000     0.00000     0.000000   \n",
       "75%      80.000000     3.000000     3.000000     0.00000     0.000000   \n",
       "max    1100.000000     3.000000     3.000000     1.00000     1.000000   \n",
       "\n",
       "            active       cardio  \n",
       "count  1000.000000  1000.000000  \n",
       "mean      0.853000     0.493000  \n",
       "std       0.354283     0.500201  \n",
       "min       0.000000     0.000000  \n",
       "25%       1.000000     0.000000  \n",
       "50%       1.000000     0.000000  \n",
       "75%       1.000000     1.000000  \n",
       "max       1.000000     1.000000  "
      ]
     },
     "execution_count": 60,
     "metadata": {},
     "output_type": "execute_result"
    }
   ],
   "source": [
    "total_train_data.describe()"
   ]
  },
  {
   "cell_type": "code",
   "execution_count": 61,
   "id": "6617f145",
   "metadata": {},
   "outputs": [
    {
     "name": "stdout",
     "output_type": "stream",
     "text": [
      "y_train shape =  (750,)\n",
      "x_train shape =  (750, 11)\n",
      "y_test shape =  (250,)\n",
      "x_test shape =  (250, 11)\n"
     ]
    }
   ],
   "source": [
    "# Using train + validation data for fitting model\n",
    "y = total_train_data.loc[:,\"cardio\"]\n",
    "X = total_train_data.drop(\"cardio\", 1)\n",
    "origX = X.copy()\n",
    "scaler = StandardScaler()\n",
    "X = pd.DataFrame(scaler.fit_transform(X), columns = total_train_data.columns[1:])\n",
    "x_train,x_test,y_train,y_test = train_test_split(X, y, test_size=0.25, stratify=y, random_state=42)\n",
    "print(\"y_train shape = \", y_train.shape)\n",
    "print(\"x_train shape = \", x_train.shape)\n",
    "print(\"y_test shape = \", y_test.shape)\n",
    "print(\"x_test shape = \", x_test.shape)\n",
    "y_test_task1 = y_test.copy()"
   ]
  },
  {
   "cell_type": "code",
   "execution_count": 62,
   "id": "ed46067b",
   "metadata": {},
   "outputs": [
    {
     "data": {
      "text/html": [
       "<div>\n",
       "<style scoped>\n",
       "    .dataframe tbody tr th:only-of-type {\n",
       "        vertical-align: middle;\n",
       "    }\n",
       "\n",
       "    .dataframe tbody tr th {\n",
       "        vertical-align: top;\n",
       "    }\n",
       "\n",
       "    .dataframe thead th {\n",
       "        text-align: right;\n",
       "    }\n",
       "</style>\n",
       "<table border=\"1\" class=\"dataframe\">\n",
       "  <thead>\n",
       "    <tr style=\"text-align: right;\">\n",
       "      <th></th>\n",
       "      <th>age</th>\n",
       "      <th>gender</th>\n",
       "      <th>height</th>\n",
       "      <th>weight</th>\n",
       "      <th>ap_hi</th>\n",
       "      <th>ap_lo</th>\n",
       "      <th>cholesterol</th>\n",
       "      <th>gluc</th>\n",
       "      <th>smoke</th>\n",
       "      <th>alco</th>\n",
       "      <th>active</th>\n",
       "      <th>cardio</th>\n",
       "    </tr>\n",
       "  </thead>\n",
       "  <tbody>\n",
       "    <tr>\n",
       "      <th>0</th>\n",
       "      <td>56.000000</td>\n",
       "      <td>2</td>\n",
       "      <td>163.0</td>\n",
       "      <td>75.0</td>\n",
       "      <td>120.000000</td>\n",
       "      <td>80.0</td>\n",
       "      <td>3</td>\n",
       "      <td>2</td>\n",
       "      <td>0.0</td>\n",
       "      <td>0.0</td>\n",
       "      <td>1.0</td>\n",
       "      <td>0</td>\n",
       "    </tr>\n",
       "    <tr>\n",
       "      <th>1</th>\n",
       "      <td>44.000000</td>\n",
       "      <td>0</td>\n",
       "      <td>168.0</td>\n",
       "      <td>68.0</td>\n",
       "      <td>110.000000</td>\n",
       "      <td>70.0</td>\n",
       "      <td>3</td>\n",
       "      <td>3</td>\n",
       "      <td>0.0</td>\n",
       "      <td>0.0</td>\n",
       "      <td>1.0</td>\n",
       "      <td>0</td>\n",
       "    </tr>\n",
       "    <tr>\n",
       "      <th>2</th>\n",
       "      <td>54.000000</td>\n",
       "      <td>2</td>\n",
       "      <td>170.0</td>\n",
       "      <td>75.0</td>\n",
       "      <td>120.000000</td>\n",
       "      <td>80.0</td>\n",
       "      <td>3</td>\n",
       "      <td>2</td>\n",
       "      <td>0.0</td>\n",
       "      <td>0.0</td>\n",
       "      <td>1.0</td>\n",
       "      <td>1</td>\n",
       "    </tr>\n",
       "    <tr>\n",
       "      <th>3</th>\n",
       "      <td>52.000000</td>\n",
       "      <td>0</td>\n",
       "      <td>165.0</td>\n",
       "      <td>89.0</td>\n",
       "      <td>127.485675</td>\n",
       "      <td>80.0</td>\n",
       "      <td>2</td>\n",
       "      <td>3</td>\n",
       "      <td>0.0</td>\n",
       "      <td>0.0</td>\n",
       "      <td>1.0</td>\n",
       "      <td>0</td>\n",
       "    </tr>\n",
       "    <tr>\n",
       "      <th>4</th>\n",
       "      <td>53.204703</td>\n",
       "      <td>2</td>\n",
       "      <td>158.0</td>\n",
       "      <td>74.0</td>\n",
       "      <td>127.485675</td>\n",
       "      <td>93.0</td>\n",
       "      <td>1</td>\n",
       "      <td>3</td>\n",
       "      <td>0.0</td>\n",
       "      <td>1.0</td>\n",
       "      <td>1.0</td>\n",
       "      <td>1</td>\n",
       "    </tr>\n",
       "  </tbody>\n",
       "</table>\n",
       "</div>"
      ],
      "text/plain": [
       "         age  gender  height  weight       ap_hi  ap_lo  cholesterol  gluc  \\\n",
       "0  56.000000       2   163.0    75.0  120.000000   80.0            3     2   \n",
       "1  44.000000       0   168.0    68.0  110.000000   70.0            3     3   \n",
       "2  54.000000       2   170.0    75.0  120.000000   80.0            3     2   \n",
       "3  52.000000       0   165.0    89.0  127.485675   80.0            2     3   \n",
       "4  53.204703       2   158.0    74.0  127.485675   93.0            1     3   \n",
       "\n",
       "   smoke  alco  active  cardio  \n",
       "0    0.0   0.0     1.0       0  \n",
       "1    0.0   0.0     1.0       0  \n",
       "2    0.0   0.0     1.0       1  \n",
       "3    0.0   0.0     1.0       0  \n",
       "4    0.0   1.0     1.0       1  "
      ]
     },
     "execution_count": 62,
     "metadata": {},
     "output_type": "execute_result"
    }
   ],
   "source": [
    "total_train_data.head()"
   ]
  },
  {
   "cell_type": "code",
   "execution_count": null,
   "id": "01e7b9ad",
   "metadata": {},
   "outputs": [],
   "source": []
  },
  {
   "cell_type": "code",
   "execution_count": 63,
   "id": "c06f8aa3",
   "metadata": {},
   "outputs": [],
   "source": [
    "# print(X.shape)"
   ]
  },
  {
   "cell_type": "code",
   "execution_count": 64,
   "id": "79f391b5",
   "metadata": {},
   "outputs": [],
   "source": [
    "# from sklearn.decomposition import PCA\n",
    "# pca = PCA(n_components=8)\n",
    "# principalComponents = pca.fit_transform(X)\n",
    "# newX = pd.DataFrame(data = principalComponents\n",
    "#              , columns = ['f1', 'f2', 'f3', 'f4', 'f5', 'f6', 'f7', 'f8'])\n",
    "# print(pca.explained_variance_ratio_, \"total variance:\", sum(pca.explained_variance_ratio_))\n",
    "# print(newX.shape)"
   ]
  },
  {
   "cell_type": "code",
   "execution_count": 65,
   "id": "2252edfd",
   "metadata": {},
   "outputs": [],
   "source": [
    "# x_train,x_test,y_train,y_test = train_test_split(X, y, test_size=0.2, stratify=y, random_state=1)\n",
    "# y_test_task1 = y_test.copy()"
   ]
  },
  {
   "cell_type": "code",
   "execution_count": 66,
   "id": "2ce94a59",
   "metadata": {},
   "outputs": [],
   "source": [
    "# from sklearn.model_selection import KFold\n",
    "# from sklearn.model_selection import cross_val_score\n",
    "# from numpy import mean\n",
    "# from numpy import std\n",
    "# cv = KFold(n_splits=5, random_state=1, shuffle=True)\n",
    "# def kfold(model):\n",
    "#     scores = cross_val_score(model, X, y, scoring='accuracy', cv=cv, n_jobs=-1)\n",
    "#     return mean(scores), std(scores)"
   ]
  },
  {
   "cell_type": "code",
   "execution_count": 67,
   "id": "4753789e",
   "metadata": {},
   "outputs": [],
   "source": [
    "# # Using only train data for fitting model\n",
    "# y = train_data.loc[:,\"cardio\"]\n",
    "# X = train_data.drop(\"cardio\", 1)\n",
    "# y_train = train_data.loc[:,\"cardio\"]\n",
    "# x_train = train_data.drop(\"cardio\", 1)\n",
    "# y_test = validation_data.loc[:,\"cardio\"]\n",
    "# x_test = validation_data.drop(\"cardio\", 1)\n",
    "# print(\"y_train shape = \", y_train.shape)\n",
    "# print(\"x_train shape = \", x_train.shape)\n",
    "# print(\"y_test shape = \", y_test.shape)\n",
    "# print(\"x_test shape = \", x_test.shape)\n",
    "# y_test_task1 = y_test.copy()"
   ]
  },
  {
   "cell_type": "markdown",
   "id": "c2a8c720",
   "metadata": {},
   "source": [
    "#### m. At least one of the models used to compute should be your own implementation using NumPy."
   ]
  },
  {
   "cell_type": "code",
   "execution_count": 68,
   "id": "6d58edf5",
   "metadata": {},
   "outputs": [],
   "source": [
    "import math\n",
    "def initialize_weights(dim):\n",
    "    #initializing the weights and bias to zero\n",
    "    w = np.zeros_like(dim)\n",
    "    b = 0\n",
    "    return w,b\n",
    "\n",
    "def sigmoid(z):\n",
    "    return (1/(1+math.exp(-z)))\n",
    "\n",
    "\n",
    "def logloss(y_true,y_pred):\n",
    "    loss = 0\n",
    "    for i in range(len(y_true)):\n",
    "        loss += ((y_true[i]*math.log10(y_pred[i])) + ((1-y_true[i])*math.log10(1-y_pred[i])))\n",
    "    log_loss = (-1*loss)/len(y_true)\n",
    "    return log_loss\n",
    "\n",
    "def gradient_db(x,y,w,b):\n",
    "    db = y - sigmoid(np.dot(w,x.T)+b)\n",
    "    return db\n",
    "\n",
    "def gradient_dw(x,y,w,b,alpha,N):\n",
    "    scalar_part_of_gradient = y - sigmoid(np.dot(w,x.T)+b)\n",
    "    dw = x*scalar_part_of_gradient - ((alpha/N)*w)\n",
    "    return np.array(dw)\n",
    "\n",
    "# probability to compute loss function\n",
    "def predict_proba(w,b,X):\n",
    "    proba = []\n",
    "    for i in range(len(X)):\n",
    "        z = np.dot(w,X[i].T) + b\n",
    "        sz = sigmoid(z)\n",
    "        proba.append(sz)\n",
    "    return proba\n",
    "\n",
    "def train(X_train,y_train,X_test,y_test,epochs,alpha,learning_rate):\n",
    "    N=len(X_train)\n",
    "    #implement the code as follows\n",
    "    # initalize the weights\n",
    "    # for every epoch\n",
    "        # for every data point(X_train,y_train)\n",
    "           #compute gradient w.r.to w\n",
    "           #compute gradient w.r.to b\n",
    "           #update w, b\n",
    "        # predict the output of x_train using w,b\n",
    "        # compute the loss between predicted and actual values\n",
    "        # store all the train loss values in a list\n",
    "        # predict the output of x_test using w,b\n",
    "        # compute the loss between predicted and actual values\n",
    "        # store all the test loss values in a list\n",
    "        # compare previous loss and current loss, if loss is not updating then stop the process and return w,b\n",
    "    train_loss = []\n",
    "    test_loss = []\n",
    "    w,b = initialize_weights(X_train[0])\n",
    "    dw = w\n",
    "    db = b\n",
    "\n",
    "    total = 0\n",
    "    for i in range(epochs):\n",
    "        for j in range(len(X_train)):\n",
    "            dw = gradient_dw(X_train[j],y_train[j],w,b,alpha,N)\n",
    "            db = gradient_db(X_train[j],y_train[j],w,b)\n",
    "            w = w + learning_rate*(dw)\n",
    "            b = b + learning_rate*(db)\n",
    "            \n",
    "        total += len(X_train)\n",
    "        y_pred_train = predict_proba(w,b,X_train)\n",
    "        y_pred_test = predict_proba(w,b,X_test)\n",
    "\n",
    "        print('-'*40)\n",
    "        print(\"Epoch: \"+str(i))\n",
    "        print(\"Bias: \",b)\n",
    "        loss_train = logloss(y_train,y_pred_train)\n",
    "        print(\"Training loss: \",loss_train)\n",
    "        train_loss.append(loss_train)\n",
    "        loss_test = logloss(y_test,y_pred_test)\n",
    "        print(\"Testing loss: \",loss_test)\n",
    "        test_loss.append(loss_test)\n",
    "        \n",
    "    return w,b,train_loss,test_loss "
   ]
  },
  {
   "cell_type": "code",
   "execution_count": 69,
   "id": "8eb87aef",
   "metadata": {},
   "outputs": [
    {
     "name": "stdout",
     "output_type": "stream",
     "text": [
      "----------------------------------------\n",
      "Epoch: 0\n",
      "Bias:  -0.0004950542677660923\n",
      "Training loss:  0.2987094480057718\n",
      "Testing loss:  0.2986675694240245\n",
      "----------------------------------------\n",
      "Epoch: 1\n",
      "Bias:  -0.0009789514472630671\n",
      "Training loss:  0.29649975901432074\n",
      "Testing loss:  0.29643045595795375\n",
      "----------------------------------------\n",
      "Epoch: 2\n",
      "Bias:  -0.001451925712028973\n",
      "Training loss:  0.2943953740834622\n",
      "Testing loss:  0.2943120488743387\n",
      "----------------------------------------\n",
      "Epoch: 3\n",
      "Bias:  -0.0019141879708511854\n",
      "Training loss:  0.2923909348050002\n",
      "Testing loss:  0.2923059769428331\n",
      "----------------------------------------\n",
      "Epoch: 4\n",
      "Bias:  -0.0023659283386543674\n",
      "Training loss:  0.29048128967718256\n",
      "Testing loss:  0.2904061188319171\n",
      "----------------------------------------\n",
      "Epoch: 5\n",
      "Bias:  -0.002807318337855437\n",
      "Training loss:  0.28866150138471314\n",
      "Testing loss:  0.2886066132177364\n",
      "----------------------------------------\n",
      "Epoch: 6\n",
      "Bias:  -0.0032385129053574086\n",
      "Training loss:  0.2869268509536353\n",
      "Testing loss:  0.286901864724661\n",
      "----------------------------------------\n",
      "Epoch: 7\n",
      "Bias:  -0.003659652258592349\n",
      "Training loss:  0.2852728391354739\n",
      "Testing loss:  0.2852865462058763\n"
     ]
    }
   ],
   "source": [
    "alpha=0.001\n",
    "eta0=0.0001\n",
    "N=len(x_train)\n",
    "epochs=8\n",
    "w,b,train_loss,test_loss=train(x_train.to_numpy(),y_train.to_numpy(),x_test.to_numpy(),y_test.to_numpy(),epochs,alpha,eta0)"
   ]
  },
  {
   "cell_type": "code",
   "execution_count": 70,
   "id": "129caae2",
   "metadata": {},
   "outputs": [
    {
     "name": "stdout",
     "output_type": "stream",
     "text": [
      "Accuracy using handmade logistic regression model:  0.688\n"
     ]
    }
   ],
   "source": [
    "from sklearn.metrics import mean_squared_error\n",
    "def pred(w,b, X):\n",
    "    N = len(X)\n",
    "    predict = []\n",
    "    for i in range(N):\n",
    "        z=np.dot(w,X[i].T)+b\n",
    "        if sigmoid(z) >= 0.5: # sigmoid(w,x,b) returns 1/(1+exp(-(dot(x,w)+b)))\n",
    "            predict.append(1)\n",
    "        else:\n",
    "            predict.append(0)\n",
    "    return np.array(predict)\n",
    "\n",
    "y_pred = pred(w,b,x_test.to_numpy())\n",
    "print(\"Accuracy using handmade logistic regression model: \",accuracy_score(y_test.to_numpy(),y_pred))"
   ]
  },
  {
   "cell_type": "markdown",
   "id": "382af6d8",
   "metadata": {},
   "source": [
    "#### Other models (sklearn):"
   ]
  },
  {
   "cell_type": "markdown",
   "id": "5014ade5",
   "metadata": {},
   "source": [
    "#### Logistic Regression"
   ]
  },
  {
   "cell_type": "code",
   "execution_count": 71,
   "id": "e0af7b23",
   "metadata": {},
   "outputs": [
    {
     "name": "stdout",
     "output_type": "stream",
     "text": [
      "C = 100.00, Accuracy = 0.712, F1-score = 0.700\n",
      "C = 10.00, Accuracy = 0.716, F1-score = 0.705\n",
      "C = 1.00, Accuracy = 0.708, F1-score = 0.697\n",
      "C = 0.10, Accuracy = 0.708, F1-score = 0.695\n",
      "C = 0.01, Accuracy = 0.700, F1-score = 0.681\n"
     ]
    }
   ],
   "source": [
    "from sklearn.linear_model import LogisticRegression\n",
    "\n",
    "c_values = [100, 10, 1.0, 0.1, 0.01]\n",
    "for c in c_values:\n",
    "    model_log_reg = LogisticRegression(C = c, max_iter = 5000)\n",
    "    model_log_reg.fit(x_train,y_train)\n",
    "    y_pred_test = model_log_reg.predict(x_test)\n",
    "    acc = accuracy_score(y_test, y_pred_test)\n",
    "    f1 = f1_score(y_test, y_pred_test)\n",
    "    print(\"C = %.2f, Accuracy = %.3f, F1-score = %.3f\" % (c, acc, f1))"
   ]
  },
  {
   "cell_type": "code",
   "execution_count": 73,
   "id": "6ed40ba3",
   "metadata": {},
   "outputs": [
    {
     "name": "stdout",
     "output_type": "stream",
     "text": [
      "Logistic Regression Accuracy = 0.716, F1-score = 0.705\n"
     ]
    }
   ],
   "source": [
    "model_log_reg = LogisticRegression(C = 10, max_iter = 5000)\n",
    "model_log_reg.fit(x_train,y_train)\n",
    "y_pred_test = model_log_reg.predict(x_test)\n",
    "acc = accuracy_score(y_test, y_pred_test)\n",
    "f1 = f1_score(y_test, y_pred_test)\n",
    "print(\"Logistic Regression Accuracy = %.3f, F1-score = %.3f\"% (acc, f1))\n",
    "y_pred_task1 = y_pred_test.copy()\n",
    "# y_pred_train = log_reg_model.predict(x_train)\n",
    "# print(\"Train Accuracy: \", accuracy_score(y_train,y_pred_train))\n",
    "# print(\"Test Accuracy: \", accuracy_score(y_test,y_pred_test))\n",
    "# print(\"f1 score: \",f1_score(y_test,y_pred_test))\n",
    "\n",
    "# kagggle score=0.68000 (Logistic Regression)"
   ]
  },
  {
   "cell_type": "markdown",
   "id": "a0bac29c",
   "metadata": {},
   "source": [
    "#### Random Forest"
   ]
  },
  {
   "cell_type": "code",
   "execution_count": 74,
   "id": "fe93ea01",
   "metadata": {},
   "outputs": [
    {
     "name": "stdout",
     "output_type": "stream",
     "text": [
      "n_estimators = 100 max_depth = 6 min_samples_split = 9, Accuracy = 0.744, F1-score = 0.726\n"
     ]
    }
   ],
   "source": [
    "from sklearn.ensemble import RandomForestClassifier\n",
    "from sklearn.metrics import mean_squared_error\n",
    "\n",
    "from tqdm import tqdm\n",
    "estimators = [100,200,400]\n",
    "max_depth = range(5,12)\n",
    "min_samples_split = range(2,11)\n",
    "\n",
    "for i in estimators:\n",
    "    for j in max_depth:\n",
    "        for k in min_samples_split:\n",
    "            model_rf = RandomForestClassifier(n_estimators=i, criterion='entropy', max_depth=j, min_samples_split=k, n_jobs=-1, random_state=1)\n",
    "            model_rf.fit(x_train,y_train)\n",
    "            y_pred_test = model_rf.predict(x_test)\n",
    "            acc = accuracy_score(y_test, y_pred_test)\n",
    "            f1 = f1_score(y_test, y_pred_test)\n",
    "            if f1 > 0.73 or acc > 0.74:\n",
    "                print(\"n_estimators = %d max_depth = %d min_samples_split = %d, Accuracy = %.3f, F1-score = %.3f\" % (i, j, k, acc, f1))"
   ]
  },
  {
   "cell_type": "code",
   "execution_count": 75,
   "id": "fcac7a17",
   "metadata": {},
   "outputs": [
    {
     "name": "stdout",
     "output_type": "stream",
     "text": [
      "Random Forest Accuracy = 0.744, F1-score = 0.726\n"
     ]
    }
   ],
   "source": [
    "model_rf = RandomForestClassifier(n_estimators=100, criterion='entropy', max_depth=6, min_samples_split=9, n_jobs=-1, random_state=1)\n",
    "# model_rf = RandomForestClassifier(n_estimators=100)\n",
    "model_rf.fit(x_train,y_train)\n",
    "y_pred_test = model_rf.predict(x_test)\n",
    "acc = accuracy_score(y_test, y_pred_test)\n",
    "f1 = f1_score(y_test, y_pred_test)\n",
    "print(\"Random Forest Accuracy = %.3f, F1-score = %.3f\"% (acc, f1))\n",
    "# kagggle score=0.70400 (RF(200,11,10))"
   ]
  },
  {
   "cell_type": "code",
   "execution_count": 76,
   "id": "40a0a492",
   "metadata": {},
   "outputs": [
    {
     "data": {
      "text/plain": [
       "<AxesSubplot:>"
      ]
     },
     "execution_count": 76,
     "metadata": {},
     "output_type": "execute_result"
    },
    {
     "data": {
      "image/png": "[encoded data removed]",
      "text/plain": [
       "<Figure size 432x288 with 1 Axes>"
      ]
     },
     "metadata": {
      "needs_background": "light"
     },
     "output_type": "display_data"
    }
   ],
   "source": [
    "feat_importances = pd.Series(model_rf.feature_importances_, index=X.columns)\n",
    "feat_importances.nlargest(10).plot(kind='barh')"
   ]
  },
  {
   "cell_type": "markdown",
   "id": "065b70c7",
   "metadata": {},
   "source": [
    "#### SVM"
   ]
  },
  {
   "cell_type": "code",
   "execution_count": 77,
   "id": "d215e8b1",
   "metadata": {},
   "outputs": [
    {
     "name": "stdout",
     "output_type": "stream",
     "text": [
      "kernel = linear C = 10 gamma = auto, Accuracy = 0.736, F1-score = 0.711\n",
      "kernel = linear C = 10000 gamma = auto, Accuracy = 0.732, F1-score = 0.707\n"
     ]
    }
   ],
   "source": [
    "from sklearn.svm import SVC\n",
    "from sklearn.metrics import f1_score\n",
    "c_values = [10**x for x in range(-6,5)]\n",
    "kernel = ['poly', 'rbf', 'sigmoid','linear']\n",
    "# gamma = [1,0.1,0.01,0.001]\n",
    "gamma = ['auto']\n",
    "f1_score_val = []\n",
    "for k in kernel:\n",
    "    for c in c_values:\n",
    "        for g in gamma:\n",
    "            model_svm = SVC(C=c, kernel=k)\n",
    "            model_svm.fit(x_train,y_train)\n",
    "            y_pred_test = model_svm.predict(x_test)\n",
    "            acc = accuracy_score(y_test, y_pred_test)\n",
    "            f1 = f1_score(y_test, y_pred_test)\n",
    "            if acc > 0.73:\n",
    "                print(\"kernel = %s C = %d gamma = %s, Accuracy = %.3f, F1-score = %.3f\" % (k, c, g, acc, f1))"
   ]
  },
  {
   "cell_type": "code",
   "execution_count": 79,
   "id": "660aefdd",
   "metadata": {},
   "outputs": [
    {
     "name": "stdout",
     "output_type": "stream",
     "text": [
      "SVM Accuracy = 0.736, F1-score = 0.711\n"
     ]
    }
   ],
   "source": [
    "model_svm = SVC(C=10, kernel='linear')\n",
    "model_svm.fit(x_train,y_train)\n",
    "y_pred_test = model_svm.predict(x_test)\n",
    "acc = accuracy_score(y_test, y_pred_test)\n",
    "f1 = f1_score(y_test, y_pred_test)\n",
    "print(\"SVM Accuracy = %.3f, F1-score = %.3f\"% (acc, f1))\n",
    "# kagggle score=0.68800 (SVC(c=10))"
   ]
  },
  {
   "cell_type": "markdown",
   "id": "7c803426",
   "metadata": {},
   "source": [
    "#### K-Nearest Neighbors"
   ]
  },
  {
   "cell_type": "code",
   "execution_count": 80,
   "id": "82990270",
   "metadata": {},
   "outputs": [
    {
     "name": "stdout",
     "output_type": "stream",
     "text": [
      "n_neighbors = 38, Accuracy: 0.708, F1-score = 0.678\n",
      "n_neighbors = 40, Accuracy: 0.720, F1-score = 0.696\n",
      "n_neighbors = 41, Accuracy: 0.704, F1-score = 0.681\n",
      "n_neighbors = 42, Accuracy: 0.704, F1-score = 0.681\n",
      "n_neighbors = 50, Accuracy: 0.704, F1-score = 0.684\n",
      "n_neighbors = 54, Accuracy: 0.704, F1-score = 0.684\n",
      "n_neighbors = 55, Accuracy: 0.704, F1-score = 0.684\n",
      "n_neighbors = 89, Accuracy: 0.704, F1-score = 0.664\n",
      "n_neighbors = 91, Accuracy: 0.708, F1-score = 0.670\n",
      "n_neighbors = 93, Accuracy: 0.704, F1-score = 0.667\n",
      "n_neighbors = 95, Accuracy: 0.704, F1-score = 0.667\n",
      "n_neighbors = 96, Accuracy: 0.708, F1-score = 0.676\n",
      "n_neighbors = 97, Accuracy: 0.716, F1-score = 0.682\n",
      "n_neighbors = 99, Accuracy: 0.708, F1-score = 0.673\n"
     ]
    }
   ],
   "source": [
    "from sklearn.neighbors import KNeighborsClassifier\n",
    "for n_neighbors in range(1, 100):\n",
    "    model_knn = KNeighborsClassifier(n_neighbors=n_neighbors, weights=\"distance\")\n",
    "    model_knn.fit(x_train,y_train)\n",
    "    y_pred_test = model_knn.predict(x_test)\n",
    "    acc = accuracy_score(y_test, y_pred_test)\n",
    "    f1 = f1_score(y_test, y_pred_test)\n",
    "    if acc > 0.70:\n",
    "        print(\"n_neighbors = %d, Accuracy: %.3f, F1-score = %.3f\" % (n_neighbors, acc, f1))"
   ]
  },
  {
   "cell_type": "code",
   "execution_count": 81,
   "id": "8c4f3c30",
   "metadata": {},
   "outputs": [
    {
     "name": "stdout",
     "output_type": "stream",
     "text": [
      "KNN Accuracy = 0.704, F1-score = 0.684\n"
     ]
    }
   ],
   "source": [
    "model_knn = KNeighborsClassifier(n_neighbors=55, weights=\"distance\")\n",
    "model_knn.fit(x_train,y_train)\n",
    "y_pred_test = model_knn.predict(x_test)\n",
    "acc = accuracy_score(y_test, y_pred_test)\n",
    "f1 = f1_score(y_test, y_pred_test)\n",
    "print(\"KNN Accuracy = %.3f, F1-score = %.3f\"% (acc, f1))"
   ]
  },
  {
   "cell_type": "markdown",
   "id": "8873c335",
   "metadata": {},
   "source": [
    "#### Bagging Classifier"
   ]
  },
  {
   "cell_type": "code",
   "execution_count": 82,
   "id": "020ddc68",
   "metadata": {},
   "outputs": [
    {
     "name": "stdout",
     "output_type": "stream",
     "text": [
      "n_estimators = 50 max_samples = 0.10, Accuracy: 0.736, F1-score = 0.723\n",
      "n_estimators = 100 max_samples = 0.20, Accuracy: 0.740, F1-score = 0.721\n",
      "n_estimators = 400 max_samples = 0.10, Accuracy: 0.732, F1-score = 0.722\n"
     ]
    }
   ],
   "source": [
    "from sklearn.ensemble import BaggingClassifier\n",
    "from numpy import arange\n",
    "\n",
    "base_estimators = [10, 50, 100, 200, 400]\n",
    "for n in base_estimators:\n",
    "    for i in arange(0.1, 1.1, 0.1):\n",
    "        model_bagging = BaggingClassifier(n_estimators = n, max_samples = i)\n",
    "        model_bagging.fit(x_train,y_train)\n",
    "        y_pred_test = model_bagging.predict(x_test)\n",
    "        acc = accuracy_score(y_test, y_pred_test)\n",
    "        f1 = f1_score(y_test, y_pred_test)\n",
    "        if acc > 0.72 and f1 > 0.72:\n",
    "            print(\"n_estimators = %d max_samples = %.2f, Accuracy: %.3f, F1-score = %.3f\" % (n, i, acc, f1))"
   ]
  },
  {
   "cell_type": "code",
   "execution_count": 86,
   "id": "f53b4d80",
   "metadata": {},
   "outputs": [
    {
     "name": "stdout",
     "output_type": "stream",
     "text": [
      "Bagging Accuracy = 0.748, F1-score = 0.736\n"
     ]
    }
   ],
   "source": [
    "model_bagging = BaggingClassifier(n_estimators = 100, max_samples = 0.2)\n",
    "model_bagging.fit(x_train,y_train)\n",
    "y_pred_test = model_bagging.predict(x_test)\n",
    "acc = accuracy_score(y_test, y_pred_test)\n",
    "f1 = f1_score(y_test, y_pred_test)\n",
    "print(\"Bagging Accuracy = %.3f, F1-score = %.3f\"% (acc, f1))\n",
    "# kagggle score=0.68800 (Bagging(DT, 50, 0.2))"
   ]
  },
  {
   "cell_type": "markdown",
   "id": "aafb7b49",
   "metadata": {},
   "source": [
    "#### Voting Classifier"
   ]
  },
  {
   "cell_type": "code",
   "execution_count": 88,
   "id": "ad4ce64b",
   "metadata": {},
   "outputs": [
    {
     "name": "stdout",
     "output_type": "stream",
     "text": [
      "Voting Classifier Accuracy = 0.732, F1-score = 0.712\n"
     ]
    }
   ],
   "source": [
    "from sklearn.ensemble import VotingClassifier\n",
    "model_voting = VotingClassifier(estimators=[('rf', model_rf), ('knn', model_knn),('svc', model_svm)], voting='hard')\n",
    "model_voting.fit(x_train,y_train)\n",
    "y_pred_test = model_voting.predict(x_test)\n",
    "acc = accuracy_score(y_test, y_pred_test)\n",
    "f1 = f1_score(y_test, y_pred_test)\n",
    "print(\"Voting Classifier Accuracy = %.3f, F1-score = %.3f\"% (acc, f1))"
   ]
  },
  {
   "cell_type": "markdown",
   "id": "005df0d4",
   "metadata": {},
   "source": [
    "#### Evaluate models"
   ]
  },
  {
   "cell_type": "code",
   "execution_count": 89,
   "id": "bf043900",
   "metadata": {},
   "outputs": [
    {
     "name": "stdout",
     "output_type": "stream",
     "text": [
      "(250, 12)\n"
     ]
    },
    {
     "data": {
      "text/html": [
       "<div>\n",
       "<style scoped>\n",
       "    .dataframe tbody tr th:only-of-type {\n",
       "        vertical-align: middle;\n",
       "    }\n",
       "\n",
       "    .dataframe tbody tr th {\n",
       "        vertical-align: top;\n",
       "    }\n",
       "\n",
       "    .dataframe thead th {\n",
       "        text-align: right;\n",
       "    }\n",
       "</style>\n",
       "<table border=\"1\" class=\"dataframe\">\n",
       "  <thead>\n",
       "    <tr style=\"text-align: right;\">\n",
       "      <th></th>\n",
       "      <th>id</th>\n",
       "      <th>age</th>\n",
       "      <th>gender</th>\n",
       "      <th>height</th>\n",
       "      <th>weight</th>\n",
       "      <th>ap_hi</th>\n",
       "      <th>ap_lo</th>\n",
       "      <th>cholesterol</th>\n",
       "      <th>gluc</th>\n",
       "      <th>smoke</th>\n",
       "      <th>alco</th>\n",
       "      <th>active</th>\n",
       "    </tr>\n",
       "  </thead>\n",
       "  <tbody>\n",
       "    <tr>\n",
       "      <th>0</th>\n",
       "      <td>47997</td>\n",
       "      <td>20222</td>\n",
       "      <td>Men</td>\n",
       "      <td>156</td>\n",
       "      <td>57.0</td>\n",
       "      <td>110</td>\n",
       "      <td>70</td>\n",
       "      <td>Normal</td>\n",
       "      <td>Normal</td>\n",
       "      <td>0</td>\n",
       "      <td>1</td>\n",
       "      <td>0</td>\n",
       "    </tr>\n",
       "    <tr>\n",
       "      <th>1</th>\n",
       "      <td>15311</td>\n",
       "      <td>18079</td>\n",
       "      <td>Men</td>\n",
       "      <td>160</td>\n",
       "      <td>60.0</td>\n",
       "      <td>120</td>\n",
       "      <td>80</td>\n",
       "      <td>Normal</td>\n",
       "      <td>Normal</td>\n",
       "      <td>0</td>\n",
       "      <td>0</td>\n",
       "      <td>1</td>\n",
       "    </tr>\n",
       "    <tr>\n",
       "      <th>2</th>\n",
       "      <td>44269</td>\n",
       "      <td>20279</td>\n",
       "      <td>Women</td>\n",
       "      <td>170</td>\n",
       "      <td>80.0</td>\n",
       "      <td>140</td>\n",
       "      <td>69</td>\n",
       "      <td>Normal</td>\n",
       "      <td>Normal</td>\n",
       "      <td>0</td>\n",
       "      <td>0</td>\n",
       "      <td>1</td>\n",
       "    </tr>\n",
       "    <tr>\n",
       "      <th>3</th>\n",
       "      <td>91373</td>\n",
       "      <td>23227</td>\n",
       "      <td>Men</td>\n",
       "      <td>158</td>\n",
       "      <td>80.0</td>\n",
       "      <td>160</td>\n",
       "      <td>90</td>\n",
       "      <td>High</td>\n",
       "      <td>Normal</td>\n",
       "      <td>0</td>\n",
       "      <td>0</td>\n",
       "      <td>1</td>\n",
       "    </tr>\n",
       "    <tr>\n",
       "      <th>4</th>\n",
       "      <td>9686</td>\n",
       "      <td>20461</td>\n",
       "      <td>Men</td>\n",
       "      <td>158</td>\n",
       "      <td>92.0</td>\n",
       "      <td>140</td>\n",
       "      <td>90</td>\n",
       "      <td>Normal</td>\n",
       "      <td>Above Normal</td>\n",
       "      <td>0</td>\n",
       "      <td>0</td>\n",
       "      <td>0</td>\n",
       "    </tr>\n",
       "  </tbody>\n",
       "</table>\n",
       "</div>"
      ],
      "text/plain": [
       "      id    age gender  height  weight  ap_hi  ap_lo cholesterol  \\\n",
       "0  47997  20222    Men     156    57.0    110     70      Normal   \n",
       "1  15311  18079    Men     160    60.0    120     80      Normal   \n",
       "2  44269  20279  Women     170    80.0    140     69      Normal   \n",
       "3  91373  23227    Men     158    80.0    160     90        High   \n",
       "4   9686  20461    Men     158    92.0    140     90      Normal   \n",
       "\n",
       "           gluc  smoke  alco  active  \n",
       "0        Normal      0     1       0  \n",
       "1        Normal      0     0       1  \n",
       "2        Normal      0     0       1  \n",
       "3        Normal      0     0       1  \n",
       "4  Above Normal      0     0       0  "
      ]
     },
     "execution_count": 89,
     "metadata": {},
     "output_type": "execute_result"
    }
   ],
   "source": [
    "test_data = pd.read_csv(\"cardio-test.csv\", sep=\",\")\n",
    "print(test_data.shape)\n",
    "test_data.head()"
   ]
  },
  {
   "cell_type": "code",
   "execution_count": 90,
   "id": "7cc61a0c",
   "metadata": {},
   "outputs": [
    {
     "data": {
      "text/plain": [
       "id             0\n",
       "age            0\n",
       "gender         0\n",
       "height         0\n",
       "weight         0\n",
       "ap_hi          0\n",
       "ap_lo          0\n",
       "cholesterol    0\n",
       "gluc           0\n",
       "smoke          0\n",
       "alco           0\n",
       "active         0\n",
       "dtype: int64"
      ]
     },
     "execution_count": 90,
     "metadata": {},
     "output_type": "execute_result"
    }
   ],
   "source": [
    "test_data.isna().sum()"
   ]
  },
  {
   "cell_type": "code",
   "execution_count": 91,
   "id": "d96b51c6",
   "metadata": {},
   "outputs": [],
   "source": [
    "from sklearn.preprocessing import StandardScaler, MinMaxScaler\n",
    "test_data = preprocess(test_data)\n",
    "scaler = StandardScaler()\n",
    "test_data = pd.DataFrame(scaler.fit_transform(test_data))"
   ]
  },
  {
   "cell_type": "code",
   "execution_count": 92,
   "id": "f4572038",
   "metadata": {},
   "outputs": [
    {
     "data": {
      "text/html": [
       "<div>\n",
       "<style scoped>\n",
       "    .dataframe tbody tr th:only-of-type {\n",
       "        vertical-align: middle;\n",
       "    }\n",
       "\n",
       "    .dataframe tbody tr th {\n",
       "        vertical-align: top;\n",
       "    }\n",
       "\n",
       "    .dataframe thead th {\n",
       "        text-align: right;\n",
       "    }\n",
       "</style>\n",
       "<table border=\"1\" class=\"dataframe\">\n",
       "  <thead>\n",
       "    <tr style=\"text-align: right;\">\n",
       "      <th></th>\n",
       "      <th>0</th>\n",
       "      <th>1</th>\n",
       "      <th>2</th>\n",
       "      <th>3</th>\n",
       "      <th>4</th>\n",
       "      <th>5</th>\n",
       "      <th>6</th>\n",
       "      <th>7</th>\n",
       "      <th>8</th>\n",
       "      <th>9</th>\n",
       "      <th>10</th>\n",
       "    </tr>\n",
       "  </thead>\n",
       "  <tbody>\n",
       "    <tr>\n",
       "      <th>0</th>\n",
       "      <td>0.217526</td>\n",
       "      <td>-0.743502</td>\n",
       "      <td>-1.047999</td>\n",
       "      <td>-1.126201</td>\n",
       "      <td>-0.967672</td>\n",
       "      <td>-0.107793</td>\n",
       "      <td>0.485211</td>\n",
       "      <td>0.356904</td>\n",
       "      <td>-0.318311</td>\n",
       "      <td>3.702146</td>\n",
       "      <td>-1.760216</td>\n",
       "    </tr>\n",
       "    <tr>\n",
       "      <th>1</th>\n",
       "      <td>-0.533600</td>\n",
       "      <td>-0.743502</td>\n",
       "      <td>-0.552257</td>\n",
       "      <td>-0.917645</td>\n",
       "      <td>-0.373133</td>\n",
       "      <td>-0.088149</td>\n",
       "      <td>0.485211</td>\n",
       "      <td>0.356904</td>\n",
       "      <td>-0.318311</td>\n",
       "      <td>-0.270114</td>\n",
       "      <td>0.568112</td>\n",
       "    </tr>\n",
       "    <tr>\n",
       "      <th>2</th>\n",
       "      <td>0.367751</td>\n",
       "      <td>1.344987</td>\n",
       "      <td>0.687099</td>\n",
       "      <td>0.472726</td>\n",
       "      <td>0.815946</td>\n",
       "      <td>-0.109758</td>\n",
       "      <td>0.485211</td>\n",
       "      <td>0.356904</td>\n",
       "      <td>-0.318311</td>\n",
       "      <td>-0.270114</td>\n",
       "      <td>0.568112</td>\n",
       "    </tr>\n",
       "    <tr>\n",
       "      <th>3</th>\n",
       "      <td>1.569553</td>\n",
       "      <td>-0.743502</td>\n",
       "      <td>-0.800128</td>\n",
       "      <td>0.472726</td>\n",
       "      <td>2.005024</td>\n",
       "      <td>-0.068504</td>\n",
       "      <td>-1.050266</td>\n",
       "      <td>0.356904</td>\n",
       "      <td>-0.318311</td>\n",
       "      <td>-0.270114</td>\n",
       "      <td>0.568112</td>\n",
       "    </tr>\n",
       "    <tr>\n",
       "      <th>4</th>\n",
       "      <td>0.367751</td>\n",
       "      <td>-0.743502</td>\n",
       "      <td>-0.800128</td>\n",
       "      <td>1.306949</td>\n",
       "      <td>0.815946</td>\n",
       "      <td>-0.068504</td>\n",
       "      <td>0.485211</td>\n",
       "      <td>-3.284977</td>\n",
       "      <td>-0.318311</td>\n",
       "      <td>-0.270114</td>\n",
       "      <td>-1.760216</td>\n",
       "    </tr>\n",
       "  </tbody>\n",
       "</table>\n",
       "</div>"
      ],
      "text/plain": [
       "         0         1         2         3         4         5         6   \\\n",
       "0  0.217526 -0.743502 -1.047999 -1.126201 -0.967672 -0.107793  0.485211   \n",
       "1 -0.533600 -0.743502 -0.552257 -0.917645 -0.373133 -0.088149  0.485211   \n",
       "2  0.367751  1.344987  0.687099  0.472726  0.815946 -0.109758  0.485211   \n",
       "3  1.569553 -0.743502 -0.800128  0.472726  2.005024 -0.068504 -1.050266   \n",
       "4  0.367751 -0.743502 -0.800128  1.306949  0.815946 -0.068504  0.485211   \n",
       "\n",
       "         7         8         9         10  \n",
       "0  0.356904 -0.318311  3.702146 -1.760216  \n",
       "1  0.356904 -0.318311 -0.270114  0.568112  \n",
       "2  0.356904 -0.318311 -0.270114  0.568112  \n",
       "3  0.356904 -0.318311 -0.270114  0.568112  \n",
       "4 -3.284977 -0.318311 -0.270114 -1.760216  "
      ]
     },
     "execution_count": 92,
     "metadata": {},
     "output_type": "execute_result"
    }
   ],
   "source": [
    "test_data.head()"
   ]
  },
  {
   "cell_type": "markdown",
   "id": "46eb0d81",
   "metadata": {},
   "source": [
    "#### n. Upload your test data predictions to Kaggle competition in the correct submission format.\n",
    "#### o. Use the cardio-validation.csv and cardio-train.csv as well to make your final prediction."
   ]
  },
  {
   "cell_type": "code",
   "execution_count": 99,
   "id": "900654a5",
   "metadata": {},
   "outputs": [],
   "source": [
    "# REPLACE CLF\n",
    "final_model = model_rf\n",
    "\n",
    "#train the model on training + validation data\n",
    "final_model.fit(x_train.append(x_test), y_train.append(y_test))\n",
    "\n",
    "# generate submission file\n",
    "y_pred_submission = final_model.predict(test_data)\n",
    "df_result = pd.DataFrame(y_pred_submission,columns=[\"cardio\"])\n",
    "sample = pd.read_csv(\"sample-submission.csv\")\n",
    "df_result_final = pd.concat([sample.loc[:,\"id\"],df_result], axis=1)\n",
    "df_result_final.to_csv(\"submissions/submit-final-rf-1.csv\", index=False)"
   ]
  },
  {
   "cell_type": "code",
   "execution_count": 100,
   "id": "62cf0f14",
   "metadata": {},
   "outputs": [
    {
     "data": {
      "text/html": [
       "<div>\n",
       "<style scoped>\n",
       "    .dataframe tbody tr th:only-of-type {\n",
       "        vertical-align: middle;\n",
       "    }\n",
       "\n",
       "    .dataframe tbody tr th {\n",
       "        vertical-align: top;\n",
       "    }\n",
       "\n",
       "    .dataframe thead th {\n",
       "        text-align: right;\n",
       "    }\n",
       "</style>\n",
       "<table border=\"1\" class=\"dataframe\">\n",
       "  <thead>\n",
       "    <tr style=\"text-align: right;\">\n",
       "      <th></th>\n",
       "      <th>id</th>\n",
       "      <th>cardio</th>\n",
       "    </tr>\n",
       "  </thead>\n",
       "  <tbody>\n",
       "    <tr>\n",
       "      <th>0</th>\n",
       "      <td>47997</td>\n",
       "      <td>0</td>\n",
       "    </tr>\n",
       "    <tr>\n",
       "      <th>1</th>\n",
       "      <td>15311</td>\n",
       "      <td>0</td>\n",
       "    </tr>\n",
       "    <tr>\n",
       "      <th>2</th>\n",
       "      <td>44269</td>\n",
       "      <td>1</td>\n",
       "    </tr>\n",
       "    <tr>\n",
       "      <th>3</th>\n",
       "      <td>91373</td>\n",
       "      <td>1</td>\n",
       "    </tr>\n",
       "    <tr>\n",
       "      <th>4</th>\n",
       "      <td>9686</td>\n",
       "      <td>1</td>\n",
       "    </tr>\n",
       "    <tr>\n",
       "      <th>...</th>\n",
       "      <td>...</td>\n",
       "      <td>...</td>\n",
       "    </tr>\n",
       "    <tr>\n",
       "      <th>245</th>\n",
       "      <td>46137</td>\n",
       "      <td>0</td>\n",
       "    </tr>\n",
       "    <tr>\n",
       "      <th>246</th>\n",
       "      <td>58058</td>\n",
       "      <td>1</td>\n",
       "    </tr>\n",
       "    <tr>\n",
       "      <th>247</th>\n",
       "      <td>30608</td>\n",
       "      <td>0</td>\n",
       "    </tr>\n",
       "    <tr>\n",
       "      <th>248</th>\n",
       "      <td>83845</td>\n",
       "      <td>0</td>\n",
       "    </tr>\n",
       "    <tr>\n",
       "      <th>249</th>\n",
       "      <td>1285</td>\n",
       "      <td>1</td>\n",
       "    </tr>\n",
       "  </tbody>\n",
       "</table>\n",
       "<p>250 rows × 2 columns</p>\n",
       "</div>"
      ],
      "text/plain": [
       "        id  cardio\n",
       "0    47997       0\n",
       "1    15311       0\n",
       "2    44269       1\n",
       "3    91373       1\n",
       "4     9686       1\n",
       "..     ...     ...\n",
       "245  46137       0\n",
       "246  58058       1\n",
       "247  30608       0\n",
       "248  83845       0\n",
       "249   1285       1\n",
       "\n",
       "[250 rows x 2 columns]"
      ]
     },
     "execution_count": 100,
     "metadata": {},
     "output_type": "execute_result"
    }
   ],
   "source": [
    "df_result_final"
   ]
  },
  {
   "cell_type": "markdown",
   "id": "1ec5674e",
   "metadata": {},
   "source": [
    "## Task 2"
   ]
  },
  {
   "cell_type": "code",
   "execution_count": 101,
   "id": "8d494cce",
   "metadata": {},
   "outputs": [
    {
     "name": "stdout",
     "output_type": "stream",
     "text": [
      "(1000, 13)\n"
     ]
    },
    {
     "data": {
      "text/html": [
       "<div>\n",
       "<style scoped>\n",
       "    .dataframe tbody tr th:only-of-type {\n",
       "        vertical-align: middle;\n",
       "    }\n",
       "\n",
       "    .dataframe tbody tr th {\n",
       "        vertical-align: top;\n",
       "    }\n",
       "\n",
       "    .dataframe thead th {\n",
       "        text-align: right;\n",
       "    }\n",
       "</style>\n",
       "<table border=\"1\" class=\"dataframe\">\n",
       "  <thead>\n",
       "    <tr style=\"text-align: right;\">\n",
       "      <th></th>\n",
       "      <th>id</th>\n",
       "      <th>age</th>\n",
       "      <th>gender</th>\n",
       "      <th>height</th>\n",
       "      <th>weight</th>\n",
       "      <th>ap_hi</th>\n",
       "      <th>ap_lo</th>\n",
       "      <th>cholesterol</th>\n",
       "      <th>gluc</th>\n",
       "      <th>smoke</th>\n",
       "      <th>alco</th>\n",
       "      <th>active</th>\n",
       "      <th>cardio</th>\n",
       "    </tr>\n",
       "  </thead>\n",
       "  <tbody>\n",
       "    <tr>\n",
       "      <th>0</th>\n",
       "      <td>66667</td>\n",
       "      <td>20252</td>\n",
       "      <td>Women</td>\n",
       "      <td>161</td>\n",
       "      <td>62.0</td>\n",
       "      <td>140</td>\n",
       "      <td>90</td>\n",
       "      <td>High</td>\n",
       "      <td>High</td>\n",
       "      <td>0</td>\n",
       "      <td>0</td>\n",
       "      <td>1</td>\n",
       "      <td>1</td>\n",
       "    </tr>\n",
       "    <tr>\n",
       "      <th>1</th>\n",
       "      <td>22956</td>\n",
       "      <td>21129</td>\n",
       "      <td>Men</td>\n",
       "      <td>166</td>\n",
       "      <td>66.0</td>\n",
       "      <td>125</td>\n",
       "      <td>70</td>\n",
       "      <td>Normal</td>\n",
       "      <td>Normal</td>\n",
       "      <td>1</td>\n",
       "      <td>0</td>\n",
       "      <td>1</td>\n",
       "      <td>0</td>\n",
       "    </tr>\n",
       "    <tr>\n",
       "      <th>2</th>\n",
       "      <td>40536</td>\n",
       "      <td>16602</td>\n",
       "      <td>Men</td>\n",
       "      <td>160</td>\n",
       "      <td>74.0</td>\n",
       "      <td>140</td>\n",
       "      <td>90</td>\n",
       "      <td>Normal</td>\n",
       "      <td>Normal</td>\n",
       "      <td>0</td>\n",
       "      <td>0</td>\n",
       "      <td>1</td>\n",
       "      <td>0</td>\n",
       "    </tr>\n",
       "    <tr>\n",
       "      <th>3</th>\n",
       "      <td>39712</td>\n",
       "      <td>15172</td>\n",
       "      <td>Men</td>\n",
       "      <td>167</td>\n",
       "      <td>77.0</td>\n",
       "      <td>120</td>\n",
       "      <td>80</td>\n",
       "      <td>Normal</td>\n",
       "      <td>Normal</td>\n",
       "      <td>0</td>\n",
       "      <td>0</td>\n",
       "      <td>1</td>\n",
       "      <td>0</td>\n",
       "    </tr>\n",
       "    <tr>\n",
       "      <th>4</th>\n",
       "      <td>82165</td>\n",
       "      <td>19858</td>\n",
       "      <td>Women</td>\n",
       "      <td>176</td>\n",
       "      <td>93.0</td>\n",
       "      <td>140</td>\n",
       "      <td>90</td>\n",
       "      <td>Above Normal</td>\n",
       "      <td>Normal</td>\n",
       "      <td>0</td>\n",
       "      <td>1</td>\n",
       "      <td>1</td>\n",
       "      <td>1</td>\n",
       "    </tr>\n",
       "  </tbody>\n",
       "</table>\n",
       "</div>"
      ],
      "text/plain": [
       "      id    age gender  height  weight  ap_hi  ap_lo   cholesterol    gluc  \\\n",
       "0  66667  20252  Women     161    62.0    140     90          High    High   \n",
       "1  22956  21129    Men     166    66.0    125     70        Normal  Normal   \n",
       "2  40536  16602    Men     160    74.0    140     90        Normal  Normal   \n",
       "3  39712  15172    Men     167    77.0    120     80        Normal  Normal   \n",
       "4  82165  19858  Women     176    93.0    140     90  Above Normal  Normal   \n",
       "\n",
       "   smoke  alco  active  cardio  \n",
       "0      0     0       1       1  \n",
       "1      1     0       1       0  \n",
       "2      0     0       1       0  \n",
       "3      0     0       1       0  \n",
       "4      0     1       1       1  "
      ]
     },
     "execution_count": 101,
     "metadata": {},
     "output_type": "execute_result"
    }
   ],
   "source": [
    "from sklearn.metrics import accuracy_score, f1_score\n",
    "from sklearn.model_selection import train_test_split\n",
    "from sklearn.linear_model import LogisticRegression\n",
    "\n",
    "cardio_complete_data = pd.read_csv(\"cardio-complete .csv\")\n",
    "print(cardio_complete_data.shape)\n",
    "cardio_complete_data.head()"
   ]
  },
  {
   "cell_type": "code",
   "execution_count": 102,
   "id": "d8f74f37",
   "metadata": {},
   "outputs": [
    {
     "data": {
      "text/plain": [
       "id             0\n",
       "age            0\n",
       "gender         0\n",
       "height         0\n",
       "weight         0\n",
       "ap_hi          0\n",
       "ap_lo          0\n",
       "cholesterol    0\n",
       "gluc           0\n",
       "smoke          0\n",
       "alco           0\n",
       "active         0\n",
       "cardio         0\n",
       "dtype: int64"
      ]
     },
     "execution_count": 102,
     "metadata": {},
     "output_type": "execute_result"
    }
   ],
   "source": [
    "#checking presence of NaN values\n",
    "cardio_complete_data.isna().sum()"
   ]
  },
  {
   "cell_type": "code",
   "execution_count": 103,
   "id": "9c886cdb",
   "metadata": {},
   "outputs": [
    {
     "name": "stdout",
     "output_type": "stream",
     "text": [
      "<class 'pandas.core.frame.DataFrame'>\n",
      "RangeIndex: 1000 entries, 0 to 999\n",
      "Data columns (total 13 columns):\n",
      " #   Column       Non-Null Count  Dtype  \n",
      "---  ------       --------------  -----  \n",
      " 0   id           1000 non-null   int64  \n",
      " 1   age          1000 non-null   int64  \n",
      " 2   gender       1000 non-null   object \n",
      " 3   height       1000 non-null   int64  \n",
      " 4   weight       1000 non-null   float64\n",
      " 5   ap_hi        1000 non-null   int64  \n",
      " 6   ap_lo        1000 non-null   int64  \n",
      " 7   cholesterol  1000 non-null   object \n",
      " 8   gluc         1000 non-null   object \n",
      " 9   smoke        1000 non-null   int64  \n",
      " 10  alco         1000 non-null   int64  \n",
      " 11  active       1000 non-null   int64  \n",
      " 12  cardio       1000 non-null   int64  \n",
      "dtypes: float64(1), int64(9), object(3)\n",
      "memory usage: 101.7+ KB\n"
     ]
    }
   ],
   "source": [
    "cardio_complete_data.info()"
   ]
  },
  {
   "cell_type": "code",
   "execution_count": 104,
   "id": "dcf0d9fb",
   "metadata": {},
   "outputs": [
    {
     "data": {
      "text/html": [
       "<div>\n",
       "<style scoped>\n",
       "    .dataframe tbody tr th:only-of-type {\n",
       "        vertical-align: middle;\n",
       "    }\n",
       "\n",
       "    .dataframe tbody tr th {\n",
       "        vertical-align: top;\n",
       "    }\n",
       "\n",
       "    .dataframe thead th {\n",
       "        text-align: right;\n",
       "    }\n",
       "</style>\n",
       "<table border=\"1\" class=\"dataframe\">\n",
       "  <thead>\n",
       "    <tr style=\"text-align: right;\">\n",
       "      <th></th>\n",
       "      <th>id</th>\n",
       "      <th>age</th>\n",
       "      <th>height</th>\n",
       "      <th>weight</th>\n",
       "      <th>ap_hi</th>\n",
       "      <th>ap_lo</th>\n",
       "      <th>smoke</th>\n",
       "      <th>alco</th>\n",
       "      <th>active</th>\n",
       "      <th>cardio</th>\n",
       "    </tr>\n",
       "  </thead>\n",
       "  <tbody>\n",
       "    <tr>\n",
       "      <th>count</th>\n",
       "      <td>1000.000000</td>\n",
       "      <td>1000.00000</td>\n",
       "      <td>1000.000000</td>\n",
       "      <td>1000.000000</td>\n",
       "      <td>1000.000000</td>\n",
       "      <td>1000.000000</td>\n",
       "      <td>1000.000000</td>\n",
       "      <td>1000.000000</td>\n",
       "      <td>1000.000000</td>\n",
       "      <td>1000.00000</td>\n",
       "    </tr>\n",
       "    <tr>\n",
       "      <th>mean</th>\n",
       "      <td>49937.141000</td>\n",
       "      <td>19430.11200</td>\n",
       "      <td>164.288000</td>\n",
       "      <td>74.256200</td>\n",
       "      <td>126.221000</td>\n",
       "      <td>88.654000</td>\n",
       "      <td>0.080000</td>\n",
       "      <td>0.045000</td>\n",
       "      <td>0.798000</td>\n",
       "      <td>0.51000</td>\n",
       "    </tr>\n",
       "    <tr>\n",
       "      <th>std</th>\n",
       "      <td>28540.044455</td>\n",
       "      <td>2491.98155</td>\n",
       "      <td>8.415811</td>\n",
       "      <td>14.141323</td>\n",
       "      <td>19.316969</td>\n",
       "      <td>83.606641</td>\n",
       "      <td>0.271429</td>\n",
       "      <td>0.207408</td>\n",
       "      <td>0.401693</td>\n",
       "      <td>0.50015</td>\n",
       "    </tr>\n",
       "    <tr>\n",
       "      <th>min</th>\n",
       "      <td>135.000000</td>\n",
       "      <td>14344.00000</td>\n",
       "      <td>109.000000</td>\n",
       "      <td>36.000000</td>\n",
       "      <td>7.000000</td>\n",
       "      <td>40.000000</td>\n",
       "      <td>0.000000</td>\n",
       "      <td>0.000000</td>\n",
       "      <td>0.000000</td>\n",
       "      <td>0.00000</td>\n",
       "    </tr>\n",
       "    <tr>\n",
       "      <th>25%</th>\n",
       "      <td>25325.750000</td>\n",
       "      <td>17622.50000</td>\n",
       "      <td>159.000000</td>\n",
       "      <td>64.000000</td>\n",
       "      <td>120.000000</td>\n",
       "      <td>80.000000</td>\n",
       "      <td>0.000000</td>\n",
       "      <td>0.000000</td>\n",
       "      <td>1.000000</td>\n",
       "      <td>0.00000</td>\n",
       "    </tr>\n",
       "    <tr>\n",
       "      <th>50%</th>\n",
       "      <td>49517.000000</td>\n",
       "      <td>19716.00000</td>\n",
       "      <td>164.000000</td>\n",
       "      <td>72.000000</td>\n",
       "      <td>120.000000</td>\n",
       "      <td>80.000000</td>\n",
       "      <td>0.000000</td>\n",
       "      <td>0.000000</td>\n",
       "      <td>1.000000</td>\n",
       "      <td>1.00000</td>\n",
       "    </tr>\n",
       "    <tr>\n",
       "      <th>75%</th>\n",
       "      <td>74524.000000</td>\n",
       "      <td>21311.75000</td>\n",
       "      <td>170.000000</td>\n",
       "      <td>83.000000</td>\n",
       "      <td>140.000000</td>\n",
       "      <td>90.000000</td>\n",
       "      <td>0.000000</td>\n",
       "      <td>0.000000</td>\n",
       "      <td>1.000000</td>\n",
       "      <td>1.00000</td>\n",
       "    </tr>\n",
       "    <tr>\n",
       "      <th>max</th>\n",
       "      <td>99699.000000</td>\n",
       "      <td>23655.00000</td>\n",
       "      <td>194.000000</td>\n",
       "      <td>140.000000</td>\n",
       "      <td>215.000000</td>\n",
       "      <td>1100.000000</td>\n",
       "      <td>1.000000</td>\n",
       "      <td>1.000000</td>\n",
       "      <td>1.000000</td>\n",
       "      <td>1.00000</td>\n",
       "    </tr>\n",
       "  </tbody>\n",
       "</table>\n",
       "</div>"
      ],
      "text/plain": [
       "                 id          age       height       weight        ap_hi  \\\n",
       "count   1000.000000   1000.00000  1000.000000  1000.000000  1000.000000   \n",
       "mean   49937.141000  19430.11200   164.288000    74.256200   126.221000   \n",
       "std    28540.044455   2491.98155     8.415811    14.141323    19.316969   \n",
       "min      135.000000  14344.00000   109.000000    36.000000     7.000000   \n",
       "25%    25325.750000  17622.50000   159.000000    64.000000   120.000000   \n",
       "50%    49517.000000  19716.00000   164.000000    72.000000   120.000000   \n",
       "75%    74524.000000  21311.75000   170.000000    83.000000   140.000000   \n",
       "max    99699.000000  23655.00000   194.000000   140.000000   215.000000   \n",
       "\n",
       "             ap_lo        smoke         alco       active      cardio  \n",
       "count  1000.000000  1000.000000  1000.000000  1000.000000  1000.00000  \n",
       "mean     88.654000     0.080000     0.045000     0.798000     0.51000  \n",
       "std      83.606641     0.271429     0.207408     0.401693     0.50015  \n",
       "min      40.000000     0.000000     0.000000     0.000000     0.00000  \n",
       "25%      80.000000     0.000000     0.000000     1.000000     0.00000  \n",
       "50%      80.000000     0.000000     0.000000     1.000000     1.00000  \n",
       "75%      90.000000     0.000000     0.000000     1.000000     1.00000  \n",
       "max    1100.000000     1.000000     1.000000     1.000000     1.00000  "
      ]
     },
     "execution_count": 104,
     "metadata": {},
     "output_type": "execute_result"
    }
   ],
   "source": [
    "cardio_complete_data.describe()"
   ]
  },
  {
   "cell_type": "markdown",
   "id": "48027398",
   "metadata": {},
   "source": [
    "**Observations:**\n",
    "- The cardio complete data has 0 null values. Hence, we will require less preprocessing for this data. \n",
    "- Complete data has 1000 rows while in task 1, training data had 500 rows and validation data had 500 rows. So in this part, we have more data to fit the model."
   ]
  },
  {
   "cell_type": "code",
   "execution_count": 105,
   "id": "45308190",
   "metadata": {},
   "outputs": [
    {
     "data": {
      "text/html": [
       "<div>\n",
       "<style scoped>\n",
       "    .dataframe tbody tr th:only-of-type {\n",
       "        vertical-align: middle;\n",
       "    }\n",
       "\n",
       "    .dataframe tbody tr th {\n",
       "        vertical-align: top;\n",
       "    }\n",
       "\n",
       "    .dataframe thead th {\n",
       "        text-align: right;\n",
       "    }\n",
       "</style>\n",
       "<table border=\"1\" class=\"dataframe\">\n",
       "  <thead>\n",
       "    <tr style=\"text-align: right;\">\n",
       "      <th></th>\n",
       "      <th>age</th>\n",
       "      <th>gender</th>\n",
       "      <th>height</th>\n",
       "      <th>weight</th>\n",
       "      <th>ap_hi</th>\n",
       "      <th>ap_lo</th>\n",
       "      <th>cholesterol</th>\n",
       "      <th>gluc</th>\n",
       "      <th>smoke</th>\n",
       "      <th>alco</th>\n",
       "      <th>active</th>\n",
       "      <th>cardio</th>\n",
       "    </tr>\n",
       "  </thead>\n",
       "  <tbody>\n",
       "    <tr>\n",
       "      <th>0</th>\n",
       "      <td>55.0</td>\n",
       "      <td>1</td>\n",
       "      <td>161</td>\n",
       "      <td>62.0</td>\n",
       "      <td>140</td>\n",
       "      <td>90</td>\n",
       "      <td>1</td>\n",
       "      <td>1</td>\n",
       "      <td>0</td>\n",
       "      <td>0</td>\n",
       "      <td>1</td>\n",
       "      <td>1</td>\n",
       "    </tr>\n",
       "    <tr>\n",
       "      <th>1</th>\n",
       "      <td>58.0</td>\n",
       "      <td>0</td>\n",
       "      <td>166</td>\n",
       "      <td>66.0</td>\n",
       "      <td>125</td>\n",
       "      <td>70</td>\n",
       "      <td>2</td>\n",
       "      <td>2</td>\n",
       "      <td>1</td>\n",
       "      <td>0</td>\n",
       "      <td>1</td>\n",
       "      <td>0</td>\n",
       "    </tr>\n",
       "    <tr>\n",
       "      <th>2</th>\n",
       "      <td>45.0</td>\n",
       "      <td>0</td>\n",
       "      <td>160</td>\n",
       "      <td>74.0</td>\n",
       "      <td>140</td>\n",
       "      <td>90</td>\n",
       "      <td>2</td>\n",
       "      <td>2</td>\n",
       "      <td>0</td>\n",
       "      <td>0</td>\n",
       "      <td>1</td>\n",
       "      <td>0</td>\n",
       "    </tr>\n",
       "    <tr>\n",
       "      <th>3</th>\n",
       "      <td>42.0</td>\n",
       "      <td>0</td>\n",
       "      <td>167</td>\n",
       "      <td>77.0</td>\n",
       "      <td>120</td>\n",
       "      <td>80</td>\n",
       "      <td>2</td>\n",
       "      <td>2</td>\n",
       "      <td>0</td>\n",
       "      <td>0</td>\n",
       "      <td>1</td>\n",
       "      <td>0</td>\n",
       "    </tr>\n",
       "    <tr>\n",
       "      <th>4</th>\n",
       "      <td>54.0</td>\n",
       "      <td>1</td>\n",
       "      <td>176</td>\n",
       "      <td>93.0</td>\n",
       "      <td>140</td>\n",
       "      <td>90</td>\n",
       "      <td>0</td>\n",
       "      <td>2</td>\n",
       "      <td>0</td>\n",
       "      <td>1</td>\n",
       "      <td>1</td>\n",
       "      <td>1</td>\n",
       "    </tr>\n",
       "  </tbody>\n",
       "</table>\n",
       "</div>"
      ],
      "text/plain": [
       "    age  gender  height  weight  ap_hi  ap_lo  cholesterol  gluc  smoke  alco  \\\n",
       "0  55.0       1     161    62.0    140     90            1     1      0     0   \n",
       "1  58.0       0     166    66.0    125     70            2     2      1     0   \n",
       "2  45.0       0     160    74.0    140     90            2     2      0     0   \n",
       "3  42.0       0     167    77.0    120     80            2     2      0     0   \n",
       "4  54.0       1     176    93.0    140     90            0     2      0     1   \n",
       "\n",
       "   active  cardio  \n",
       "0       1       1  \n",
       "1       1       0  \n",
       "2       1       0  \n",
       "3       1       0  \n",
       "4       1       1  "
      ]
     },
     "execution_count": 105,
     "metadata": {},
     "output_type": "execute_result"
    }
   ],
   "source": [
    "# same preprocessing as task 1 (except missing data imputation is not needed)\n",
    "cardio_complete_data = preprocess(cardio_complete_data)\n",
    "cardio_complete_data.head()"
   ]
  },
  {
   "cell_type": "code",
   "execution_count": 106,
   "id": "7f350eec",
   "metadata": {},
   "outputs": [],
   "source": [
    "y = cardio_complete_data.loc[:,\"cardio\"]\n",
    "X = cardio_complete_data.drop(\"cardio\", 1)"
   ]
  },
  {
   "cell_type": "code",
   "execution_count": 107,
   "id": "42f5f8c7",
   "metadata": {},
   "outputs": [],
   "source": [
    "from sklearn.model_selection import train_test_split\n",
    "x_train,x_test,y_train,y_test = train_test_split(X,y,stratify=y,test_size=0.2,random_state=1)\n",
    "y_test_task2 = y_test.copy()"
   ]
  },
  {
   "cell_type": "code",
   "execution_count": 108,
   "id": "803b8ff6",
   "metadata": {},
   "outputs": [
    {
     "name": "stdout",
     "output_type": "stream",
     "text": [
      "C = 100.00, Accuracy = 0.680, F1-score = 0.680\n",
      "C = 10.00, Accuracy = 0.680, F1-score = 0.680\n",
      "C = 1.00, Accuracy = 0.685, F1-score = 0.687\n",
      "C = 0.10, Accuracy = 0.695, F1-score = 0.700\n",
      "C = 0.01, Accuracy = 0.705, F1-score = 0.704\n"
     ]
    }
   ],
   "source": [
    "c_values = [100, 10, 1.0, 0.1, 0.01]\n",
    "for c in c_values:\n",
    "    model_log_reg2 = LogisticRegression(C = c, max_iter = 5000)\n",
    "    model_log_reg2.fit(x_train,y_train)\n",
    "    y_pred_test = model_log_reg2.predict(x_test)\n",
    "    acc = accuracy_score(y_test, y_pred_test)\n",
    "    f1 = f1_score(y_test, y_pred_test)\n",
    "    print(\"C = %.2f, Accuracy = %.3f, F1-score = %.3f\" % (c, acc, f1))"
   ]
  },
  {
   "cell_type": "code",
   "execution_count": 109,
   "id": "512230be",
   "metadata": {},
   "outputs": [
    {
     "name": "stdout",
     "output_type": "stream",
     "text": [
      "Logistic Regression Accuracy in Task 2= 0.705, F1-score = 0.704\n"
     ]
    }
   ],
   "source": [
    "model_log_reg2 = LogisticRegression(C = 0.01, max_iter = 5000)\n",
    "model_log_reg2.fit(x_train,y_train)\n",
    "y_pred_test = model_log_reg2.predict(x_test)\n",
    "acc = accuracy_score(y_test, y_pred_test)\n",
    "f1 = f1_score(y_test, y_pred_test)\n",
    "print(\"Logistic Regression Accuracy in Task 2= %.3f, F1-score = %.3f\"% (acc, f1))\n",
    "y_pred_task2 = y_pred_test.copy()"
   ]
  },
  {
   "cell_type": "code",
   "execution_count": 110,
   "id": "0cf751b6",
   "metadata": {},
   "outputs": [
    {
     "name": "stdout",
     "output_type": "stream",
     "text": [
      "Model = Logistic Regression\n",
      "For Task 1 : Accuracy = 0.716, Precision = 0.720, Recall = 0.691, F1-score = 0.705\n",
      "For Task 2 : Accuracy = 0.705, Precision = 0.722, Recall = 0.686, F1-score = 0.704\n"
     ]
    }
   ],
   "source": [
    "from sklearn.metrics import precision_score, recall_score, classification_report, f1_score, confusion_matrix, accuracy_score\n",
    "import seaborn as sns\n",
    "import matplotlib.pyplot as plt\n",
    "\n",
    "print(\"Model = Logistic Regression\")\n",
    "print(\"For Task 1 : Accuracy = %.3f, Precision = %.3f, Recall = %.3f, F1-score = %.3f\" \n",
    "      % (accuracy_score(y_test_task1, y_pred_task1), precision_score(y_test_task1, y_pred_task1),\n",
    "        recall_score(y_test_task1, y_pred_task1), f1_score(y_test_task1, y_pred_task1)))\n",
    "print(\"For Task 2 : Accuracy = %.3f, Precision = %.3f, Recall = %.3f, F1-score = %.3f\" \n",
    "      % (accuracy_score(y_test_task2, y_pred_task2), precision_score(y_test_task2, y_pred_task2),\n",
    "        recall_score(y_test_task2, y_pred_task2), f1_score(y_test_task2, y_pred_task2)))"
   ]
  },
  {
   "cell_type": "code",
   "execution_count": 111,
   "id": "617b9a44",
   "metadata": {},
   "outputs": [
    {
     "data": {
      "image/png": "[encoded data removed]",
      "text/plain": [
       "<Figure size 432x288 with 2 Axes>"
      ]
     },
     "metadata": {
      "needs_background": "light"
     },
     "output_type": "display_data"
    }
   ],
   "source": [
    "conf_matrix_task1 = confusion_matrix(y_test_task1, y_pred_task1)\n",
    "plt.title(\"Confusion Matrix for Task 1\")\n",
    "sns.heatmap(conf_matrix_task1, annot=True, fmt=\"\")\n",
    "plt.show()"
   ]
  },
  {
   "cell_type": "code",
   "execution_count": 112,
   "id": "ad00a06d",
   "metadata": {},
   "outputs": [
    {
     "data": {
      "image/png": "[encoded data removed]",
      "text/plain": [
       "<Figure size 432x288 with 2 Axes>"
      ]
     },
     "metadata": {
      "needs_background": "light"
     },
     "output_type": "display_data"
    }
   ],
   "source": [
    "conf_matrix_task2 = confusion_matrix(y_test_task2, y_pred_task2)\n",
    "plt.title(\"Confusion Matrix for Task 2\")\n",
    "sns.heatmap(conf_matrix_task2, annot=True, fmt=\"\")\n",
    "plt.show()"
   ]
  },
  {
   "cell_type": "markdown",
   "id": "34392881",
   "metadata": {},
   "source": [
    "## Task 3"
   ]
  },
  {
   "cell_type": "code",
   "execution_count": 113,
   "id": "2d3d58ca",
   "metadata": {},
   "outputs": [],
   "source": [
    "# fetching same data as Task 1\n",
    "from sklearn.metrics import accuracy_score, f1_score\n",
    "from sklearn.model_selection import train_test_split\n",
    "from sklearn.linear_model import LogisticRegression\n",
    "\n",
    "train_data = pd.read_csv(\"cardio-train.csv\", sep=\";\")\n",
    "validation_data = pd.read_csv(\"cardio-validation.csv\", sep=\",\")\n",
    "train_data = preprocess(train_data)\n",
    "validation_data = preprocess(validation_data)\n",
    "y_train = train_data.loc[:,\"cardio\"]\n",
    "x_train = train_data.drop(\"cardio\", 1)\n",
    "y_test = validation_data.loc[:,\"cardio\"]\n",
    "x_test = validation_data.drop(\"cardio\", 1)"
   ]
  },
  {
   "cell_type": "code",
   "execution_count": 114,
   "id": "65785003",
   "metadata": {},
   "outputs": [
    {
     "data": {
      "text/plain": [
       "78"
      ]
     },
     "execution_count": 114,
     "metadata": {},
     "output_type": "execute_result"
    }
   ],
   "source": [
    "from sklearn.preprocessing import PolynomialFeatures\n",
    "poly = PolynomialFeatures(degree=2)\n",
    "x_train_poly2 = poly.fit_transform(x_train)\n",
    "x_test_poly2 = poly.fit_transform(x_test)\n",
    "len(x_train_poly2[0])"
   ]
  },
  {
   "cell_type": "code",
   "execution_count": 115,
   "id": "d1920657",
   "metadata": {},
   "outputs": [
    {
     "name": "stdout",
     "output_type": "stream",
     "text": [
      "Logistic Regression Accuracy in Task 3 (degree = 2) = 0.692, F1-score = 0.662\n",
      "train accuracy with degree 2:  0.736\n",
      "test accuracy with degree 2:  0.692\n"
     ]
    }
   ],
   "source": [
    "model_log_reg3_poly2 = LogisticRegression(max_iter = 50000)\n",
    "model_log_reg3_poly2.fit(x_train_poly2,y_train)\n",
    "y_pred_train = model_log_reg3_poly2.predict(x_train_poly2)\n",
    "y_pred_test = model_log_reg3_poly2.predict(x_test_poly2)\n",
    "acc = accuracy_score(y_test, y_pred_test)\n",
    "f1 = f1_score(y_test, y_pred_test)\n",
    "print(\"Logistic Regression Accuracy in Task 3 (degree = 2) = %.3f, F1-score = %.3f\"% (acc, f1))\n",
    "print(\"train accuracy with degree 2: \", accuracy_score(y_train,y_pred_train.round()))\n",
    "print(\"test accuracy with degree 2: \", accuracy_score(y_test,y_pred_test.round()))"
   ]
  },
  {
   "cell_type": "code",
   "execution_count": 116,
   "id": "cab612bf",
   "metadata": {},
   "outputs": [
    {
     "data": {
      "text/plain": [
       "364"
      ]
     },
     "execution_count": 116,
     "metadata": {},
     "output_type": "execute_result"
    }
   ],
   "source": [
    "poly_more = PolynomialFeatures(degree=3)\n",
    "x_train_poly_more = poly_more.fit_transform(x_train)\n",
    "x_test_poly_more = poly_more.fit_transform(x_test)\n",
    "len(x_train_poly_more[0])"
   ]
  },
  {
   "cell_type": "code",
   "execution_count": 117,
   "id": "9bb4fd94",
   "metadata": {},
   "outputs": [
    {
     "name": "stdout",
     "output_type": "stream",
     "text": [
      "Logistic Regression Accuracy in Task 3 (degree = 3) = 0.672, F1-score = 0.647\n",
      "train accuracy with degree 3:  0.792\n",
      "test accuracy with degree 3:  0.672\n"
     ]
    },
    {
     "name": "stderr",
     "output_type": "stream",
     "text": [
      "/Library/Frameworks/Python.framework/Versions/3.8/lib/python3.8/site-packages/sklearn/linear_model/_logistic.py:763: ConvergenceWarning: lbfgs failed to converge (status=1):\n",
      "STOP: TOTAL NO. of f AND g EVALUATIONS EXCEEDS LIMIT.\n",
      "\n",
      "Increase the number of iterations (max_iter) or scale the data as shown in:\n",
      "    https://scikit-learn.org/stable/modules/preprocessing.html\n",
      "Please also refer to the documentation for alternative solver options:\n",
      "    https://scikit-learn.org/stable/modules/linear_model.html#logistic-regression\n",
      "  n_iter_i = _check_optimize_result(\n"
     ]
    }
   ],
   "source": [
    "model_log_reg3_poly_more = LogisticRegression(max_iter = 50000)\n",
    "model_log_reg3_poly_more.fit(x_train_poly_more,y_train)\n",
    "y_pred_train = model_log_reg3_poly_more.predict(x_train_poly_more)\n",
    "y_pred_test = model_log_reg3_poly_more.predict(x_test_poly_more)\n",
    "acc = accuracy_score(y_test, y_pred_test)\n",
    "f1 = f1_score(y_test, y_pred_test)\n",
    "print(\"Logistic Regression Accuracy in Task 3 (degree = 3) = %.3f, F1-score = %.3f\"% (acc, f1))\n",
    "print(\"train accuracy with degree 3: \", accuracy_score(y_train,y_pred_train.round()))\n",
    "print(\"test accuracy with degree 3: \", accuracy_score(y_test,y_pred_test.round()))"
   ]
  },
  {
   "cell_type": "code",
   "execution_count": 119,
   "id": "a9c23eff",
   "metadata": {},
   "outputs": [],
   "source": [
    "from sklearn.model_selection import learning_curve\n",
    "# Reference: https://scikit-learn.org/stable/auto_examples/model_selection/plot_learning_curve.html\n",
    "def plot_learning_curve(estimator, title, X, y, axes=None, ylim=None, cv=None,\n",
    "                        n_jobs=None, train_sizes=np.linspace(.1, 1.0, 5)):\n",
    "\n",
    "    if axes is None:\n",
    "        _, axes = plt.subplots(1, 1, figsize=(10, 5))\n",
    "\n",
    "    axes.set_title(title)\n",
    "    if ylim is not None:\n",
    "        axes.set_ylim(*ylim)\n",
    "    axes.set_xlabel(\"Training examples\")\n",
    "    axes.set_ylabel(\"Score\")\n",
    "\n",
    "    train_sizes, train_scores, test_scores, fit_times, _ = \\\n",
    "        learning_curve(estimator, X, y, cv=cv, n_jobs=n_jobs,\n",
    "                       train_sizes=train_sizes,\n",
    "                       return_times=True)\n",
    "    train_scores_mean = np.mean(train_scores, axis=1)\n",
    "    train_scores_std = np.std(train_scores, axis=1)\n",
    "    test_scores_mean = np.mean(test_scores, axis=1)\n",
    "    test_scores_std = np.std(test_scores, axis=1)\n",
    "    fit_times_mean = np.mean(fit_times, axis=1)\n",
    "    fit_times_std = np.std(fit_times, axis=1)\n",
    "\n",
    "    # Plot learning curve\n",
    "    axes.grid()\n",
    "    axes.fill_between(train_sizes, train_scores_mean - train_scores_std,\n",
    "                         train_scores_mean + train_scores_std, alpha=0.1,\n",
    "                         color=\"r\")\n",
    "    axes.fill_between(train_sizes, test_scores_mean - test_scores_std,\n",
    "                         test_scores_mean + test_scores_std, alpha=0.1,\n",
    "                         color=\"g\")\n",
    "    axes.plot(train_sizes, train_scores_mean, 'o-', color=\"r\",\n",
    "                 label=\"Training score\")\n",
    "    axes.plot(train_sizes, test_scores_mean, 'o-', color=\"g\",\n",
    "                 label=\"Cross-validation score\")\n",
    "    axes.legend(loc=\"best\")\n",
    "\n",
    "    return plt"
   ]
  },
  {
   "cell_type": "code",
   "execution_count": 120,
   "id": "2576ef82",
   "metadata": {},
   "outputs": [
    {
     "data": {
      "image/png": "[encoded data removed]",
      "text/plain": [
       "<Figure size 720x360 with 1 Axes>"
      ]
     },
     "metadata": {
      "needs_background": "light"
     },
     "output_type": "display_data"
    }
   ],
   "source": [
    "title = r\"Learning Curves for TASK 3 by applying polynomial feature transformation with degree = 2\"\n",
    "model_log_reg3 = LogisticRegression(max_iter = 50000)\n",
    "plot_learning_curve(model_log_reg3, title, x_train_poly2, y_train, n_jobs=-1)\n",
    "plt.show()"
   ]
  },
  {
   "cell_type": "code",
   "execution_count": 121,
   "id": "dbb8bf57",
   "metadata": {},
   "outputs": [
    {
     "data": {
      "image/png": "[encoded data removed]",
      "text/plain": [
       "<Figure size 720x360 with 1 Axes>"
      ]
     },
     "metadata": {
      "needs_background": "light"
     },
     "output_type": "display_data"
    }
   ],
   "source": [
    "title = r\"Learning Curves for TASK 3 by applying polynomial feature transformation with degree = 3\"\n",
    "model_log_reg3_poly_more = LogisticRegression(max_iter = 50000)\n",
    "plot_learning_curve(model_log_reg3_poly_more, title, x_train_poly_more, y_train, n_jobs=-1)\n",
    "plt.show()"
   ]
  },
  {
   "cell_type": "markdown",
   "id": "188e0885",
   "metadata": {},
   "source": [
    "- train accuracy with degree 2:  0.736\n",
    "- test accuracy with degree 2:  0.692\n",
    "- train accuracy with degree 3:  0.792\n",
    "- test accuracy with degree 3:  0.672\n",
    "\n",
    "\n",
    "From the above data, we can see a bigger difference between train and test accuracy when the degree 3, this indicates OVERFITTING."
   ]
  }
 ],
 "metadata": {
  "kernelspec": {
   "display_name": "Python 3",
   "language": "python",
   "name": "python3"
  },
  "language_info": {
   "codemirror_mode": {
    "name": "ipython",
    "version": 3
   },
   "file_extension": ".py",
   "mimetype": "text/x-python",
   "name": "python",
   "nbconvert_exporter": "python",
   "pygments_lexer": "ipython3",
   "version": "3.8.8"
  }
 },
 "nbformat": 4,
 "nbformat_minor": 5
}
